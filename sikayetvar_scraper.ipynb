{
 "cells": [
  {
   "cell_type": "code",
   "execution_count": 94,
   "id": "initial_id",
   "metadata": {
    "collapsed": true,
    "ExecuteTime": {
     "end_time": "2023-10-30T16:40:32.704474Z",
     "start_time": "2023-10-30T16:40:32.695648Z"
    }
   },
   "outputs": [],
   "source": [
    "import requests\n",
    "from bs4 import BeautifulSoup as soup\n",
    "import pandas as pd\n",
    "from mintlemon import normalizer\n",
    "import matplotlib.pyplot as plt\n",
    "import time\n",
    "from collections import Counter\n",
    "import string\n",
    "import matplotlib.pyplot as plt\n",
    "from PIL import Image, ImageDraw, ImageFont\n",
    "import random"
   ]
  },
  {
   "cell_type": "code",
   "execution_count": 28,
   "outputs": [],
   "source": [
    "\n",
    "def get_soup(url):\n",
    "    headers = {\n",
    "        'User-Agent': 'Mozilla/5.0 (Windows NT 10.0; Win64; x64) AppleWebKit/537.36 (KHTML, like Gecko) Chrome/91.0.4472.124 Safari/537.36'}\n",
    "    response = requests.get(url, headers=headers)\n",
    "    return soup(response.content, 'html.parser') if response.status_code == 200 else None\n",
    "\n",
    "domain = 'https://www.sikayetvar.com/odeal?page='\n",
    "\n"
   ],
   "metadata": {
    "collapsed": false,
    "ExecuteTime": {
     "end_time": "2023-10-30T16:01:28.242370Z",
     "start_time": "2023-10-30T16:01:28.239362Z"
    }
   },
   "id": "6fc709bfa7b40577"
  },
  {
   "cell_type": "code",
   "execution_count": 51,
   "outputs": [
    {
     "name": "stdout",
     "output_type": "stream",
     "text": [
      "Processing page 1...\n",
      "Processing page 2...\n",
      "Hata 'NoneType' object has no attribute 'text'\n",
      "Processing page 3...\n",
      "Hata 'NoneType' object has no attribute 'text'\n",
      "Processing page 4...\n",
      "Hata 'NoneType' object has no attribute 'text'\n",
      "Processing page 5...\n",
      "Hata 'NoneType' object has no attribute 'text'\n",
      "Processing page 6...\n",
      "Hata 'NoneType' object has no attribute 'text'\n",
      "Processing page 7...\n",
      "Hata 'NoneType' object has no attribute 'text'\n",
      "Processing page 8...\n",
      "Processing page 9...\n",
      "Hata 'NoneType' object has no attribute 'text'\n",
      "Processing page 10...\n",
      "Hata 'NoneType' object has no attribute 'text'\n",
      "Processing page 11...\n",
      "Hata 'NoneType' object has no attribute 'text'\n",
      "Processing page 12...\n",
      "Hata 'NoneType' object has no attribute 'text'\n",
      "Processing page 13...\n",
      "Hata 'NoneType' object has no attribute 'text'\n",
      "Processing page 14...\n",
      "Processing page 15...\n",
      "Processing page 16...\n",
      "Processing page 17...\n",
      "Processing page 18...\n",
      "Processing page 19...\n",
      "Processing page 20...\n"
     ]
    }
   ],
   "source": [
    "\n",
    "complaints = []\n",
    "solved_complaints = []\n",
    "\n",
    "for page_number in range(1, 25):\n",
    "    try:\n",
    "        print(f\"Processing page {page_number}...\")\n",
    "        current_soup = get_soup(domain + str(page_number))\n",
    "    \n",
    "        # Çözülememiş Şikayetler\n",
    "        for complaint in current_soup.select('.card-v2.ga-v.ga-c'):\n",
    "            title = complaint.select_one('.complaint-title a').text.strip()\n",
    "            description = complaint.select_one('.complaint-description').text.strip()\n",
    "            complaints.append([title, description])\n",
    "    \n",
    "        # Çözülmüş şikayetler\n",
    "        for solved_complaint in current_soup.select('.card-v2.solved.ga-v.ga-c'):\n",
    "            title = solved_complaint.select_one('.complaint-title a').text.strip()\n",
    "            description = solved_complaint.select_one('.complaint-description').text.strip()\n",
    "            solved_complaints.append([title, description])\n",
    "    \n",
    "        time.sleep(20)\n",
    "    except Exception as ex:\n",
    "        print('Hata', ex)\n"
   ],
   "metadata": {
    "collapsed": false,
    "ExecuteTime": {
     "end_time": "2023-10-30T16:15:24.562552Z",
     "start_time": "2023-10-30T16:12:19.178803Z"
    }
   },
   "id": "56d82499c5852031"
  },
  {
   "cell_type": "code",
   "execution_count": 53,
   "outputs": [],
   "source": [
    "complaint_df = pd.DataFrame(complaints, columns=[\"Title\", \"Description\"])\n",
    "solved_df = pd.DataFrame(solved_complaints, columns=[\"Title\", \"Description\"])"
   ],
   "metadata": {
    "collapsed": false,
    "ExecuteTime": {
     "end_time": "2023-10-30T16:15:59.365190Z",
     "start_time": "2023-10-30T16:15:59.347197Z"
    }
   },
   "id": "7c84d381b78d7258"
  },
  {
   "cell_type": "code",
   "execution_count": 54,
   "outputs": [
    {
     "data": {
      "text/plain": "                                                 Title  \\\n0    Ödeal 4 Aygır Arızalı Cihaz Ve Sorunlu Müşteri...   \n1       Öde Al Pişmanlığı Muhatap Yok Sorun Çözülmüyor   \n2             Ödeal Haberim Olmadan İptal İşlemi Yaptı   \n3                           Pax Marka Ödeal Pos Cihazı   \n4                             Ödeal Pos Cihazı Kapatma   \n..                                                 ...   \n233            Ödeal Ödeme Kuruluşu Müşteri Hizmetleri   \n234                 Ödeal Pos İptali İçin Aramıyorlar.   \n235                 Ödeal Param Hala Hesabıma Geçmedi.   \n236                                  Ödeal Mağduriyeti   \n237   Ödeal Komisyon Ücreti ve Gününde Ödeme Yapmaması   \n\n                                           Description  \n0    Cihaz 4 aygır arızalı müşteri hizmetleri sürek...  \n1    Pos cihazını verirken işlem yaparken bir sürü ...  \n2    Benim sanal postumu nasıl iptal edersiniz beni...  \n3    Merhaba pax a920pro marka iki adet Ödeal Pos c...  \n4    Pos cihazınızı kullanıyoruz. Dükkanımı kapatac...  \n..                                                 ...  \n233  Yaklaşık 6 aydır Ödeal ödeme kuruluşu pos olar...  \n234  Ödeal sisteminden bir pos bağlatmak istedik, b...  \n235  Odealdan pos cihazı aldım şeker kart istedim. ...  \n236  Ödeal kuruluşuna pos başvurusunda bulundum Şek...  \n237  Ödeal firmasından düşük komisyonlar anlaşarak ...  \n\n[238 rows x 2 columns]",
      "text/html": "<div>\n<style scoped>\n    .dataframe tbody tr th:only-of-type {\n        vertical-align: middle;\n    }\n\n    .dataframe tbody tr th {\n        vertical-align: top;\n    }\n\n    .dataframe thead th {\n        text-align: right;\n    }\n</style>\n<table border=\"1\" class=\"dataframe\">\n  <thead>\n    <tr style=\"text-align: right;\">\n      <th></th>\n      <th>Title</th>\n      <th>Description</th>\n    </tr>\n  </thead>\n  <tbody>\n    <tr>\n      <th>0</th>\n      <td>Ödeal 4 Aygır Arızalı Cihaz Ve Sorunlu Müşteri...</td>\n      <td>Cihaz 4 aygır arızalı müşteri hizmetleri sürek...</td>\n    </tr>\n    <tr>\n      <th>1</th>\n      <td>Öde Al Pişmanlığı Muhatap Yok Sorun Çözülmüyor</td>\n      <td>Pos cihazını verirken işlem yaparken bir sürü ...</td>\n    </tr>\n    <tr>\n      <th>2</th>\n      <td>Ödeal Haberim Olmadan İptal İşlemi Yaptı</td>\n      <td>Benim sanal postumu nasıl iptal edersiniz beni...</td>\n    </tr>\n    <tr>\n      <th>3</th>\n      <td>Pax Marka Ödeal Pos Cihazı</td>\n      <td>Merhaba pax a920pro marka iki adet Ödeal Pos c...</td>\n    </tr>\n    <tr>\n      <th>4</th>\n      <td>Ödeal Pos Cihazı Kapatma</td>\n      <td>Pos cihazınızı kullanıyoruz. Dükkanımı kapatac...</td>\n    </tr>\n    <tr>\n      <th>...</th>\n      <td>...</td>\n      <td>...</td>\n    </tr>\n    <tr>\n      <th>233</th>\n      <td>Ödeal Ödeme Kuruluşu Müşteri Hizmetleri</td>\n      <td>Yaklaşık 6 aydır Ödeal ödeme kuruluşu pos olar...</td>\n    </tr>\n    <tr>\n      <th>234</th>\n      <td>Ödeal Pos İptali İçin Aramıyorlar.</td>\n      <td>Ödeal sisteminden bir pos bağlatmak istedik, b...</td>\n    </tr>\n    <tr>\n      <th>235</th>\n      <td>Ödeal Param Hala Hesabıma Geçmedi.</td>\n      <td>Odealdan pos cihazı aldım şeker kart istedim. ...</td>\n    </tr>\n    <tr>\n      <th>236</th>\n      <td>Ödeal Mağduriyeti</td>\n      <td>Ödeal kuruluşuna pos başvurusunda bulundum Şek...</td>\n    </tr>\n    <tr>\n      <th>237</th>\n      <td>Ödeal Komisyon Ücreti ve Gününde Ödeme Yapmaması</td>\n      <td>Ödeal firmasından düşük komisyonlar anlaşarak ...</td>\n    </tr>\n  </tbody>\n</table>\n<p>238 rows × 2 columns</p>\n</div>"
     },
     "execution_count": 54,
     "metadata": {},
     "output_type": "execute_result"
    }
   ],
   "source": [
    "complaint_df"
   ],
   "metadata": {
    "collapsed": false,
    "ExecuteTime": {
     "end_time": "2023-10-30T16:16:00.372665Z",
     "start_time": "2023-10-30T16:16:00.359675Z"
    }
   },
   "id": "ad6cce67f3d3b5c7"
  },
  {
   "cell_type": "code",
   "execution_count": 55,
   "outputs": [
    {
     "data": {
      "text/plain": "                                                Title  \\\n0            Ödeal Haberim Olmadan İptal İşlemi Yaptı   \n1                            Ödeal Pos Cihazı Kapatma   \n2                           Ödeal Herkes İşini Yapsın   \n3                         Ödeal Pos Makinesi Şikayeti   \n4                       Ödeal Aylardır Kartım Gelmedi   \n..                                                ...   \n94  Ödeal Findeks Puanım Az Diye Pos Makinesi Verm...   \n95            Ödeal Ödeme Kuruluşu Müşteri Hizmetleri   \n96                 Ödeal Pos İptali İçin Aramıyorlar.   \n97                 Ödeal Param Hala Hesabıma Geçmedi.   \n98   Ödeal Komisyon Ücreti ve Gününde Ödeme Yapmaması   \n\n                                          Description  \n0   Benim sanal postumu nasıl iptal edersiniz beni...  \n1   Pos cihazınızı kullanıyoruz. Dükkanımı kapatac...  \n2   Ödeal dan 4 Ekimde cihaz almak için başvuru ya...  \n3   Ödeal dan şikayetçiyim. Müşteri temsilcimizim ...  \n4   Şeker Kart kampanyası ile Ödeal kullanmaya baş...  \n..                                                ...  \n94  Ödeal Grup Şirketlerinden Vadeli pos makinesi ...  \n95  Yaklaşık 6 aydır Ödeal ödeme kuruluşu pos olar...  \n96  Ödeal sisteminden bir pos bağlatmak istedik, b...  \n97  Odealdan pos cihazı aldım şeker kart istedim. ...  \n98  Ödeal firmasından düşük komisyonlar anlaşarak ...  \n\n[99 rows x 2 columns]",
      "text/html": "<div>\n<style scoped>\n    .dataframe tbody tr th:only-of-type {\n        vertical-align: middle;\n    }\n\n    .dataframe tbody tr th {\n        vertical-align: top;\n    }\n\n    .dataframe thead th {\n        text-align: right;\n    }\n</style>\n<table border=\"1\" class=\"dataframe\">\n  <thead>\n    <tr style=\"text-align: right;\">\n      <th></th>\n      <th>Title</th>\n      <th>Description</th>\n    </tr>\n  </thead>\n  <tbody>\n    <tr>\n      <th>0</th>\n      <td>Ödeal Haberim Olmadan İptal İşlemi Yaptı</td>\n      <td>Benim sanal postumu nasıl iptal edersiniz beni...</td>\n    </tr>\n    <tr>\n      <th>1</th>\n      <td>Ödeal Pos Cihazı Kapatma</td>\n      <td>Pos cihazınızı kullanıyoruz. Dükkanımı kapatac...</td>\n    </tr>\n    <tr>\n      <th>2</th>\n      <td>Ödeal Herkes İşini Yapsın</td>\n      <td>Ödeal dan 4 Ekimde cihaz almak için başvuru ya...</td>\n    </tr>\n    <tr>\n      <th>3</th>\n      <td>Ödeal Pos Makinesi Şikayeti</td>\n      <td>Ödeal dan şikayetçiyim. Müşteri temsilcimizim ...</td>\n    </tr>\n    <tr>\n      <th>4</th>\n      <td>Ödeal Aylardır Kartım Gelmedi</td>\n      <td>Şeker Kart kampanyası ile Ödeal kullanmaya baş...</td>\n    </tr>\n    <tr>\n      <th>...</th>\n      <td>...</td>\n      <td>...</td>\n    </tr>\n    <tr>\n      <th>94</th>\n      <td>Ödeal Findeks Puanım Az Diye Pos Makinesi Verm...</td>\n      <td>Ödeal Grup Şirketlerinden Vadeli pos makinesi ...</td>\n    </tr>\n    <tr>\n      <th>95</th>\n      <td>Ödeal Ödeme Kuruluşu Müşteri Hizmetleri</td>\n      <td>Yaklaşık 6 aydır Ödeal ödeme kuruluşu pos olar...</td>\n    </tr>\n    <tr>\n      <th>96</th>\n      <td>Ödeal Pos İptali İçin Aramıyorlar.</td>\n      <td>Ödeal sisteminden bir pos bağlatmak istedik, b...</td>\n    </tr>\n    <tr>\n      <th>97</th>\n      <td>Ödeal Param Hala Hesabıma Geçmedi.</td>\n      <td>Odealdan pos cihazı aldım şeker kart istedim. ...</td>\n    </tr>\n    <tr>\n      <th>98</th>\n      <td>Ödeal Komisyon Ücreti ve Gününde Ödeme Yapmaması</td>\n      <td>Ödeal firmasından düşük komisyonlar anlaşarak ...</td>\n    </tr>\n  </tbody>\n</table>\n<p>99 rows × 2 columns</p>\n</div>"
     },
     "execution_count": 55,
     "metadata": {},
     "output_type": "execute_result"
    }
   ],
   "source": [
    "solved_df"
   ],
   "metadata": {
    "collapsed": false,
    "ExecuteTime": {
     "end_time": "2023-10-30T16:16:02.103803Z",
     "start_time": "2023-10-30T16:16:02.082407Z"
    }
   },
   "id": "e20a498f6cc6b709"
  },
  {
   "cell_type": "code",
   "execution_count": 56,
   "outputs": [
    {
     "name": "stdout",
     "output_type": "stream",
     "text": [
      "<class 'pandas.core.frame.DataFrame'>\n",
      "RangeIndex: 99 entries, 0 to 98\n",
      "Data columns (total 2 columns):\n",
      " #   Column       Non-Null Count  Dtype \n",
      "---  ------       --------------  ----- \n",
      " 0   Title        99 non-null     object\n",
      " 1   Description  99 non-null     object\n",
      "dtypes: object(2)\n",
      "memory usage: 1.7+ KB\n"
     ]
    }
   ],
   "source": [
    "solved_df.info()"
   ],
   "metadata": {
    "collapsed": false,
    "ExecuteTime": {
     "end_time": "2023-10-30T16:16:04.257829Z",
     "start_time": "2023-10-30T16:16:04.236914Z"
    }
   },
   "id": "edea63ea45ee9926"
  },
  {
   "cell_type": "code",
   "execution_count": 57,
   "outputs": [
    {
     "name": "stdout",
     "output_type": "stream",
     "text": [
      "<class 'pandas.core.frame.DataFrame'>\n",
      "RangeIndex: 238 entries, 0 to 237\n",
      "Data columns (total 2 columns):\n",
      " #   Column       Non-Null Count  Dtype \n",
      "---  ------       --------------  ----- \n",
      " 0   Title        238 non-null    object\n",
      " 1   Description  238 non-null    object\n",
      "dtypes: object(2)\n",
      "memory usage: 3.8+ KB\n"
     ]
    }
   ],
   "source": [
    "complaint_df.info()"
   ],
   "metadata": {
    "collapsed": false,
    "ExecuteTime": {
     "end_time": "2023-10-30T16:16:06.094170Z",
     "start_time": "2023-10-30T16:16:05.938580Z"
    }
   },
   "id": "94012f309f32ea82"
  },
  {
   "cell_type": "code",
   "execution_count": 89,
   "outputs": [],
   "source": [
    "solved_texts = \" \".join(normalizer.Normalizer.remove_punctuations(normalizer.Normalizer.remove_numbers(normalizer.Normalizer.remove_stopwords(solved))) for solved in solved_df[\"Description\"])\n"
   ],
   "metadata": {
    "collapsed": false,
    "ExecuteTime": {
     "end_time": "2023-10-30T16:38:15.479315Z",
     "start_time": "2023-10-30T16:38:15.445413Z"
    }
   },
   "id": "bde2d74446aa4afb"
  },
  {
   "cell_type": "code",
   "execution_count": 90,
   "outputs": [
    {
     "data": {
      "text/plain": "'sanal postumu iptal edersiniz onayım olmadan dönüş yapılmıyor saçmalık acil çözüm yapın müşterilerime sonuç Pos cihazınızı kullanıyoruz Dükkanımı kapatacağım pos cihazlarınızı kapatmak istiyorum Arıyorum kendilerinin yapamayacaklarını arayacaklarını söyled Ödeal Ekimde cihaz almak başvuru yaptım Ekim arayan soran saha elemanı M Y ulaşmak zor Satış iyiler sonr Ödeal şikayetçiyim Müşteri temsilcimizim dediği söyledi yanlış aydır çekilen posun parasını alamıyoruz Şeker Kart kampanyası Ödeal kullanmaya başladım İŞ günü içerisinde kartımın geleceği söylendi ay olmasına kartım ulaşmadı Haziran te Ödeala kayıt yaptırdım gün sorunsuz kullanabildim Bonus karttan çekim yapana kadar Bonus karta taksit Ödeal Grup Şirketlerinden Vadeli pos makinesi satın almak başvuru yaptım özel kişisel bilgilerimi vergi levhamı sözleşmeyi doldurup Yaklaşık aydır Ödeal ödeme kuruluşu pos çalışıyorum Yaklaşık ay kızımın adına işletmemi adıma almak istedim Telefon Ödeal sisteminden pos bağlatmak istedik bağlamak bilgi veren çalışanınız earşiv fatura sistemine geçeceğimizi bild Odealdan pos cihazı aldım şeker kart istedim Gelmedi hesabıma yatırın diyelim hafta hesabıma geçmedi Yetkililerden yardım istiyorum yoks Ödeal firmasından düşük komisyonlar anlaşarak yazar kasa pos satın aldım süre düşük komisyonla çalıştıktan son zamanlarda pos oranı Ödeal verilen Android postlar müşteride dükkanda çekmiyor Üstelik çalışan makineleri götürdüler çalışmayanları verdiler aydır Ödeal firmasının pos cihazını kullanıyorum Halkbank  posa yüklü olmasına bankalardan çekim işlem yapabiliyorum taksitli işlem yap Merhaba kafem Ödeal pos cihazı kullanıyorum tarihinde kullanmaya başladım Çekim ücreti hesabıma düşmüyor sürekli aramam Ödeal şirket yetkilisiyle görüştükten kullanmaya karar verdik fatura pos cihazıyla kullanıma başladık  Şikayetim  banka kartla tarihinde Hepsiburada üzerinden yazarkasa pos satın aldım gün içi dönüş yapılıp perşembe cuma cumartesi yerinize ziyaret ed Öde Al POS çalışıyorum müşterilerimin kredi kartı ödemeleri ertesi gün hesabıma yatırmıyorlar Şikayet ettim talepte bulundum Ödeal sade pos cihazımız yaklaşık aydır versiyon hatası verip arızalı Defalarca aramamıza değişim yapılacağı söylenip gelmiyorlar Ödeme ala Ödeal pos gönderecekti Aradan ay geçti Gelen mesajda aylık aidat ödememin yazıyordu Firmayı aradım Bende pos cihazı olmadığı Ödeal firmasından taksit yapan pos cihazı aldım Pos cihazı hafta içerisinde arıza yaptı Cihaz servis ay teslim alındı gün i Ödeal İngenico ortak müşteri çarpma sistemi Ödeal gelen saha çalışanı İngenico ef marka pos cihazı verdi Ödeal satış sistemin Giresun sanayi sitesinde faaliyet gösteren earşive tabi küçük esnafız tarihinde yerimize gelen Ödeal firma çalışanı elind Ödeal eşimin yeri yazar kasasında yüklüydü depremle yerimiz yıkıldı enkazı kaldırıldı ilde yeri açtık bu Ödeal anlaşmalı Profilo yazar kasa sorunu yaşıyorum Resmen yerimde sürü müşteri kaybettim Aradım pazartesi geleceklerini söylediler Ödeal Yaklaşık aydır iptal edilmedi Posum faturadan arşive geçiş yapacağım görüşmemde bugün yarin bugün yarin sallıyorlar alır EFatura entegrasyonu sorunlar yaşıyorum Gelen faturaları göremiyorum iptal edemiyorum Adıma fatura kesilse haberim olmuyor Muhat saçma sistem basını yakmasın ödemeler geç geliyor parça parça sistem arızası bitmiyor üyelik iptali yaptım pos kilidini kaldırm Ödeal dan gündür tahsilat parayı hesabıma yatırmadılar Arıyorum arayacaklar deyip duruyorlar sözde is günü yatacaktı Ödeal firması cepte pos uygulaması işletmem adına Kasım tarihlerinde komisyon kampanyasına istinaden müşterilerimden tahsilat yaptım Ben Ödeal k Kartı geçtim hesap ba geçmesi gerekiyor Arıyorum dakika sırada bekledikten çıkan kişiler bir Ödeal Profilo cihaz çekim sağlamıyor ticari zararım mevcut kayıt oluşturduk dönüş sağlanmadı gün içerisinde dönüş sağlanmaması durumunda Tüketic ÖDEAL Üzerinden Bilgim Dışında şahsıma kredi kartı farklı kişi harcamaya itiraz etmeme gün iade edilecek dön Pos cihazı satışı söylenilen sonrasında söylenilen birbirini tutmuyor başta istediğimiz bedel ödemeden çıkabileceğimi Pos cihazı kullanıyorum paralar hesaba geç düşüyor ertesi gün sabah yapacağım ödemelerinizi yapamıyorum zor durumda kalıyorum bun Ödeal pos cihazı son haftadır gün sıkıntı çıkarmakta gün güncelleme yapıyorlarmış çekim yapamıyoruz bugünde saat çekim i Ödeal sisteminden ayrılmak istedim sözleşmemi fes ettim istedikleri evrakları gönderdim haftadır yazarkasa pos cihazımdan bankaları silmediler arıyo Hayatımda gördüğüm kötü sistem kartan çekim olunca parayı askıya alıyorsunuz paraları geç yatıyorsunuz eksik yatırıyorsunuz diy aydır Ödeal firmasının pos cihazını kullanıyorum çekilen tutar iş gününde hesabınızda dediler Ayın sinde çektiğim tutar hesabıma transfer olmam Merhaba Ödeal aracılığıyla almış olduğum ingenico movef cihazı bankalarımız olmayacak anlaşıp aldık cihaz geldiğin Ödeal çektirmiş olduğum TL tutarı hesabıma aktarmıyorlar defalarca aramamıza defasında bilgi veriliyor haftadan Ödeal şirketinden yazarkasa pos aldım Anlaşmada hafta içi hafta sonu pazartesi den ödemeler hesaplara yatacak dendi ödemelerimi zamanında alam Ödeal ingenico yazar kasa pos arızası müşteri hizmetlerine ulaşamamız cihazımız saattir hat çekiyor gösteriyor gün sonu alamıyoruz parametre Ödeal firmasından pos cihazı aldım çekilen tutarın gün sonrasında hesabıma aktarıldığını söylediler gün arayıp sormama çek Ödeal geri ödeme yaptırmıyor tarihinde pos cihazından toplam TLyi yatırmıyor gün geri ödeme dosya oluştu diyor akşam e Profilo pos cihazı aldık ay ihmalimiz fatura ödemedik mesaj geldi icra takibi başlatmışlar gemde ko süreç boyunca sorun  posu geç teslim ettiler satışlarım kaçtı zarara uğrattılar bankadan alsaydım hemen teslim alacaktım hafta so Ödeal posu cihazını iptali Aradım İptal Aranacaksınız Dediler Aranmadığım Aradık meşguldü Telefonunuz Deyip İptal Edilmiyor Aray pos cihazına başvurdum haftalar geçti Hoşgeldin araması olacak dendi arayan soran Ödeal başvurdum bankalardan almıyorum mağdu Ödeal arızalı pos cihazını değişim yapmıyor aylık ücret kesiyor servis göndermediği acil arıza bildirimi yapacaklarını sö ay almış olduğum ÖdeAl pos cihazı yoğun ödemelerimden banka telefonlarını açmadığım toplu ödememden hareket dökümüne baktığı Pos cihazı arızalı cihaz hafta bende ay tamirde bekliyor hafta çektiğim ödeme hesabıma yatmadı arıyorum defasında verdikle Ödealdan pos cihazı satın aldım üyeliğim süresi bitti yerini kapattım pos kişiye devredeceğim hallettim tanımlı ban Ürünü iade ederken sorun yaşıyorum TL büyük para ödeyemiyorum dükkanım battı pos cihazı elimde kaldı şirketi kapattığımızdan d Ödeal firmasından yazarkasa pos cihazı aldım Alırken paranı geç yatırırlar yatırmazlar geciktirirler demişlerdi inanmamıştım ay s Ödeal adında sanal pos cihazlarına baş vurdum Ürünü takip zor eksik ödeme yapıldı bildirdim durumu gün hesa Ödealdan Profilo cihaz aldık Nadire Kazova adına kitapçığında diyor ki cihazlar beraber bırakılan rulolar yıl dayanır Ödeal diyor Yazar kasa pos cihazımda aydır gün sonu eksik gösteriyor veyahutta hesabıma eksik yatıyor Müşteri hizmetleriyle görüştüğümde yalandan ban Öde al adlı firmanın yazarkasa postunu kullanıyorum Hayatımda gördüğüm ilgisiz çözüm odaksız firma Çekmiş olduğum poslar ertesi gün hesabı Ödeal çalışmaya başladığım  Gün durumu ilgisizliği fark ettim hemen çalışmak istemediğimi söyledim İptal ettirdim akabinde ay ban Yaklaşık sene cihazında Ödeal sistemini kullandım birini diğerini iptal ettirdim Son iptal ettirdiğim cihazın sinyalini kapattılar Ödeal dan yaklaşıl yıldır hizmet alıyoruz bilgisiz habersiz firma olamaz mağaza müdürü kayıtlı Ödeal firmasından almış olduğum yazarkasa pos alakalı cihazı gönderdiler ödediğim paramı verdiler Şirketime almış olduğum ingenico mar Ödeal pos cihazı aldım aydır maliye sisteminde gözükmüyor işlemlerim sonucunda aradığımda el girilmesi lazım diyor müşteri hizme aracı Ödeal a geçtik Perişan olduk Ödemeler zamanında yatmıyor Eksik yatıyor gün geçeli gün arayıp gün sonunu atıyorum d ay Ödeal yüklettim mayıstan yana kullanmıyorum devamlı yanıltıyorlar iptal etmek büyük dert dediklerini yapmama ra İngenico idecihaz aldım hafta cihaz garantiye gitti Tavsiye üzerine almıştım Cihazın üst kapağı kapanmıyor kağıda yazmıyor gü aydır Ödeal firmasının pos cihazını kullanıyorum Halkbank pos cihazında yüklü olmasına Paraf özellikli kartlardan çekim işlem yap İş yeri nonumaralı elit ev tekstiliOktay D isimli Ödeal müşterisiyim tarihinde olduğum satış hesabıma geçmedi Eczanem açıldığında yazarkasapost cihazı ihtiyacım olduğundan Yeşilce Destegül Sk NoA Kağıthaneİstanbul adresindeki  telef Ödeal vaat ettikleri yapmadılar hesabıma yatması tutarı yatırmamışlar Uygulamadan para yattı diyorlar hesabıma geçen para Ödeal sistemine tarihinde kayıt oldum günden bugüne Garanti Bankası kredi kartları çekim taksitli satış yapamıyorum gündür paramın yatmasını bekliyorum İlgilenmezsen bakmazsan paran yatmamış demiyor güven sorunu yaşıyorum an gün hafta anlarım Ödeal Axess Bonus CardFinans Paraf World karta taksitli alışveriş imkanı sunuyoruz pos cihazı verdiler pos cihazını kullanmaya çalışırken tarihinde Ödeal pos cihazı geldi Pos cihazını getiren arkadaş TL lik alışveriş alışveriş hesabına geçmedi Ödeal firmasından almış olduğumuz Pax spos cihazını yazar kasa firmamıza pos cihazında yazar kasa olmadığını açıklama yapmamıştır Dah Öde al sisteminde hafta sonu biriken lira paramı yatırmıyor Aradığımda ödemem söylüyor gün geçti ödenmed Paralar öğleden yatıyor repomu yapıyorsunuz anlamadım ödemelerim bekliyoruz para lar gelecekte bizde ödeme yapacağız inşallah kardeşim Ödeal yazar kasa aldım gün sonu hatası verdi Silip gün sonu nu firma yetkililerine göndermeme gündür netice alamadım Sürekli oyalam Yaklaşık seneyi aşkın süredir öde al pos makinasını kullanmaktayım Bugüne çıkan z raporları ile hesaba geçen para birbirini tut Ödeal hafta cuma cumartesi pazar günkü ödemelerimiz sürekli gecikiyor defalarca arıyorum gün yatırıyorlar kapatma talebi o yıldır Ödeal postunu kullanıyorum cihaz taksiti bitti ödemeler aksamaya başladı şekim yaptığımda gününde yatması tutar işleme da Satış fiyatını TL sundukları ürünü ayda TL ödemek suretiyle verdiler Faturasını ikiay gönderdiler Fatura tutarı T Ödeal firmasından sene almış olduğum yazarkasa pos cihazının taksiti ekim ayında son bulmasına TL tutar aylık kullanım bed Tarihinde öde Al firmasından Profilo marka yazarkasa pos cihazını ay taksit satın aldım Cihazı kurduklarında TL k Ödeal ödeme sistemindeki pazarlamacılardan inanarak aldığımız parasını peşin ödediğimiz Profilo yeni nesil mobil yazar kasamızın geri ödemelerinin çok gün cihaz aldım Ödealdan günler güzeldi Yabancı müşteriler gelmeye başlayınca kredi kartından tahsilat yapamamaya başla Ödeal yazar kasa pos tan tarihinde TL kart çekimi yapıldı normalde günü hesaba yatırılacak tutar güne sarktı Anlamadığı Ödeal sene çalıştım iptal işlemi yaptırdım Geldiler Ödeal keypedini aldılar Profilo yazarkasamdan aktivasyonlarını kaldırmadıkl sanal postumu iptal edersiniz onayım olmadan dönüş yapılmıyor saçmalık acil çözüm yapın müşterilerime sonuç Pos cihazınızı kullanıyoruz Dükkanımı kapatacağım pos cihazlarınızı kapatmak istiyorum Arıyorum kendilerinin yapamayacaklarını arayacaklarını söyled Ödeal Ekimde cihaz almak başvuru yaptım Ekim arayan soran saha elemanı M Y ulaşmak zor Satış iyiler sonr Ödeal şikayetçiyim Müşteri temsilcimizim dediği söyledi yanlış aydır çekilen posun parasını alamıyoruz Şeker Kart kampanyası Ödeal kullanmaya başladım İŞ günü içerisinde kartımın geleceği söylendi ay olmasına kartım ulaşmadı Haziran te Ödeala kayıt yaptırdım gün sorunsuz kullanabildim Bonus karttan çekim yapana kadar Bonus karta taksit Ödeal Grup Şirketlerinden Vadeli pos makinesi satın almak başvuru yaptım özel kişisel bilgilerimi vergi levhamı sözleşmeyi doldurup Yaklaşık aydır Ödeal ödeme kuruluşu pos çalışıyorum Yaklaşık ay kızımın adına işletmemi adıma almak istedim Telefon Ödeal sisteminden pos bağlatmak istedik bağlamak bilgi veren çalışanınız earşiv fatura sistemine geçeceğimizi bild Odealdan pos cihazı aldım şeker kart istedim Gelmedi hesabıma yatırın diyelim hafta hesabıma geçmedi Yetkililerden yardım istiyorum yoks Ödeal firmasından düşük komisyonlar anlaşarak yazar kasa pos satın aldım süre düşük komisyonla çalıştıktan son zamanlarda pos oranı'"
     },
     "execution_count": 90,
     "metadata": {},
     "output_type": "execute_result"
    }
   ],
   "source": [
    "solved_texts"
   ],
   "metadata": {
    "collapsed": false,
    "ExecuteTime": {
     "end_time": "2023-10-30T16:38:16.172398Z",
     "start_time": "2023-10-30T16:38:16.159570Z"
    }
   },
   "id": "9b9b16157eb0d362"
  },
  {
   "cell_type": "code",
   "execution_count": 91,
   "outputs": [],
   "source": [
    "complaint_texts = \" \".join(normalizer.Normalizer.remove_punctuations(normalizer.Normalizer.remove_numbers(normalizer.Normalizer.remove_stopwords(complaint))) for complaint in complaint_df[\"Description\"])"
   ],
   "metadata": {
    "collapsed": false,
    "ExecuteTime": {
     "end_time": "2023-10-30T16:38:59.537413Z",
     "start_time": "2023-10-30T16:38:59.464391Z"
    }
   },
   "id": "39738859ffa8eb06"
  },
  {
   "cell_type": "code",
   "execution_count": 92,
   "outputs": [
    {
     "data": {
      "text/plain": "'Cihaz aygır arızalı müşteri hizmetleri sürekli arıza kaydı oluşturup duruyor Yalan dolan üzerine kurulmuş firma aradığımda müşteri hizmetleri arıza kaydı oluşturuyor Gelen giden yok İptal edelim diyoruz oda yok Gidin kurumsal yerlerle çalışın Pos cihazını verirken işlem yaparken sürü kelime oyunu yapıyorlar Pos geldi Üçüncü günü arızalandı kullanamadık gün geçti gün kalkıp aciliyetinizi oluşturuyoruz not tutuyorlar satış işlemlerim durdu düzgün muhatap bulamıyorsunuz Bunlarda kuland sanal postumu iptal edersiniz onayım olmadan dönüş yapılmıyor saçmalık acil çözüm yapın müşterilerime sonuç Merhaba pax apro marka adet Ödeal Pos cihazım toptan işi yapıyorum şehir dışına çıktım posta ödeme sayfasına gelince işlem başarısız bilinmeyen hata oluştu yazıyor yapacağım bilmiyorum Malzemeleri veriyorum ödeme alamıyorum Sorunum bugün çözülmezse ideali kapatqcagim Pos cihazınızı kullanıyoruz Dükkanımı kapatacağım pos cihazlarınızı kapatmak istiyorum Arıyorum kendilerinin yapamayacaklarını arayacaklarını söyled Mersin bakkallar odasının tavsiyesi Ödeal sistemine başvurduk İşletmemizi habersiz efaturaya geçildiler Saha elemanları telefonlara cevap vermiyor aydır kart gelmesini bekliyoruz Şekerbanktan gelen kodu söylememi İstiyorlar KD İngenico movef yazarkasa pos cihazı aldım Ödemeyi yaptıktan gün cihaz elime ulaşmış da sözleşme imzalandıktan gün geçmesine kurulum yapılmadı gün arıyorum worldline Ödeal geri dönüş değiller Market işletiyorum günlük ciromun yarı arşiv portalından fatura keserken Ödeal pos cihazına başvurduk Beraberinde portallarını kullanmamız gerekiyormuş Hatalı sistemi var ÖTVye KDVye etmiyor aydır çözüm bulamıyorum saat tekrardan aradım dönüş dediler Keyifleri gelince herhalde aydır dönen yok Ödeal Ekimde cihaz almak başvuru yaptım Ekim arayan soran saha elemanı M Y ulaşmak zor Satış iyiler sonr Canı sıkılınca parandan alan ürün iptal ettireceğim kurtulmak hayatımda gördüğüm kötü ürün arıyoruz kestiniz diyoruz kesintide sorun yoktur deyip kapatıyorlar Ödeal şikayetçiyim Müşteri temsilcimizim dediği söyledi yanlış aydır çekilen posun parasını alamıyoruz Şeker Kart kampanyası Ödeal kullanmaya başladım İŞ günü içerisinde kartımın geleceği söylendi ay olmasına kartım ulaşmadı Haziran te Ödeala kayıt yaptırdım gün sorunsuz kullanabildim Bonus karttan çekim yapana kadar Bonus karta taksit Ödeal şirketinden yazarkasa pos aldım seferinde anlaştığım banka üzerinden terminalimizi iptal ediyorlar üyeliğim şeyimi iptal ettim satış temsilcisi asatış konusunda eksik bilgi verip karşılığında muhatap bulamıyorsun yazılımı silmedikleri mağdur oluyorum Alacağıma p Ödeal Grup Şirketlerinden Vadeli pos makinesi satın almak başvuru yaptım özel kişisel bilgilerimi vergi levhamı sözleşmeyi doldurup Yaklaşık aydır Ödeal ödeme kuruluşu pos çalışıyorum Yaklaşık ay kızımın adına işletmemi adıma almak istedim Telefon Ödeal sisteminden pos bağlatmak istedik bağlamak bilgi veren çalışanınız earşiv fatura sistemine geçeceğimizi bild Odealdan pos cihazı aldım şeker kart istedim Gelmedi hesabıma yatırın diyelim hafta hesabıma geçmedi Yetkililerden yardım istiyorum yoks Ödeal kuruluşuna pos başvurusunda bulundum Şeker Kart kampanyasına katıldım Aradan hafta geçti Şeker Kart gelmedi İ süre çekim yapmadım ardından şeker kartınız ay sonuna gelmeyeceği söylendi arkadaş isterseniz hesabınıza havale yapabiliriz dediler Kab Ödeal firmasından düşük komisyonlar anlaşarak yazar kasa pos satın aldım süre düşük komisyonla çalıştıktan son zamanlarda pos oranı Ödeal firmasından adet pos cihazı aldım işletmem yıl çalıştıktan kapanış yaptım aylık süreçte ödeme yapılmadığı avukata devretmi Sanal pos kullanıyorum yatıracağım gün mesai saatleri ödeme yapılacak deniyor ödeme günü gelmesine ödememiz gerçekleşmiyor Ödem Ödeal sisteminden ek aldığım ay öncesinde iptalini istediğim ürünü iptal etmediler gün tekrar talep oluşturdum ürünün aylık kesildiğini kesilmeye devam belirtmeme kayıt açılıp geri dönüş sağlanmıyor Geçmiş ayların ödemesini i Pos cihazından çekilen tutarların Şekerbank anlaşmalı kartıma ertesi gün yatırılacağı söylendi gündür kartım gelmedi paranın farklı hesaba Ödeal adlı yazarkasa pos cihazı sistemleri satan firmanın müşteri hizmetleri görüşmede fiyat anlaşma sağlandı mail sözleşme gönderildi Sözleşmeyi doldurup iletecektim Ertesi gün sözleşmem hazır aramalarını bekledim Gün içerinde aradılar ban Öde al başvuru yaptık günde iptal etmiştik çalışma pos cihazı almadık ay ay boyunca düzenli adımıza fatura kesildi çözüme kavuşturulmadı müşteri hizmetleri bilinçsiz hareket Ödealdan Ingenico cihaz aldık Cihaz Şekerbank anlaşmalı geldi şeker kartım gelmesine ödemelerim yapılmadı Defalarca aradım faka Ödeal anlaşmalı fiyat piyasanın altında İngenico marka yazar kasa pos satın aldım ay boyunca taahhütlü süremi doldurdum Taahhüt süresini doldurduğum gün Ödealı aradım Bugün kapatılmasını istediğimi söyledim b isminde çalışan kapatamayacaklarını ayın ba İade pos cihazını almıyorlar Kargoya verecekmişiz Getirirken getiriyorlar iadeye gelince tıpış tıpış kargoya gitmeni istiyorlar Yardımcı adına çözüm önerileri yok pişmanım Ödeala bulaştığım için Epttavm den pos cihazı satın aldım Gönderici Ödeal firma Satın aldıktan gün aradılar oranlarımız uzerimizden çekim Ödeal yaklaşık yıldır çalışmaktayız Aylık ortalama TL toplamda TL ciro karşılığında harcama itirazı almışız İtirazı haklı görerek müşteriye iadesini olmamıza rağmen Ödeal haklarımızı korumadan haksız itiraz konusunda çe Yaklaşık ay yerime gelip pos cihazı verdiler tane pos cihazında işlemlerin üstüne yatmaya çalışıyorlar Hak edişim parayı vermemek direniyorlar Ödealda personel kimsenin kimseden haberi yokmuş çalışıyorlar Hukuki süreci yarın başlatmaya g ofisime gelip pos cihazı verdiler anda gündür paramızı hesabımıza atıyorlar çekilen karta iade ediyorlar Hukuki mücadeleyi başlatıyoruz İleri aşamalarda yargılamayla bilgi vereceğim basına çıkacağız Merhaba günler Dün özel firmasına anlaşma yoluna olduğum pos cihazındaki çekilen paralar hesabıma yatmadı H saat an olmasan a tane pos cihazımız sabah de ödemesini hesaba geçiyor Saat olmuş Ödeal hesaba yatıracak bekliyoruz ağırdan işl Yıldır Ödeal Yazarkasa pos kullanıcısıyım esnaf zor şartlarda hayatımızı idam ettirdiğimizi hepimiz biliyoruz gün öncesind hafta Ödeal firması çalışmaya başladık gün düzgün hesabıma param yatmadı gündür pos makinesinden çektikleri param h gündür Ödeal sistemimdeki kredi kartı taksitli işlemleri çözüm bulunamadı bulunmuş değil işletme müşterilerini Ödealın ilgisizliği sorunu çözemediği ciro kaybı yaşıyor şartlarda Ödeal sistemini önermeyi kenara bırakın kısa sürede sistemden çıkacağım yıla yakın süredir Ödeal kullanıcısıyım Ayda ortalama param eksik yatmış param eksik yattığı destek almak istediğimde mail adresi ver Ödeal kartları çekmiyor müşteri hizmetlerini defalarca aramama sonuca ulaşılmıyor süre müşteri kaybım oldu yazar kasayı satana müşteriye mağdur olmuşsun umurlarında değil Ödeal firmasına yazarkasa pos başvurdum Sözleşmeler imzalandı Normal pos gönderdiler arayan soran var İki günde kurul Öde al firması sorumsuz firma görmedim kullanmayı düşünmüyorum tanıdıklarıma tavsiye etmeyi düşünmüyorum Halkbanknı kullanıyorum diy Adamları arayıp şikayet oluşturduk çözüm sunacaklar pos cihazının içine taktıkları hat Türk Telekom müşteriden dakika çekim yapıyoruz Müşteri şikayet aydır sorunu çözemeyen umursamayan ödealıda döngüdeyiz Borcumu ödeyip Ödeal sistemini komple kapatmak istiyoruz haftadır oyalanıyoruz Mağdur ediliyoruz Defalarca aradık cümlelerle IBAN haftadır anlaşma randevu oluşturuyoruz sorumsuzluk randevuları unutup sabah ayrı randevu oluşturuyorlar gelmi Ödeal müşterilerin iade taleplerini getirmiyor Temsilciler sürekli yalan söylüyor Müşteri hizmetlerini defalarca aramamıza iad Ödeal firmasıyla anlaşmazlığımız devam hala Yaklaşık hafta süren taksitli işlem yapamama sorunu devam etmekte yüzden müşterilerim aa Ödeal ödeme sistemlerinde gelip pos cihazı satıldı Aldım yaklaşık ay hesabıma eksik para yatırdılar sebebini sordum müşteri itirazı deni Ödealdan yazar kasa harici pos almak hata yaptık müşteriden komisyon kesiyor insanı rezil ediyor İptal etmek aydır defalarca aradık iptal etmiyorlar Sürekli bahane bularak süreyi uzatıyorlar gereksiz yere komisyon vs alıyorlar son ulaşmam acilen pos İş yerimize yeni yazar kasa pos cihazı almayı düşünürken Ödeal karşılaştık Deneyelim dedik denemez olaydık ortağım varken adıma şirket numarası ortak cep telefonu uygulamasını kullanmış şirket yılı aşkındır üzerime son cep tel uygulamasını sanırım tarihinde Ödeal firmasına EFatura pos başvurusu yaptım gerekli evrakları taraflarına ilettim Başvurum tarihinde Onaylandı sonu Ödeal sitesinden yazarkasa pos talebimiz oldu Market mobil pos cihazı kullanmamızın yasak olmasına arkadaşlar mobil pos cihazı gönderdi Müşterime yazarkasa pos cihazı satarak muhasebesel kısmını anlamadığı güzellemeler efatura müşterisi yapmışlar Haziran ayından yana Ödeal pos cihazı kullanmaya başladım İlk ay kesinti dediler kesinti olacak kesilen tutar hesabınıza iade günü TL pos tan çekim yaptık tarihine geçer bekledik maalesef geçmedi telefonla durumu ilettik gün sonu Ödeal yazar kasa kullanıyorum sene gün içerisinde açılıp kapandığı servise gönderdim batarya sorunu değiş Merhabalar Epttavmden tarihinde İngenico Yazarkasa pos Cihazı satın aldım Gönderici firma Ödeal teknoloji gözüküyordu Kargo dükkanıma ulaştığında içerinde Ödeala adet tanıtım broşürü gördüm içerisinden pos cihazı çıkmadı kargo paketinin ağırlığı PTT Ka Market işi yapıyoruz pos cihazı lazımken tane gönderdiler Defalarca aramamıza dönüş hukuki işlem başlatacağım Ödealdan mağazamıza gelerek pos cihazı sattılar toplam tutar TL demişlerdi aradan yıl geçti an borcunuz diyorlar şe Ödeal pos cihazı aldım taksitle seferinde hesapladığım ücretlerden fazlası kesiliyor Hesaba sürekli eksik para yatıyor Resmen pa Yazarkasasız kaldım yerim mağdur edildim Çözüm dalga geçer size dönüş sağlayacağız deyip telefonu kapattılar Sürekli dö Ödeal pos cihazı aldım taksitle adet Aylık taksit otomatik kesiliyor çekiliyor takibini yapamıyorum Arıyorum ödeme planını gönderin kaç taksitli işlem yaptık İşyerimizde gün sonu almamıza ücret hesabıma yatmadı Aradığımda sistemsel problemden ertesi gün yatac tarihinde ingenico moveürün satın aldım ertesi gün arayıp ürünü satamayacaklarını söylediler iptal etmemi istediler konuşma sonrası Nüzerinden iptal talebi oluşturdum İptalin gerçekleşmesi telefon mesaj atmama bugün NÖdealTeknoloj Pos cihazı alalı gün olmasına TL hizmet bedeli kesildi sözleşme yanlış yapılmış sözleşme ciddiyeti hesap Ödeal ödeme kuruluşundan yaklaşık hafta pos cihazı aldık Cihazlar ulaştı Kullanmaya başladık gün sorun gün ödemeler hesab Pos cihaz aldım ingenico pos yazar kasa aldım hafta kullandım şarj gitti açılmadı Servisini aradım garanti bakması servis ücreti talep ettiler Kabul etmedim garantili ürün dedim Cihazımı aldılar Cihazı bine aldım ay diyorlar tami Ödeal kuruşunun tekrarlı ödeme hizmetinden faydalanmaya çalışıyoruz açtırmak ayrı göbeğimiz çatladı İlk müşterimizi tekrarlı ödeme ay yerimize gelerek Ödeal pos cihazı verelim dediler Aldık Kargo gelen cihaz çalışmıyor gelin sorunu çözün iptal edin çalışmayan cihaza aylık fatura kestiler Zar zor ulaştığımız yetkili aylık faturayı yatırın iptal edelim dedi Dedim çalışmayan pos yolladınız nasıl Cihan Özkanlı Fable Akülü Araba Ödeal cepte pos kullanıcısıyım suredir kullanmadığım tarihinde Ödeal yetki Ödeal sistemi üzerinden mart ayında ingenico movef model yazarkasa pos cihazı aldım nisan ayında cayma bedelini ödeyip çıkış yaptım K Üyeliğimin iptali aydır sürekli arayıp iptalini istediğim pos makinesinin sürekli erteleyen firma Üyeliği iptal ettirmek istiyorum Yetkili kişi iptalini yaptırın mail attık iptal edeceksiniz diyorsunuz gönderdiğiniz mail ödeme tutar maili dönüş sağlayın İdeal Ingenico marka POS cihazımdan gündür işlem kesmiyorum İdeal terminal kapalı yanıtını alıyorum İdeali arıyorum yere yönlendiriyor Ödeal verilen Android postlar müşteride dükkanda çekmiyor Üstelik çalışan makineleri götürdüler çalışmayanları verdiler aydır Ödeal firmasının pos cihazını kullanıyorum Halkbank  posa yüklü olmasına bankalardan çekim işlem yapabiliyorum taksitli işlem yap Merhaba kafem Ödeal pos cihazı kullanıyorum tarihinde kullanmaya başladım Çekim ücreti hesabıma düşmüyor sürekli aramam Ödeal şirket yetkilisiyle görüştükten kullanmaya karar verdik fatura pos cihazıyla kullanıma başladık  Şikayetim  banka kartla tarihinde Hepsiburada üzerinden yazarkasa pos satın aldım gün içi dönüş yapılıp perşembe cuma cumartesi yerinize ziyaret ed Ödeal yazarkasa pos cihazı başvuruda bulundum aydır cihaz ha geldi ha gelecek bekliyoruz Müşteri hizmetlerini arıyoruz bilmediklerini birimin döneceğini söyleyip kapatıyorlar dönen cihazın akıbetini bilen yok mağdur olduk Öde Al POS çalışıyorum müşterilerimin kredi kartı ödemeleri ertesi gün hesabıma yatırmıyorlar Şikayet ettim talepte bulundum merhaba sayın Ödeal firması almış olduğumuz adet Ingenico MoveF marka yazar kasa POS cihazlarında sorunlar yaşamaktayız sorunlarla defalarca arama yapmamıza geri dönüş alamadık konunun an çözüme kavuşturulmasını talep ediyoruz Cihazlard Ödeal sade pos cihazımız yaklaşık aydır versiyon hatası verip arızalı Defalarca aramamıza değişim yapılacağı söylenip gelmiyorlar Ödeme ala Ödeal pos gönderecekti Aradan ay geçti Gelen mesajda aylık aidat ödememin yazıyordu Firmayı aradım Bende pos cihazı olmadığı Ödeal firmasından taksit yapan pos cihazı aldım Pos cihazı hafta içerisinde arıza yaptı Cihaz servis ay teslim alındı gün i Ödeal pos ödemeleri hesaba yatmıyor Ödemeyi parçaya bölüyor takip edemeyin diye kafalarına yatırıyorlar sabah sağlam muhasebe yapmazsanız ödemeleri kesinlikle iç ediyorlar TL ödemem hesabıma geçmedi ödeme dosyası oluşmadı gün sonunu kaybederseniz bittiniz kesinli Ödeal İngenico ortak müşteri çarpma sistemi Ödeal gelen saha çalışanı İngenico ef marka pos cihazı verdi Ödeal satış sistemin Giresun sanayi sitesinde faaliyet gösteren earşive tabi küçük esnafız tarihinde yerimize gelen Ödeal firma çalışanı elind Ödeal eşimin yeri yazar kasasında yüklüydü depremle yerimiz yıkıldı enkazı kaldırıldı ilde yeri açtık bu Ödeal anlaşmalı Profilo yazar kasa sorunu yaşıyorum Resmen yerimde sürü müşteri kaybettim Aradım pazartesi geleceklerini söylediler Ödeal Yaklaşık aydır iptal edilmedi Posum faturadan arşive geçiş yapacağım görüşmemde bugün yarin bugün yarin sallıyorlar alır EFatura entegrasyonu sorunlar yaşıyorum Gelen faturaları göremiyorum iptal edemiyorum Adıma fatura kesilse haberim olmuyor Muhat Hesaba para atacakları söz veriyorlar aydır para yatırmadılar Sürekli arıyorum sorunumu çözmüyorlar saçma sistem basını yakmasın ödemeler geç geliyor parça parça sistem arızası bitmiyor üyelik iptali yaptım pos kilidini kaldırm Ödealdan Profilo marka cihaz aldım aydır kredi kartımdan çekim yapılmıyor Ödeal müşteri hizmetleri defalarca aramama sorunu çözmü Ödeal pos geldiler anlaşmamızın olmadığını istediğin ücretsiz iade edebileceğimi söylediler kesintilerin yüksek geldiğini Ödeal dan alınan kullanıcı satın aldığım tarafıma devir işlemi Profilo pos cihazının öde al yüklenmiş banka kaydının silinmemiş olmasından kaynaklı gündür devir aldığımız cihazdan çekim yapamıyoruz Sürekli arayıp pos cihazının önceki sahibi arama Ödeal kesintisi kesinti para ertesi gün gün yatacak deyip geçiştiriyorlar yüzden Toptancılar mahcup olduk sistemden ayrılm Müşterimizin kredi kartından TL çekim yapıp işlem hatalı cevap geldiği  çekimi yaptık Müşterinin hesabından d Ödeal anlaşmalı adet pos makinemiz mevcut Ödeal çalışmak istemediğimizi belirtip çıkış istedik Ödeal pos makinemizdeki Earşiv mükellefiyken isteğim dışında yanlış talep ettikleri fatura pos cihazını gönderdiler fatura mükellefi yaptılar işe hakim bilmeyen insanlarla çalıştığım kendimden utandım sorunum haftadır çözülmedi İşim gücümün arasında bunlarla uğ Ödeal pos kapatma isteğinde bulunduğumuzda TL masraf çıkartıyor üstelik ödemeyi IBANdan istiyor Fatura proforma olmadan ödeme ya Ödeal dan gündür tahsilat parayı hesabıma yatırmadılar Arıyorum arayacaklar deyip duruyorlar sözde is günü yatacaktı Ödeal firması cepte pos uygulaması işletmem adına Kasım tarihlerinde komisyon kampanyasına istinaden müşterilerimden tahsilat yaptım Ben Ödeal k Kartı geçtim hesap ba geçmesi gerekiyor Arıyorum dakika sırada bekledikten çıkan kişiler bir İlgisizlik had safhada Defalarca aradım çözüm yok seferinde müşteri hizmetleri kayıt oluşturduk deyip başından atıyorlar Bugün CİMERden Cumhurbaşkanlığına ulaşabilirken Ödealda yetkili görüşmek istediğinde bağlamıyorlar sorununla baş başa kalıp devam ediyorsun Ödeal Profilo cihaz çekim sağlamıyor ticari zararım mevcut kayıt oluşturduk dönüş sağlanmadı gün içerisinde dönüş sağlanmaması durumunda Tüketic Ödeal firmasından pos bilgisi telefonla görüşme yaptım avantajlı askıya aldım Antalya bölge sorumlusu c bey genel merkez sürekli aradı ay işlem teklifi sundular üzerine kabul ettim C bey pos cihazının Hafta içerisinde elimde olacağını söy ÖDEAL Üzerinden Bilgim Dışında şahsıma kredi kartı farklı kişi harcamaya itiraz etmeme gün iade edilecek dön Pos cihazı satışı söylenilen sonrasında söylenilen birbirini tutmuyor başta istediğimiz bedel ödemeden çıkabileceğimi Pos cihazı kullanıyorum paralar hesaba geç düşüyor ertesi gün sabah yapacağım ödemelerinizi yapamıyorum zor durumda kalıyorum bun Ödeal pos cihazı son haftadır gün sıkıntı çıkarmakta gün güncelleme yapıyorlarmış çekim yapamıyoruz bugünde saat çekim i Ödeal sisteminden ayrılmak istedim sözleşmemi fes ettim istedikleri evrakları gönderdim haftadır yazarkasa pos cihazımdan bankaları silmediler arıyo Pos cihazımız sürekli dakikada gün sonu alıyor İlk iletişime gün geçtim çözüm üretemediler WhatsApp hattı kurmuşlar cevap veren yok Arıyoruz kısa sürede çözülecek diyorlar sorun çözülebilmiş değil Hayatımda gördüğüm kötü sistem kartan çekim olunca parayı askıya alıyorsunuz paraları geç yatıyorsunuz eksik yatırıyorsunuz diy aydır Ödeal firmasının pos cihazını kullanıyorum çekilen tutar iş gününde hesabınızda dediler Ayın sinde çektiğim tutar hesabıma transfer olmam Merhaba Ödeal aracılığıyla almış olduğum ingenico movef cihazı bankalarımız olmayacak anlaşıp aldık cihaz geldiğin Ödeal çektirmiş olduğum TL tutarı hesabıma aktarmıyorlar defalarca aramamıza defasında bilgi veriliyor haftadan Ödeal şirketinden yazarkasa pos aldım Anlaşmada hafta içi hafta sonu pazartesi den ödemeler hesaplara yatacak dendi ödemelerimi zamanında alam Ödeal ingenico yazar kasa pos arızası müşteri hizmetlerine ulaşamamız cihazımız saattir hat çekiyor gösteriyor gün sonu alamıyoruz parametre Ödeal firmasından pos cihazı aldım çekilen tutarın gün sonrasında hesabıma aktarıldığını söylediler gün arayıp sormama çek Ödeal geri ödeme yaptırmıyor tarihinde pos cihazından toplam TLyi yatırmıyor gün geri ödeme dosya oluştu diyor akşam e Profilo pos cihazı aldık ay ihmalimiz fatura ödemedik mesaj geldi icra takibi başlatmışlar gemde ko Hayatımda gördüğüm kötü firma resmen sinir hastası ettiler Paramızı yatırmıyorlar geç yatırıyorlar eksik yatırıyorlar illallah ettik müşteri temsilcisine bağlanmak ölüm Bağlandınız diyelim şikayetiniz varsa hat kesiliyor defasında yapıyorlar defalarca para eksik y süreç boyunca sorun  posu geç teslim ettiler satışlarım kaçtı zarara uğrattılar bankadan alsaydım hemen teslim alacaktım hafta so Ödeal posu cihazını iptali Aradım İptal Aranacaksınız Dediler Aranmadığım Aradık meşguldü Telefonunuz Deyip İptal Edilmiyor Aray pos cihazına başvurdum haftalar geçti Hoşgeldin araması olacak dendi arayan soran Ödeal başvurdum bankalardan almıyorum mağdu Ödeal arızalı pos cihazını değişim yapmıyor aylık ücret kesiyor servis göndermediği acil arıza bildirimi yapacaklarını sö ay almış olduğum ÖdeAl pos cihazı yoğun ödemelerimden banka telefonlarını açmadığım toplu ödememden hareket dökümüne baktığı hata yaptık kurtulacağız inşallah yakın zamanda firmanın nezdinde anda adet açık talebim hafta sonu posta yatan tutarları bakmaya başladım maşallah haftadır pazartesi günleri yatan tutarlar farklı saçma olamaz İptal etmek istiyorum cayma bedeli olduğun Pos cihazı arızalı cihaz hafta bende ay tamirde bekliyor hafta çektiğim ödeme hesabıma yatmadı arıyorum defasında verdikle Ödealdan pos cihazı satın aldım üyeliğim süresi bitti yerini kapattım pos kişiye devredeceğim hallettim tanımlı ban Ürünü iade ederken sorun yaşıyorum TL büyük para ödeyemiyorum dükkanım battı pos cihazı elimde kaldı şirketi kapattığımızdan d Ödeal firmasından yazarkasa pos cihazı aldım Alırken paranı geç yatırırlar yatırmazlar geciktirirler demişlerdi inanmamıştım ay s Ödeal adında sanal pos cihazlarına baş vurdum Ürünü takip zor eksik ödeme yapıldı bildirdim durumu gün hesa Ödealdan Profilo cihaz aldık Nadire Kazova adına kitapçığında diyor ki cihazlar beraber bırakılan rulolar yıl dayanır Ödeal diyor Yazar kasa pos cihazımda aydır gün sonu eksik gösteriyor veyahutta hesabıma eksik yatıyor Müşteri hizmetleriyle görüştüğümde yalandan ban Öde al adlı firmanın yazarkasa postunu kullanıyorum Hayatımda gördüğüm ilgisiz çözüm odaksız firma Çekmiş olduğum poslar ertesi gün hesabı Ödeal çalışmaya başladığım  Gün durumu ilgisizliği fark ettim hemen çalışmak istemediğimi söyledim İptal ettirdim akabinde ay ban Yaklaşık sene cihazında Ödeal sistemini kullandım birini diğerini iptal ettirdim Son iptal ettirdiğim cihazın sinyalini kapattılar Ödeal dan yaklaşıl yıldır hizmet alıyoruz bilgisiz habersiz firma olamaz mağaza müdürü kayıtlı Ödeal firmasından almış olduğum yazarkasa pos alakalı cihazı gönderdiler ödediğim paramı verdiler Şirketime almış olduğum ingenico mar Ödeal pos cihazı aldım aydır maliye sisteminde gözükmüyor işlemlerim sonucunda aradığımda el girilmesi lazım diyor müşteri hizme Ödeal Denilen Firma insanları mağdur edip sonrasında aradığınız saçma cümleler kurup oyalıyorlar anlamıyla fiyasko aracı Ödeal a geçtik Perişan olduk Ödemeler zamanında yatmıyor Eksik yatıyor gün geçeli gün arayıp gün sonunu atıyorum d ay Ödeal yüklettim mayıstan yana kullanmıyorum devamlı yanıltıyorlar iptal etmek büyük dert dediklerini yapmama ra İngenico idecihaz aldım hafta cihaz garantiye gitti Tavsiye üzerine almıştım Cihazın üst kapağı kapanmıyor kağıda yazmıyor gü aydır Ödeal firmasının pos cihazını kullanıyorum Halkbank pos cihazında yüklü olmasına Paraf özellikli kartlardan çekim işlem yap İş yeri nonumaralı elit ev tekstiliOktay D isimli Ödeal müşterisiyim tarihinde olduğum satış hesabıma geçmedi Ödeal üzerinden adet ingenico movef yazar kasa mobil cihaz aldık Fiyatı gerçekten diğerlerine uygundu A hanım İstanbul Floryada bulunan işletmemize gelip sözleşmelerimizi yaptı Cihazlar gün içerisinde servis getirilip kuruldu Kurulum sonrası cihazların kağıt sıkıştırm Ödeal firmasına defalarca bildirim alamıyorum şeklinde bilgilendirme yapmama yazılım ekibimize iletiyoruz şeklinde cevap alıyorum gündür kimsenin döndüğü satış odaklı çalışmaları yanlış teknik destek konusunda verimsiz Eczanem açıldığında yazarkasapost cihazı ihtiyacım olduğundan Yeşilce Destegül Sk NoA Kağıthaneİstanbul adresindeki  telef Ödeal vaat ettikleri yapmadılar hesabıma yatması tutarı yatırmamışlar Uygulamadan para yattı diyorlar hesabıma geçen para Ödeal sistemine tarihinde kayıt oldum günden bugüne Garanti Bankası kredi kartları çekim taksitli satış yapamıyorum gündür paramın yatmasını bekliyorum İlgilenmezsen bakmazsan paran yatmamış demiyor güven sorunu yaşıyorum an gün hafta anlarım Ödeal Axess Bonus CardFinans Paraf World karta taksitli alışveriş imkanı sunuyoruz pos cihazı verdiler pos cihazını kullanmaya çalışırken tarihinde Ödeal pos cihazı geldi Pos cihazını getiren arkadaş TL lik alışveriş alışveriş hesabına geçmedi ay Ödeal şirketten arama geldi taksitli pos sistemi pos cihazı vermek bizde kabul edip pos cihazını satın aldık İşlem yapmaya başladık Bugün Ödeal sisteminden aradı bankalarla sıkıntınız nedeni iptal ediyoruz dendi yapacaklarını bilse Ödeal firmasından almış olduğumuz Pax spos cihazını yazar kasa firmamıza pos cihazında yazar kasa olmadığını açıklama yapmamıştır Dah Öde al sisteminde hafta sonu biriken lira paramı yatırmıyor Aradığımda ödemem söylüyor gün geçti ödenmed Ödeal yıla yakın hizmet alıyorum Kesinlikle sistem hataları büyük hatalar zarar dönüyor çektiğiniz işlemleri takip etmezseniz hesabınıza düşmüyor Müşteri hizmetleri başlı başına rezalet sonuç elde edemeyeceğiniz geri olumsuz dönüşleri bulunm sorunlu ödeme sistemi kolaylaştırmak sistemi zorlaştırmak varlar Müşteri teyidi yapılacak kesinlikle kalem yapıp müşteri işin kalemini söylemeyi unutursa ödemeniz iptal üstüne temsilcinin keyfiyle hesabınız kapatılabiliyor Ödeal Ödeme hizmetlerinden yaklaşık senedir hizmet alıyoruz hizmet aldığımız süre zarfın restorant açtık tanesini sonrasın kapattık Halkbank ilişkim olmaması durumun bugün itibari Halkbanktan eski kapattığımız dükkanın adresine gelip firmamızı sorgulam Paralar öğleden yatıyor repomu yapıyorsunuz anlamadım ödemelerim bekliyoruz para lar gelecekte bizde ödeme yapacağız inşallah kardeşim Ödeal sözleşmede Ingenico yazar kasa çekim anlaştık imzaladık Profilo marka cihaz gönderildi itiraz ettik anlaşmadaki cihaz geldi Profilo cihaz geldiği an iade çekim anlaşma taksitli faturalanmış itiraz ettik düzeltilmedi Yeni açılan spor salonuna aldığımız yazarkasa pos cihazının işleri Ödeal anlaştık ay kullanmamıza fazla sorun yaşadık İade işlemimiz yaklaşık aydır çözüm sağlayamadık Ulaşım sağlamak istediğimizde sürekli kişilerle muhatap oluyoruz net bilgi alamıyo Ödeal yazar kasa aldım gün sonu hatası verdi Silip gün sonu nu firma yetkililerine göndermeme gündür netice alamadım Sürekli oyalam Yaklaşık seneyi aşkın süredir öde al pos makinasını kullanmaktayım Bugüne çıkan z raporları ile hesaba geçen para birbirini tut İş yerime bilgi amaçlı ulaştım posu verebilmek peşimden koştular yalvar yakar etrafımda dönüp durdular Posu aldık seferinde hatalarıyla karşılaştım iptal iptal edemiyorum Ödeal  Yılımızı dolduruyoruz baksak günde eksik yatıyor para TLlik pos TL yatıyor bakmasak güvenerek adamlar yatırmıyor aramasak arayınca z raporunu atın vs Diyorlar BDDK bunlara izin vermiş anlamış değilim Ödeal hafta cuma cumartesi pazar günkü ödemelerimiz sürekli gecikiyor defalarca arıyorum gün yatırıyorlar kapatma talebi o Yazar kasa posumuza kafanıza banka yükleyip bilgilendirme yapmadan sözleşme ihlali bulunuyorsunuz paramız hesabımıza zamanında geçmiyor Şirketiniz hatalı cayma bedeli istiyorsunuz mağduriyetimizin giderilmesini istiyoruz Kasım tarihinde Ödeal teknoloji anonim şirketi adli yerinden TL tutarında Yeni nesil yazarkasa pos cihazlı ingenico ide markalı ürünün ödemesini haftadır teslim edilmedi Kurumsalligin mağduriyet yaratmamaktır İş yeri kasa fişi sayenizde kesemiyorum yıldır Ödeal postunu kullanıyorum cihaz taksiti bitti ödemeler aksamaya başladı şekim yaptığımda gününde yatması tutar işleme da hafta aldığım Ödeal pos cihazı sözde ertesi gün ödemeli satıldı ertesi gün hesabıma para yatmadığı müşteri hizmetlerini aradığımda z raporu soruluyor saat otomatik alındığını söylüyorum dosya oluşmadı bahanesiyle gün parayı hesabıma yatırmıyorlar yalan dolan Merhabalar yeni açtığım yeri Kasım tarihinde ödeme yaparak yazarkasa pos talebinde bulundum yazar kasa pos cihazım Kasım tarihinde elime ulaştı kurulum yapıldıktan gün ek pos yazar kasa pos alışverişler hesabıma yüklenmedi yükleneceğini sö Çekilen paralar ertesi gün düzensiz geliyor gelmiyor müşteri temsilcileri satış gereksiz ton evrak istiyor paranızla rezil oluyorsunuz karşınızda muhatap bulamıyorsunuz sorununuz giderilmiyor komik üslupla karşı karşıya kalıyorsunuz Satış fiyatını TL sundukları ürünü ayda TL ödemek suretiyle verdiler Faturasını ikiay gönderdiler Fatura tutarı T Ödeal müşterisi olmadan burayı okusaydım ilgisiz alakasız pazarlama yaparken detay vermeyen dürüst satıcı firma Ödemeleri işimin arasında kontrol etmem gerekiyor ertesi gün hesaba düşmüyor bankayla çalışırsanız cezai işlemi çalışamazsınız diyorlar hiçb Umarım cihazı almadan yazımı gören olur Cihazım ay oldu Alalı arıza yaptı İlgilenen Allahın kulu defalarca aradım diyorlar gelen giden gündür inanılmaz yıprandım bugün gerekli mercilere şikayetimi bildirdim mahkemede görüşürüz saçma firma görmedim çekim müşteriyi arayıp aldınız soruyorlar sürekli arayıp sattınız diyorlar Kafalarına saçma sapan limit belirlemişler fazla çekim yaptırmıyorlar Demem boş firma Pax marka pos cihazı aldım firmadan gün bozuldu ekimde servis çağrısı oluşturdum  Gün cihaz gelen olmadı gündür gün arıyorum müşteri hizmetlerini cümle dönüş yapacağız yaşatılan rezillik müşterimi kredi ödemesi alamadığım kaybett Ödeal anlaşma yapıp cihaz aldık Halkbank pos kurulumu yaptılar  ay muhasebem uyarıldım fazla fiş kesiyorsunuz imkansız olmasının karşılığında anlaşıldı Ödeal pos işlemlerin bakanlık sisteminde gözükmemekte Müşteri hizmetleri görüşmem s Ödeal firmasından sene almış olduğum yazarkasa pos cihazının taksiti ekim ayında son bulmasına TL tutar aylık kullanım bed ay yerime gelen satış temsilcisi hizmet yanıltıldım sisteme girdim ay gün arıyorum paramı alamadım defasında gerekçesi sebepler z raporu almadınız komik gerekçe söylediler almıştık satış yapan müş Ödeal denilen art niyetli firma  postan çekim yapmışım Gelen para küsuratlı arıyorum yatmamış diyorum evet yatmamış diyor yetkililerim bununla alakalı bilgi vermedi diyorum para kazan ücretini al eyvallah paramı al Hayırdır takibi Öde Al Firmasına tarihinde Adet pos cihazlarını kullanmadığım iptal talebinde bulundum hafta arayarak iptal işlemimin durumunu sorguladım gelişme olmadı son TL ağustos ayı aidatını yatırmamı dekontu WhatsApp numaralarına göndermemi ipt Ödeal firmasından olduğumuz adet cihaz anlaşması yapılmıştı cihazlar teslim edildiğinde cihazımız arızalı firma geri alındı geri dönüş yapılacak denildiği geri dönüş yapılmadı tarafımıza adet cihaz faturası kesildi yüzlerce firmayı arayı Tarihinde öde Al firmasından Profilo marka yazarkasa pos cihazını ay taksit satın aldım Cihazı kurduklarında TL k tarihinde Ödeal isimli firmayla yazarkasa pos cihazı almak kart markasını çatıda topladıklarını söyledikleri ödeme sistemi üye yeri sözleşmesi imzaladık geç Temmuz pazartesi günü kurulumu gerçekleştireceklerine pazarlamacıları söz verildi ne Buraya müşteri hizmetleri şikayet birimini koyduğunuzu anlamıyorum hayır sorunum olduğunda yarım saatten fazla müzik dinliyorum pos satın aldım anladım pos cihazı satana verdiğiniz sözlerinizi sattıktan hemen unutuyorsunuz b Satış bilgilendirmenin aksine paramdan kesinti yapılıyor cumartesi günü satışları pazartesi hesaba geçecek demelerine rağmen bayram resmi tatiller paramı hesaba aktaramıyorlar Yalan bilgi üzerine satış acil çözüm bekliyorum Ödeal ödeme sistemindeki pazarlamacılardan inanarak aldığımız parasını peşin ödediğimiz Profilo yeni nesil mobil yazar kasamızın geri ödemelerinin çok Saha personeli geliyor ay cayarsanız cihazları iade edersiniz diyor dükkan kapandı battı cihazı sattık diyorlar cihaz başına TL ücret talep ediyorlar geri iade alamıyorlar Ödeal üye oldum denemek Türk lirası çektim para hesabıma geçmedi gün bekledim geçmeyince müşteri hizmetlerini aradım banka hesap bilgilerimi yanlış oldu Beyan edildi üzerine bankaya bilgilerini tekrar rica ettim para gün hesabıma geldi sü Ödeal aldan başta memnundum satıcı kişi h bey tanıdım ikinci mağazama pos cihazı aldım şirketimin birini şahıs firmasına çevirdim h bey TL masraf hemen abi dedi maşallah öde al fırsatı bulunca ayarladığım cihazı başkasına satıyormuşum prosedür diye Ödeal firmasından yazar kasa pos aldık yıla yakındır ödemesini yapıyoruz TL çekim yapmadık borcunuz dediklerinde hesaplarına ödeme tutarını yatırdık ay icra kağıdı geldi  ödemediğimize dekont gönderdik dönüş aksine hesaba bloke koymuşlar bir gün cihaz aldım Ödealdan günler güzeldi Yabancı müşteriler gelmeye başlayınca kredi kartından tahsilat yapamamaya başla Yazarkasa pos cihazı satın aldım anlattığı sonrasında numaramı engelleyerek işten ayrılmış Muhatap bulabiliriz durumumuzu anlatırız çağrı merkezi görüşme yapmaya çalıştık seferinde başarısız de aldığımız cihazın teknik s Ödeal pos cihazı anlaşmasından hizmet almadan iade talebimi oluşturmama giriş bedeli ödediğim  ücret defalarca iade edileceğini belirtmelerine iade edilmiyor Üzerinden yaklaşık hafta geçti Kasım de Ödealdan cihaz kiraladık dedikleri  Ayın çıkarsanız yazılım ücreti lira ödersiniz beyefendiler cihazı satın aldığımızı kapatamayacağımızı söylüyorlar Açık açık söylüyorum Ödeal pişmanlıktır Ödeal aracılığıyla eylül tarihinde ingenico move f yazarkasa pos cihazı aldık Sözleşmemizi kasım aralık iptal ettik cihaza özel bankadan uygulama yüklettik Ödeal görüşüp uygulamamızı silmemizi bildirdik anlaşılan dikkate almıyor İptal tarihimizden ber Yeni açtığım işletmeye Ödeal firmadan yazar kasa pos cihazı aldım İstediğim yazar kasa postu yazar kasa satmışlar pos cihazını kiralık verdiklerini söylüyorlar anlaştığımız markada Profilo olmasına marka göndermişler diyorum sözleşm Ödeal yazar kasa pos tan tarihinde TL kart çekimi yapıldı normalde günü hesaba yatırılacak tutar güne sarktı Anlamadığı Ödeal firmasından Halkbank aracılığı ay taksitle yazarkasapos cihazı satın aldım taksitlerimi ödedim geçen ay taksitlerim bitince Hesabımın kapatılmasını talep ettim kapatmayıp devam ettirip ay Türk lirası ödettiler pos cihazını geri istiyorlar Ödeala geçeli ay ay içerisinde haftada müşteri hizmetlerini aramaktan bıktım Pos cihazında yazılımsal hata pos siparişi verdiğimde gün arası gelmesi cihaz haftada geldi anda alt yapıdan kaynaklı sorun dediler gündür pos makinem çalışmı seneyi aşkındır firmayla çalışırım Son saçmalıktan çalışmayı bıraktım Piyasada hızlı düşük komisyonla yapan tonla firma var Ödeal ismi basit ödeme almanıza yaramıyor Ödemeyi almak ayrı dert SMS gitti gitmedi ayrı dert D ödemeyi alı firmanın ödeme anlayışından anlamadım Hesabıma geçmesi para geçmiyor Ömrümde sorumsuz vasıfsız firma görmedim Servis talebinde bulunursunuz gelmez açılışta gün dediler gin bekledik son Profilodan özür bölge müdürü geldi Merhaba Ödeal kullanıyorum sürekli SMS ten mesaj geliyor Ödeal abone iptalde edemiyorum yüzden Ödeal şirket markasından şikayetçiyim Aboneliğimi üyeliğimi iptal ettin aboneliğimi iptal etseniz ha Ödeal mesaj sürekli mesaj gelmesin mesaj atma Pos cihazlarına başvurduğum hafta gelecek dendi kavga dövüş ay zor getirdiler Aradığımda birbirinden farklı yalan söylüyor gevşekçe yapıyorlar da Paranız hesabınıza mesai saati başlar başlamaz yatacak dediler öğleden  yatıyor ah Ödeal sözde yeni nesil pos cihazı aldık doğrusu satış temsilcinin binbir yalanlarıyla kandırılarak aldık sözde son sürüm ingenico move fadamlar satana ayak üstü yanıltıyor gün yemek çekleri yüklenecek deyip yükleme yapılamayan Ödeal denil Yazarkasa almak başvuru yaptım gününde gelecek dendi gün geçti gelmedi Bende aradım zorlukla günde uğraştım iptal ettim TL ödemem iade edeceğiz dediler günde geçti İade aradığımda birime ileteceğiz arayacaklar dendi ar Ödeal mağduriyetine dahası eklenmiş durumda pandemi kapattı kaldığımız günler işlerin verdiği sıkıntılarla uğraştığımız yetmiyor Ödealın icraya vermesi karşı karşıya kalmış durumdayız Yaklaşık buçuk seneden fazladır kullanıyorum yaşadığım problemler fazla Müşterilerden kart ödeme alıyoruz tercih etmesek durumlarda Ödeal sanal posu kullanıyoruz İşlem sorun hata görünmüyor sonrasında kontrollerde ödemenin olmadığını fark edip durumu iletiyoruz kart işlemi tekrar etmemiz isteniyor Ark Ödeal sistemi Profilo yazarkasa pos cihazını taksitli aldık süre banka kredifizibilitesi açısından zarar verdiğini gördük kalan taksitleri peşin ödeyip de sözleşmemizi sonlandırdık Cihaz içerisindeki banka bilgileri silinmediği çekilen para Ödeal Cihazı pazarlayan saha elemanı gün cihaz gelir kurulum gün tamamlanır demişti haftayı geçmesine pos cihazım gelmedi Çevremden soran kimseye önermeyeceğim Halkbank Ödeal birlikteliği adı altında saha elemanları yerlerini gezerek pos makinesi pazarlaması yapıyor Ödeal alakalı bilgi vermiyor Halkbanknın personeliymiş konuşuyorlar Bende Halkbank sandığım sözleşmeye imza atıp cihazı alma talebinde bul Ödeal firmasının pos cihazlarını kullanıyoruz firma ertesi gün ye ödemeler yapılacak şartı sunum yapıldı Ödeal paramızı eksik gönderiyor gün fazladan bekletiyor gün muhasebem Ödeal firmasını arayıp sistemde ödemeler görünmüyor teyit alıyor çare bu Ödeal sene çalıştım iptal işlemi yaptırdım Geldiler Ödeal keypedini aldılar Profilo yazarkasamdan aktivasyonlarını kaldırmadıkl Cihaz aygır arızalı müşteri hizmetleri sürekli arıza kaydı oluşturup duruyor Yalan dolan üzerine kurulmuş firma aradığımda müşteri hizmetleri arıza kaydı oluşturuyor Gelen giden yok İptal edelim diyoruz oda yok Gidin kurumsal yerlerle çalışın Pos cihazını verirken işlem yaparken sürü kelime oyunu yapıyorlar Pos geldi Üçüncü günü arızalandı kullanamadık gün geçti gün kalkıp aciliyetinizi oluşturuyoruz not tutuyorlar satış işlemlerim durdu düzgün muhatap bulamıyorsunuz Bunlarda kuland sanal postumu iptal edersiniz onayım olmadan dönüş yapılmıyor saçmalık acil çözüm yapın müşterilerime sonuç Merhaba pax apro marka adet Ödeal Pos cihazım toptan işi yapıyorum şehir dışına çıktım posta ödeme sayfasına gelince işlem başarısız bilinmeyen hata oluştu yazıyor yapacağım bilmiyorum Malzemeleri veriyorum ödeme alamıyorum Sorunum bugün çözülmezse ideali kapatqcagim Pos cihazınızı kullanıyoruz Dükkanımı kapatacağım pos cihazlarınızı kapatmak istiyorum Arıyorum kendilerinin yapamayacaklarını arayacaklarını söyled Mersin bakkallar odasının tavsiyesi Ödeal sistemine başvurduk İşletmemizi habersiz efaturaya geçildiler Saha elemanları telefonlara cevap vermiyor aydır kart gelmesini bekliyoruz Şekerbanktan gelen kodu söylememi İstiyorlar KD İngenico movef yazarkasa pos cihazı aldım Ödemeyi yaptıktan gün cihaz elime ulaşmış da sözleşme imzalandıktan gün geçmesine kurulum yapılmadı gün arıyorum worldline Ödeal geri dönüş değiller Market işletiyorum günlük ciromun yarı arşiv portalından fatura keserken Ödeal pos cihazına başvurduk Beraberinde portallarını kullanmamız gerekiyormuş Hatalı sistemi var ÖTVye KDVye etmiyor aydır çözüm bulamıyorum saat tekrardan aradım dönüş dediler Keyifleri gelince herhalde aydır dönen yok Ödeal Ekimde cihaz almak başvuru yaptım Ekim arayan soran saha elemanı M Y ulaşmak zor Satış iyiler sonr Canı sıkılınca parandan alan ürün iptal ettireceğim kurtulmak hayatımda gördüğüm kötü ürün arıyoruz kestiniz diyoruz kesintide sorun yoktur deyip kapatıyorlar Ödeal şikayetçiyim Müşteri temsilcimizim dediği söyledi yanlış aydır çekilen posun parasını alamıyoruz Şeker Kart kampanyası Ödeal kullanmaya başladım İŞ günü içerisinde kartımın geleceği söylendi ay olmasına kartım ulaşmadı Haziran te Ödeala kayıt yaptırdım gün sorunsuz kullanabildim Bonus karttan çekim yapana kadar Bonus karta taksit Ödeal şirketinden yazarkasa pos aldım seferinde anlaştığım banka üzerinden terminalimizi iptal ediyorlar üyeliğim şeyimi iptal ettim satış temsilcisi asatış konusunda eksik bilgi verip karşılığında muhatap bulamıyorsun yazılımı silmedikleri mağdur oluyorum Alacağıma p Ödeal Grup Şirketlerinden Vadeli pos makinesi satın almak başvuru yaptım özel kişisel bilgilerimi vergi levhamı sözleşmeyi doldurup Yaklaşık aydır Ödeal ödeme kuruluşu pos çalışıyorum Yaklaşık ay kızımın adına işletmemi adıma almak istedim Telefon Ödeal sisteminden pos bağlatmak istedik bağlamak bilgi veren çalışanınız earşiv fatura sistemine geçeceğimizi bild Odealdan pos cihazı aldım şeker kart istedim Gelmedi hesabıma yatırın diyelim hafta hesabıma geçmedi Yetkililerden yardım istiyorum yoks Ödeal kuruluşuna pos başvurusunda bulundum Şeker Kart kampanyasına katıldım Aradan hafta geçti Şeker Kart gelmedi İ süre çekim yapmadım ardından şeker kartınız ay sonuna gelmeyeceği söylendi arkadaş isterseniz hesabınıza havale yapabiliriz dediler Kab Ödeal firmasından düşük komisyonlar anlaşarak yazar kasa pos satın aldım süre düşük komisyonla çalıştıktan son zamanlarda pos oranı'"
     },
     "execution_count": 92,
     "metadata": {},
     "output_type": "execute_result"
    }
   ],
   "source": [
    "complaint_texts"
   ],
   "metadata": {
    "collapsed": false,
    "ExecuteTime": {
     "end_time": "2023-10-30T16:39:00.039872Z",
     "start_time": "2023-10-30T16:39:00.027770Z"
    }
   },
   "id": "1201eb8d74ac1ea1"
  },
  {
   "cell_type": "code",
   "execution_count": 114,
   "outputs": [],
   "source": [
    "all_descriptions = complaint_texts, solved_texts\n",
    "all_text = \" \".join(all_descriptions)\n",
    "words = all_text.translate(str.maketrans(\"\", \"\", string.punctuation)).lower().split()"
   ],
   "metadata": {
    "collapsed": false,
    "ExecuteTime": {
     "end_time": "2023-10-30T16:51:55.203928Z",
     "start_time": "2023-10-30T16:51:55.173420Z"
    }
   },
   "id": "3f5f39fb136ed315"
  },
  {
   "cell_type": "code",
   "execution_count": 121,
   "outputs": [
    {
     "name": "stdout",
     "output_type": "stream",
     "text": [
      "ödeal: 242\n",
      "pos: 231\n",
      "gün: 108\n",
      "cihazı: 92\n",
      "aldım: 54\n",
      "ay: 52\n",
      "cihaz: 43\n",
      "iptal: 41\n",
      "ödeme: 41\n",
      "hesabıma: 41\n"
     ]
    }
   ],
   "source": [
    "#En çok kullanılan kelimeler hangileri bakalım.\n",
    "word_counts = Counter(words)\n",
    "top_10_words = word_counts.most_common(10)\n",
    "for word, count in top_10_words:\n",
    "    print(f\"{word}: {count}\")"
   ],
   "metadata": {
    "collapsed": false,
    "ExecuteTime": {
     "end_time": "2023-10-30T16:54:50.540021Z",
     "start_time": "2023-10-30T16:54:50.508857Z"
    }
   },
   "id": "30f8105b575fbf01"
  },
  {
   "cell_type": "code",
   "execution_count": 122,
   "outputs": [
    {
     "name": "stdout",
     "output_type": "stream",
     "text": [
      "pos cihazı: 76\n",
      "yazarkasa pos: 33\n",
      "yazar kasa: 33\n",
      "ödeal pos: 27\n",
      "pos cihazını: 22\n",
      "cihazı aldım: 21\n",
      "ödeal firmasından: 21\n",
      "kasa pos: 17\n",
      "satın aldım: 17\n",
      "ertesi gün: 16\n"
     ]
    }
   ],
   "source": [
    "# Bigram\n",
    "bigrams = [(words[i], words[i+1]) for i in range(len(words)-1)]\n",
    "bigram_counts = Counter(bigrams)\n",
    "top_10_bigrams = bigram_counts.most_common(10)\n",
    "\n",
    "for bigram, count in top_10_bigrams:\n",
    "    print(f\"{bigram[0]} {bigram[1]}: {count}\")"
   ],
   "metadata": {
    "collapsed": false,
    "ExecuteTime": {
     "end_time": "2023-10-30T16:54:52.131771Z",
     "start_time": "2023-10-30T16:54:52.110709Z"
    }
   },
   "id": "4b6e77a3d1e400c4"
  },
  {
   "cell_type": "code",
   "execution_count": 123,
   "outputs": [
    {
     "name": "stdout",
     "output_type": "stream",
     "text": [
      "aydır ödeal firmasının pos: 6\n",
      "ödeal firmasının pos cihazını: 6\n",
      "firmasının pos cihazını kullanıyorum: 6\n",
      "yazarkasa pos cihazı aldım: 5\n",
      "yazar kasa pos satın: 5\n",
      "kasa pos satın aldım: 5\n",
      "pos cihazı satın aldım: 5\n",
      "sanal postumu iptal edersiniz: 4\n",
      "postumu iptal edersiniz onayım: 4\n",
      "iptal edersiniz onayım olmadan: 4\n"
     ]
    }
   ],
   "source": [
    "# Trigram\n",
    "trigrams = [(words[i], words[i+1], words[i+2], words[i+3]) for i in range(len(words)-3)]\n",
    "trigram_counts = Counter(trigrams)\n",
    "top_10_trigrams = trigram_counts.most_common(10)\n",
    "\n",
    "for trigram, count in top_10_trigrams:\n",
    "    print(f\"{trigram[0]} {trigram[1]} {trigram[2]} {trigram[3]}: {count}\")"
   ],
   "metadata": {
    "collapsed": false,
    "ExecuteTime": {
     "end_time": "2023-10-30T16:55:04.924436Z",
     "start_time": "2023-10-30T16:55:04.776943Z"
    }
   },
   "id": "4a742f556a3e6dd5"
  },
  {
   "cell_type": "code",
   "execution_count": null,
   "outputs": [],
   "source": [],
   "metadata": {
    "collapsed": false
   },
   "id": "4f2cf170b5f8dbeb"
  }
 ],
 "metadata": {
  "kernelspec": {
   "display_name": "Python 3",
   "language": "python",
   "name": "python3"
  },
  "language_info": {
   "codemirror_mode": {
    "name": "ipython",
    "version": 2
   },
   "file_extension": ".py",
   "mimetype": "text/x-python",
   "name": "python",
   "nbconvert_exporter": "python",
   "pygments_lexer": "ipython2",
   "version": "2.7.6"
  }
 },
 "nbformat": 4,
 "nbformat_minor": 5
}

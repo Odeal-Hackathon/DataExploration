{
 "cells": [
  {
   "cell_type": "code",
   "execution_count": 421,
   "id": "initial_id",
   "metadata": {
    "collapsed": true,
    "ExecuteTime": {
     "end_time": "2023-10-30T11:01:32.472873Z",
     "start_time": "2023-10-30T11:01:32.459588Z"
    }
   },
   "outputs": [],
   "source": [
    "import pandas as pd\n",
    "import json\n",
    "from datetime import datetime"
   ]
  },
  {
   "cell_type": "code",
   "execution_count": 377,
   "outputs": [
    {
     "name": "stderr",
     "output_type": "stream",
     "text": [
      "/var/folders/j5/_zyfcd891fd2sh3fg54z3gmh0000gn/T/ipykernel_84639/1649436523.py:1: DtypeWarning: Columns (11,12) have mixed types. Specify dtype option on import or set low_memory=False.\n",
      "  df = pd.read_csv('hackathon_data.csv')\n"
     ]
    }
   ],
   "source": [
    "df = pd.read_csv('hackathon_data.csv')"
   ],
   "metadata": {
    "collapsed": false,
    "ExecuteTime": {
     "end_time": "2023-10-30T10:53:54.586872Z",
     "start_time": "2023-10-30T10:53:53.060664Z"
    }
   },
   "id": "3fd3248386449bab"
  },
  {
   "cell_type": "code",
   "execution_count": 378,
   "outputs": [
    {
     "name": "stdout",
     "output_type": "stream",
     "text": [
      "<class 'pandas.core.frame.DataFrame'>\n",
      "RangeIndex: 1000000 entries, 0 to 999999\n",
      "Data columns (total 13 columns):\n",
      " #   Column              Non-Null Count    Dtype  \n",
      "---  ------              --------------    -----  \n",
      " 0   id                  1000000 non-null  int64  \n",
      " 1   Marka               1000000 non-null  object \n",
      " 2   IsyeriTipi          1000000 non-null  object \n",
      " 3   UyeDurum            1000000 non-null  object \n",
      " 4   UyeAdres            1000000 non-null  object \n",
      " 5   Sehir               1000000 non-null  object \n",
      " 6   UyeAktivasyonTarih  1000000 non-null  object \n",
      " 7   IslemID             1000000 non-null  int64  \n",
      " 8   IslemTarih          1000000 non-null  object \n",
      " 9   IslemTutar          1000000 non-null  float64\n",
      " 10  Tercih              1000000 non-null  object \n",
      " 11  Versiyon            23643 non-null    object \n",
      " 12  SurumTarih          23643 non-null    object \n",
      "dtypes: float64(1), int64(2), object(10)\n",
      "memory usage: 99.2+ MB\n"
     ]
    }
   ],
   "source": [
    "df.info()"
   ],
   "metadata": {
    "collapsed": false,
    "ExecuteTime": {
     "end_time": "2023-10-30T10:53:54.731220Z",
     "start_time": "2023-10-30T10:53:54.584984Z"
    }
   },
   "id": "822c6af8bf016c34"
  },
  {
   "cell_type": "code",
   "execution_count": 379,
   "outputs": [],
   "source": [
    "df['UyeAdres'] = df['UyeAdres'].str.upper()"
   ],
   "metadata": {
    "collapsed": false,
    "ExecuteTime": {
     "end_time": "2023-10-30T10:53:55.080662Z",
     "start_time": "2023-10-30T10:53:54.747855Z"
    }
   },
   "id": "d7888fd8ba14125d"
  },
  {
   "cell_type": "code",
   "execution_count": 380,
   "outputs": [
    {
     "data": {
      "text/plain": "array(['Samsun', 'İstanbul', 'Manisa', 'İzmir', 'Aksaray', 'Antalya',\n       'Bursa', 'Kocaeli', 'Ankara', 'Eskişehir', 'Giresun', 'Gaziantep'],\n      dtype=object)"
     },
     "execution_count": 380,
     "metadata": {},
     "output_type": "execute_result"
    }
   ],
   "source": [
    " df['Sehir'].unique()\n"
   ],
   "metadata": {
    "collapsed": false,
    "ExecuteTime": {
     "end_time": "2023-10-30T10:53:55.113425Z",
     "start_time": "2023-10-30T10:53:55.096001Z"
    }
   },
   "id": "675daf8edfa4fb73"
  },
  {
   "cell_type": "code",
   "execution_count": 381,
   "outputs": [],
   "source": [
    "df.loc[df['UyeAdres'] == 'DEREBOYU 1', 'UyeAdres'] = 'DEREBOYU CD. NO:1 MECIDIYE, 34347 BEŞIKTAŞ/ İSTANBUL'"
   ],
   "metadata": {
    "collapsed": false,
    "ExecuteTime": {
     "end_time": "2023-10-30T10:53:55.151988Z",
     "start_time": "2023-10-30T10:53:55.139809Z"
    }
   },
   "id": "8b09a819e7d5293"
  },
  {
   "cell_type": "code",
   "execution_count": 382,
   "outputs": [],
   "source": [
    "df.loc[df['UyeAdres'] == 'DEREBOYU CAD NO 1', 'UyeAdres'] = 'DEREBOYU CD. NO:1 MECIDIYE, 34347 BEŞIKTAŞ/ İSTANBUL'"
   ],
   "metadata": {
    "collapsed": false,
    "ExecuteTime": {
     "end_time": "2023-10-30T10:53:55.517337Z",
     "start_time": "2023-10-30T10:53:55.513796Z"
    }
   },
   "id": "e0148b5231290b15"
  },
  {
   "cell_type": "code",
   "execution_count": 383,
   "outputs": [],
   "source": [
    "df.loc[df['UyeAdres'] == 'KARTAL', 'UyeAdres'] = 'KARTAL/ İSTANBUL'"
   ],
   "metadata": {
    "collapsed": false,
    "ExecuteTime": {
     "end_time": "2023-10-30T10:53:55.751311Z",
     "start_time": "2023-10-30T10:53:55.748116Z"
    }
   },
   "id": "537aeee03a0bf489"
  },
  {
   "cell_type": "code",
   "execution_count": 384,
   "outputs": [],
   "source": [
    "df.loc[df['UyeAdres'] == 'ATAŞEHIR TEST ADRESI', 'UyeAdres'] = 'ATAŞEHİR/ İSTANBUL'"
   ],
   "metadata": {
    "collapsed": false,
    "ExecuteTime": {
     "end_time": "2023-10-30T10:53:55.787678Z",
     "start_time": "2023-10-30T10:53:55.751691Z"
    }
   },
   "id": "9a2a31c397ba532"
  },
  {
   "cell_type": "code",
   "execution_count": 385,
   "outputs": [],
   "source": [
    "df.loc[df['UyeAdres'] == 'BÜYÜKSARAY MEYDANI CAD NO:42', 'UyeAdres'] = 'BÜYÜK SARAY MEYDANI CD. NO:42 ŞEHREMINI, 34104 FATIH/ İSTANBUL'"
   ],
   "metadata": {
    "collapsed": false,
    "ExecuteTime": {
     "end_time": "2023-10-30T10:53:56.015805Z",
     "start_time": "2023-10-30T10:53:56.007976Z"
    }
   },
   "id": "de1c2b279f7093f5"
  },
  {
   "cell_type": "code",
   "execution_count": 386,
   "outputs": [],
   "source": [
    "df.loc[df['UyeAdres'] == 'BAŞARAN CAFE RESTORAN OTOMOTİV VE TARIM ANONİM ŞİRKETİ', 'UyeAdres'] = 'GÜZELYURT MAH. ORHANGAZI CAD. A2 APT. NO:5 BI ESENYURT/ İSTANBUL'"
   ],
   "metadata": {
    "collapsed": false,
    "ExecuteTime": {
     "end_time": "2023-10-30T10:53:56.049528Z",
     "start_time": "2023-10-30T10:53:56.044140Z"
    }
   },
   "id": "6212c15f79d12336"
  },
  {
   "cell_type": "code",
   "execution_count": 387,
   "outputs": [],
   "source": [
    "df.loc[df['UyeAdres'] == 'ISKENDER PAŞA MAH. SOFULAR TEKKESI SOKAK NO 18 A', 'UyeAdres'] = 'SOFULAR TEKKESI SOK., NO:18A, İSKENDERPAŞA MAH., FATIH/ İSTANBUL.'"
   ],
   "metadata": {
    "collapsed": false,
    "ExecuteTime": {
     "end_time": "2023-10-30T10:53:56.279136Z",
     "start_time": "2023-10-30T10:53:56.275814Z"
    }
   },
   "id": "cb4f72bcaddf84d2"
  },
  {
   "cell_type": "code",
   "execution_count": 388,
   "outputs": [],
   "source": [
    "df.loc[df['UyeAdres'] == 'YEŞILCE MAH. DESTEGÜL SOK NO 1 A', 'UyeAdres'] = 'YEŞILCE MAH. DESTEGÜL SOK. 1/A KAĞITHANE/ İSTANBUL'"
   ],
   "metadata": {
    "collapsed": false,
    "ExecuteTime": {
     "end_time": "2023-10-30T10:53:56.509876Z",
     "start_time": "2023-10-30T10:53:56.503915Z"
    }
   },
   "id": "24a58d96662dc86f"
  },
  {
   "cell_type": "code",
   "execution_count": 389,
   "outputs": [],
   "source": [
    "df.loc[df['UyeAdres'] == 'YENİKENT MAH. İSMETPAŞA CAD. ÇAMLIK SİTESİ A BİLOK NO 51 4/7 DERİNCE/KOCAELİ', 'UyeAdres'] = 'YENİKENT MAH. İSMETPAŞA CAD. ÇAMLIK SİTESİ A BİLOK NO 51 4/7 DERİNCE/ KOCAELİ'\n"
   ],
   "metadata": {
    "collapsed": false,
    "ExecuteTime": {
     "end_time": "2023-10-30T10:53:56.543107Z",
     "start_time": "2023-10-30T10:53:56.539273Z"
    }
   },
   "id": "b734952a10797aa7"
  },
  {
   "cell_type": "code",
   "execution_count": 390,
   "outputs": [
    {
     "data": {
      "text/plain": "array(['KALE MAH. GAZİ CAD. 82 C İLKADIM/ SAMSUN',\n       'DEREBOYU CD. NO:1 MECIDIYE, 34347 BEŞIKTAŞ/ İSTANBUL',\n       'KOCATEPE MAH. ŞEHİR PARKI CAD NO: 105 İÇ KAPI NO: 107 BAYRAMPAŞA/ İSTANBUL',\n       'ARMAĞANEVLER MAH. HARMAN SK. NO: 17 İÇ KAPI NO: 17 ÜMRANİYE/ İSTANBUL',\n       'KURTULUŞ MAH. HÜRRİYET BLV. NO: 11 A İÇ KAPI NO: A SOMA/ MANİSA',\n       'VALİ RAHMİ BEY MAH. MENDERES CAD. AKABE NO: 55 İÇ KAPI NO: 1 BUCA/ İZMİR',\n       'ZAFER MAH/SEMT KIRŞEHİR CAD. 185 ORTAKÖY/ AKSARAY',\n       'ERZENE MAH. KAZIM KARABEKİR CAD. NO: 4 G BORNOVA/ İZMİR',\n       'ALTINOVA SİNAN MAH. ÇAĞDAŞ SK. AGORA AVM - NO: 5 KEPEZ/ ANTALYA',\n       'ZAFER MAH. ÇINAR 1 SK. 5 B BAHÇELİEVLER/ İSTANBUL',\n       'KARTAL/ İSTANBUL',\n       'ATAKENT MAH. MUAMMER AKSOY SK. NO: 6 A İÇ KAPI NO: A ÜMRANİYE/ İSTANBUL',\n       'HAMİTLER MAH. 1.ZEKİ SK. E BLOK NO: 10 A OSMANGAZİ/ BURSA',\n       'SEYRANTEPE MAH. AKSEV SK. 2 2 KAĞITHANE/ İSTANBUL',\n       'YEŞILCE MAH. DESTEGÜL SOK. 1/A KAĞITHANE/ İSTANBUL',\n       'SOFULAR TEKKESI SOK., NO:18A, İSKENDERPAŞA MAH., FATIH/ İSTANBUL.',\n       'MEHMET NESİH ÖZMEN MAH. KESTANE SK. AS CAFE NO: 19 GÜNGÖREN/ İSTANBUL',\n       'HIRKA-İ ŞERİF MAH. YAMAK SK. NO: 4 İÇ KAPI NO: 0 FATİH/ İSTANBUL',\n       'YENİKENT MAH. İSMETPAŞA CAD. ÇAMLIK SİTESİ A BİLOK NO 51 4/7 DERİNCE/ KOCAELİ',\n       'MERKEZ MAH. Ş.YILMAZ ÖZDEMİR CAD. 61 4 KÜÇÜKÇEKMECE/ İSTANBUL',\n       'GÜLTEPE MAH. SERHAT SK. 9 KÜÇÜKÇEKMECE/ İSTANBUL',\n       'BELEDİYE EVLERİ MAH. CENGİZ TOPEL CADDESİ CAD. 25 1 CANİK/ SAMSUN',\n       'KEMALPAŞA MAH. AHUDUDU SK. 3 6 ELMADAĞ/ ANKARA',\n       'CUMHURİYET MAH. KÖKNAR CAD. 42 A KÜÇÜKÇEKMECE/ İSTANBUL',\n       'KEMALPAŞA MAH BAĞLAR CAD 18 B KÜÇÜKÇEKMECE/ İSTANBUL',\n       'CUMHURİYET MAH. 1.KARANFİL SK. 60 -2A 1 KÜÇÜKÇEKMECE/ İSTANBUL',\n       'ATAŞEHİR/ İSTANBUL',\n       'BÜYÜK SARAY MEYDANI CD. NO:42 ŞEHREMINI, 34104 FATIH/ İSTANBUL',\n       'YENİDOĞAN MAH. AKIN CAD. 5 1 SANCAKTEPE/ İSTANBUL',\n       'ESENTEPE MAH. KORE ŞEHİTLERİ CAD. 4 -6 20 ŞİŞLİ/ İSTANBUL',\n       'KURTULUŞ MAH. TARLAİÇİ SK. YUNUSEMRE HALK ÇARŞISI NO: 11 İÇ KAPI NO: Z064 ODUNPAZARI/ ESKİŞEHİR',\n       'KEMALPAŞA MAH. HALKALI CAD. ATA İŞ MERKEZİ 103 /1 KÜÇÜKÇEKMECE/ İSTANBUL',\n       'KAZIMDİRİK MAH. 364/11 SK. 1 /3K BORNOVA/ İZMİR',\n       'CEVİZLİ MAH. MUSTAFA KEMAL CAD. HUKUKÇULAR TOWERS D BLOK 66 D 8 KARTAL/ İSTANBUL',\n       'GÜZELYURT MAH. ORHANGAZI CAD. A2 APT. NO:5 BI ESENYURT/ İSTANBUL',\n       'BULANCAK MAH. ADLİYE SK. NO: 4 BULANCAK/ GİRESUN',\n       'ALİ ERSOY MAH/SEMT 21 CAD. NO: 5 İÇ KAPI NO: 5 ALTINDAĞ/ ANKARA',\n       'ZEYTİNLİ MAH. 79114 NOLU CAD. NO: 1 İÇ KAPI NO: 1 ŞEHİTKAMİL/ GAZİANTEP'],\n      dtype=object)"
     },
     "execution_count": 390,
     "metadata": {},
     "output_type": "execute_result"
    }
   ],
   "source": [
    "unique_adresler = df['UyeAdres'].unique()\n",
    "unique_adresler"
   ],
   "metadata": {
    "collapsed": false,
    "ExecuteTime": {
     "end_time": "2023-10-30T10:53:56.867631Z",
     "start_time": "2023-10-30T10:53:56.804128Z"
    }
   },
   "id": "cdbae6fe16572c59"
  },
  {
   "cell_type": "code",
   "execution_count": 391,
   "outputs": [],
   "source": [
    "unique_df = pd.DataFrame(unique_adresler, columns=['UyeAdres'])"
   ],
   "metadata": {
    "collapsed": false,
    "ExecuteTime": {
     "end_time": "2023-10-30T10:53:56.869211Z",
     "start_time": "2023-10-30T10:53:56.867755Z"
    }
   },
   "id": "169da8680c51a53f"
  },
  {
   "cell_type": "code",
   "execution_count": 392,
   "outputs": [],
   "source": [
    "unique_df.to_csv(\"benzersiz_adresler.csv\", index=False)"
   ],
   "metadata": {
    "collapsed": false,
    "ExecuteTime": {
     "end_time": "2023-10-30T10:53:58.134540Z",
     "start_time": "2023-10-30T10:53:57.953868Z"
    }
   },
   "id": "7ffc1f6e51653331"
  },
  {
   "cell_type": "code",
   "execution_count": 393,
   "outputs": [],
   "source": [
    "df['Sehir']= [''.join(str(i).split(' ')[-2:]) for i in df['UyeAdres']]\n"
   ],
   "metadata": {
    "collapsed": false,
    "ExecuteTime": {
     "end_time": "2023-10-30T10:53:58.401617Z",
     "start_time": "2023-10-30T10:53:58.053099Z"
    }
   },
   "id": "43f3665db1bffa5a"
  },
  {
   "cell_type": "markdown",
   "source": [
    "#### Verileri Düzenledik. Şimdi Üzerinde Ne Analizler Yapabiliriz Bakıyoruz.."
   ],
   "metadata": {
    "collapsed": false
   },
   "id": "f1e8c7f95e430600"
  },
  {
   "cell_type": "code",
   "execution_count": 394,
   "outputs": [],
   "source": [
    "df.to_csv('new_dataframe.csv')"
   ],
   "metadata": {
    "collapsed": false,
    "ExecuteTime": {
     "end_time": "2023-10-30T10:54:02.807333Z",
     "start_time": "2023-10-30T10:53:59.400511Z"
    }
   },
   "id": "717a65dc4e446b4e"
  },
  {
   "cell_type": "code",
   "execution_count": 395,
   "outputs": [
    {
     "data": {
      "text/plain": "               id          Marka     IsyeriTipi UyeDurum  \\\n371551  301025172  Biye bakaliye  Şahıs Şirketi    Aktif   \n767501  301029860  Oden o- maden   Tüzel Şirket    Pasif   \n561698  301026102  Kıda kaz gıda  Şahıs Şirketi    Aktif   \n156320  301012873  Eşti ekd. şti   Tüzel Şirket    Aktif   \n800499  301030448  Alik arncilik   Tüzel Şirket    Pasif   \n920052  301032425  Aziz ab leziz  Şahıs Şirketi    Aktif   \n878910  301031339  Bant baaurant   Tüzel Şirket    Aktif   \n393205  301025608  Nfka nu yufka  Şahıs Şirketi    Aktif   \n266261  301021277  Rimi renetimi   Tüzel Şirket    Aktif   \n631148  301026648  Sesi suzanesi  Şahıs Şirketi    Pasif   \n\n                                                 UyeAdres  \\\n371551  HIRKA-İ ŞERİF MAH. YAMAK SK. NO: 4 İÇ KAPI NO:...   \n767501  ESENTEPE MAH. KORE ŞEHİTLERİ CAD. 4 -6 20 ŞİŞL...   \n561698   GÜLTEPE MAH. SERHAT SK. 9 KÜÇÜKÇEKMECE/ İSTANBUL   \n156320  ERZENE MAH. KAZIM KARABEKİR CAD. NO: 4 G BORNO...   \n800499  KEMALPAŞA MAH. HALKALI CAD. ATA İŞ MERKEZİ 103...   \n920052   BULANCAK MAH. ADLİYE SK. NO: 4 BULANCAK/ GİRESUN   \n878910  GÜZELYURT MAH. ORHANGAZI CAD. A2 APT. NO:5 BI ...   \n393205  MERKEZ MAH. Ş.YILMAZ ÖZDEMİR CAD. 61 4 KÜÇÜKÇE...   \n266261  SEYRANTEPE MAH. AKSEV SK. 2 2 KAĞITHANE/ İSTANBUL   \n631148  KEMALPAŞA MAH BAĞLAR CAD 18 B KÜÇÜKÇEKMECE/ İS...   \n\n                        Sehir   UyeAktivasyonTarih    IslemID  \\\n371551         FATİH/İSTANBUL  2018-01-10 15:40:18  501256817   \n767501         ŞİŞLİ/İSTANBUL  2018-09-14 10:19:24  404786136   \n561698  KÜÇÜKÇEKMECE/İSTANBUL  2018-02-21 18:36:14  546603402   \n156320          BORNOVA/İZMİR  2022-08-16 08:48:29  403550826   \n800499  KÜÇÜKÇEKMECE/İSTANBUL  2018-10-23 19:05:38  470054282   \n920052       BULANCAK/GİRESUN  2018-12-28 15:13:16  443833989   \n878910      ESENYURT/İSTANBUL  2018-11-24 17:41:17  406607374   \n393205  KÜÇÜKÇEKMECE/İSTANBUL  2018-01-26 15:08:50  403274403   \n266261     KAĞITHANE/İSTANBUL  2017-07-19 10:24:28  411098803   \n631148  KÜÇÜKÇEKMECE/İSTANBUL  2018-03-13 17:40:36  408805625   \n\n                 IslemTarih  IslemTutar    Tercih Versiyon SurumTarih  \n371551  2023-01-23 23:25:00       17.00       ÖKC      NaN        NaN  \n767501  2019-10-23 10:04:56       30.00       ÖKC      NaN        NaN  \n561698  2023-06-08 19:08:00       70.00       ÖKC      NaN        NaN  \n156320  2019-04-19 07:03:00       15.75       ÖKC      NaN        NaN  \n800499  2022-08-19 23:47:00      250.00       ÖKC      NaN        NaN  \n920052  2022-01-31 13:30:00       72.00       ÖKC      NaN        NaN  \n878910  2020-02-02 05:54:00      140.50       ÖKC      NaN        NaN  \n393205  2019-02-08 19:37:00       21.50       ÖKC      NaN        NaN  \n266261  2020-09-10 09:19:25      810.00  CeptePos      NaN        NaN  \n631148  2020-06-12 16:13:00      149.00       ÖKC      NaN        NaN  ",
      "text/html": "<div>\n<style scoped>\n    .dataframe tbody tr th:only-of-type {\n        vertical-align: middle;\n    }\n\n    .dataframe tbody tr th {\n        vertical-align: top;\n    }\n\n    .dataframe thead th {\n        text-align: right;\n    }\n</style>\n<table border=\"1\" class=\"dataframe\">\n  <thead>\n    <tr style=\"text-align: right;\">\n      <th></th>\n      <th>id</th>\n      <th>Marka</th>\n      <th>IsyeriTipi</th>\n      <th>UyeDurum</th>\n      <th>UyeAdres</th>\n      <th>Sehir</th>\n      <th>UyeAktivasyonTarih</th>\n      <th>IslemID</th>\n      <th>IslemTarih</th>\n      <th>IslemTutar</th>\n      <th>Tercih</th>\n      <th>Versiyon</th>\n      <th>SurumTarih</th>\n    </tr>\n  </thead>\n  <tbody>\n    <tr>\n      <th>371551</th>\n      <td>301025172</td>\n      <td>Biye bakaliye</td>\n      <td>Şahıs Şirketi</td>\n      <td>Aktif</td>\n      <td>HIRKA-İ ŞERİF MAH. YAMAK SK. NO: 4 İÇ KAPI NO:...</td>\n      <td>FATİH/İSTANBUL</td>\n      <td>2018-01-10 15:40:18</td>\n      <td>501256817</td>\n      <td>2023-01-23 23:25:00</td>\n      <td>17.00</td>\n      <td>ÖKC</td>\n      <td>NaN</td>\n      <td>NaN</td>\n    </tr>\n    <tr>\n      <th>767501</th>\n      <td>301029860</td>\n      <td>Oden o- maden</td>\n      <td>Tüzel Şirket</td>\n      <td>Pasif</td>\n      <td>ESENTEPE MAH. KORE ŞEHİTLERİ CAD. 4 -6 20 ŞİŞL...</td>\n      <td>ŞİŞLİ/İSTANBUL</td>\n      <td>2018-09-14 10:19:24</td>\n      <td>404786136</td>\n      <td>2019-10-23 10:04:56</td>\n      <td>30.00</td>\n      <td>ÖKC</td>\n      <td>NaN</td>\n      <td>NaN</td>\n    </tr>\n    <tr>\n      <th>561698</th>\n      <td>301026102</td>\n      <td>Kıda kaz gıda</td>\n      <td>Şahıs Şirketi</td>\n      <td>Aktif</td>\n      <td>GÜLTEPE MAH. SERHAT SK. 9 KÜÇÜKÇEKMECE/ İSTANBUL</td>\n      <td>KÜÇÜKÇEKMECE/İSTANBUL</td>\n      <td>2018-02-21 18:36:14</td>\n      <td>546603402</td>\n      <td>2023-06-08 19:08:00</td>\n      <td>70.00</td>\n      <td>ÖKC</td>\n      <td>NaN</td>\n      <td>NaN</td>\n    </tr>\n    <tr>\n      <th>156320</th>\n      <td>301012873</td>\n      <td>Eşti ekd. şti</td>\n      <td>Tüzel Şirket</td>\n      <td>Aktif</td>\n      <td>ERZENE MAH. KAZIM KARABEKİR CAD. NO: 4 G BORNO...</td>\n      <td>BORNOVA/İZMİR</td>\n      <td>2022-08-16 08:48:29</td>\n      <td>403550826</td>\n      <td>2019-04-19 07:03:00</td>\n      <td>15.75</td>\n      <td>ÖKC</td>\n      <td>NaN</td>\n      <td>NaN</td>\n    </tr>\n    <tr>\n      <th>800499</th>\n      <td>301030448</td>\n      <td>Alik arncilik</td>\n      <td>Tüzel Şirket</td>\n      <td>Pasif</td>\n      <td>KEMALPAŞA MAH. HALKALI CAD. ATA İŞ MERKEZİ 103...</td>\n      <td>KÜÇÜKÇEKMECE/İSTANBUL</td>\n      <td>2018-10-23 19:05:38</td>\n      <td>470054282</td>\n      <td>2022-08-19 23:47:00</td>\n      <td>250.00</td>\n      <td>ÖKC</td>\n      <td>NaN</td>\n      <td>NaN</td>\n    </tr>\n    <tr>\n      <th>920052</th>\n      <td>301032425</td>\n      <td>Aziz ab leziz</td>\n      <td>Şahıs Şirketi</td>\n      <td>Aktif</td>\n      <td>BULANCAK MAH. ADLİYE SK. NO: 4 BULANCAK/ GİRESUN</td>\n      <td>BULANCAK/GİRESUN</td>\n      <td>2018-12-28 15:13:16</td>\n      <td>443833989</td>\n      <td>2022-01-31 13:30:00</td>\n      <td>72.00</td>\n      <td>ÖKC</td>\n      <td>NaN</td>\n      <td>NaN</td>\n    </tr>\n    <tr>\n      <th>878910</th>\n      <td>301031339</td>\n      <td>Bant baaurant</td>\n      <td>Tüzel Şirket</td>\n      <td>Aktif</td>\n      <td>GÜZELYURT MAH. ORHANGAZI CAD. A2 APT. NO:5 BI ...</td>\n      <td>ESENYURT/İSTANBUL</td>\n      <td>2018-11-24 17:41:17</td>\n      <td>406607374</td>\n      <td>2020-02-02 05:54:00</td>\n      <td>140.50</td>\n      <td>ÖKC</td>\n      <td>NaN</td>\n      <td>NaN</td>\n    </tr>\n    <tr>\n      <th>393205</th>\n      <td>301025608</td>\n      <td>Nfka nu yufka</td>\n      <td>Şahıs Şirketi</td>\n      <td>Aktif</td>\n      <td>MERKEZ MAH. Ş.YILMAZ ÖZDEMİR CAD. 61 4 KÜÇÜKÇE...</td>\n      <td>KÜÇÜKÇEKMECE/İSTANBUL</td>\n      <td>2018-01-26 15:08:50</td>\n      <td>403274403</td>\n      <td>2019-02-08 19:37:00</td>\n      <td>21.50</td>\n      <td>ÖKC</td>\n      <td>NaN</td>\n      <td>NaN</td>\n    </tr>\n    <tr>\n      <th>266261</th>\n      <td>301021277</td>\n      <td>Rimi renetimi</td>\n      <td>Tüzel Şirket</td>\n      <td>Aktif</td>\n      <td>SEYRANTEPE MAH. AKSEV SK. 2 2 KAĞITHANE/ İSTANBUL</td>\n      <td>KAĞITHANE/İSTANBUL</td>\n      <td>2017-07-19 10:24:28</td>\n      <td>411098803</td>\n      <td>2020-09-10 09:19:25</td>\n      <td>810.00</td>\n      <td>CeptePos</td>\n      <td>NaN</td>\n      <td>NaN</td>\n    </tr>\n    <tr>\n      <th>631148</th>\n      <td>301026648</td>\n      <td>Sesi suzanesi</td>\n      <td>Şahıs Şirketi</td>\n      <td>Pasif</td>\n      <td>KEMALPAŞA MAH BAĞLAR CAD 18 B KÜÇÜKÇEKMECE/ İS...</td>\n      <td>KÜÇÜKÇEKMECE/İSTANBUL</td>\n      <td>2018-03-13 17:40:36</td>\n      <td>408805625</td>\n      <td>2020-06-12 16:13:00</td>\n      <td>149.00</td>\n      <td>ÖKC</td>\n      <td>NaN</td>\n      <td>NaN</td>\n    </tr>\n  </tbody>\n</table>\n</div>"
     },
     "execution_count": 395,
     "metadata": {},
     "output_type": "execute_result"
    }
   ],
   "source": [
    "df.sample(10)"
   ],
   "metadata": {
    "collapsed": false,
    "ExecuteTime": {
     "end_time": "2023-10-30T10:54:02.830728Z",
     "start_time": "2023-10-30T10:54:02.800047Z"
    }
   },
   "id": "565ccecf2e6fe308"
  },
  {
   "cell_type": "markdown",
   "source": [
    "#### Markaların isimleri bize anlamlı bir mesaj verebilir mi?"
   ],
   "metadata": {
    "collapsed": false
   },
   "id": "2d98c6bde3a0b775"
  },
  {
   "cell_type": "code",
   "execution_count": 449,
   "outputs": [
    {
     "data": {
      "text/plain": "array(['Kzar kü pazar', 'Teri tejileri', 'Aida aka gida', 'Hdeo he video',\n       'Hiye hatasiye', 'Hkek haan kek', 'Wtma waarıtma', 'Ayon arvasyon',\n       'Eşti ekd. şti', 'Took tatawook', 'Wsky woversky', 'Ka.ş kiva a.ş',\n       'Bant boaurant', 'Asua axaxesua', 'Rimi renetimi', 'Öeti ödirketi',\n       'Kayi kol bayi', 'Aüfe ass büfe', 'Biye bakaliye', 'Llım leazılım',\n       'Nfka nu yufka', 'Kıda kaz gıda', 'Küfe kar büfe', 'Hs 3 hy sis 3',\n       'Aket akmarket', 'Sesi suzanesi', 'Eket ermarket', 'Ezgi ezezgi',\n       'Bkal babakkal', 'Örek öz börek', 'Oden o- maden', 'Giye göhafiye',\n       'Alik arncilik', 'Mand mad land', 'Blas burillas', 'Bant baaurant',\n       'Aziz ab leziz', 'Dkli doymakli', 'Öket özmarket'], dtype=object)"
     },
     "execution_count": 449,
     "metadata": {},
     "output_type": "execute_result"
    }
   ],
   "source": [
    "df['Marka'].unique()"
   ],
   "metadata": {
    "collapsed": false,
    "ExecuteTime": {
     "end_time": "2023-10-30T11:35:02.598182Z",
     "start_time": "2023-10-30T11:35:02.472154Z"
    }
   },
   "id": "ec0b0149c2b5d465"
  },
  {
   "cell_type": "markdown",
   "source": [
    "#### Marka Tarih kırılımında hangi marka hangi tarih aralıklarında işlem yapmış bi inceleyelim"
   ],
   "metadata": {
    "collapsed": false
   },
   "id": "e4ba8ad9983c3571"
  },
  {
   "cell_type": "code",
   "execution_count": 450,
   "outputs": [
    {
     "name": "stdout",
     "output_type": "stream",
     "text": [
      "           id          Marka                 min                 max\n",
      "0   301002470  Kzar kü pazar 2015-09-18 14:35:04 2023-10-26 10:47:00\n",
      "1   301002583  Teri tejileri 2014-09-25 10:08:52 2020-12-23 12:28:28\n",
      "2   301003354  Aida aka gida 2022-11-21 18:05:00 2023-10-26 16:59:00\n",
      "3   301006906  Hdeo he video 2016-01-29 11:00:43 2022-09-12 18:30:00\n",
      "4   301009366  Hiye hatasiye 2019-06-27 17:31:14 2022-09-19 18:01:00\n",
      "5   301009412  Hkek haan kek 2016-08-26 11:00:35 2023-10-03 17:56:28\n",
      "6   301009682  Wtma waarıtma 2016-05-19 10:29:01 2023-10-26 16:39:00\n",
      "7   301010389  Ayon arvasyon 2016-06-15 15:12:25 2020-05-10 11:09:14\n",
      "8   301012873  Eşti ekd. şti 2018-12-07 12:52:00 2023-10-26 15:06:00\n",
      "9   301014561  Took tatawook 2017-08-10 14:22:03 2023-10-26 16:55:00\n",
      "10  301015331  Wsky woversky 2017-02-09 11:21:52 2023-10-26 13:45:18\n",
      "11  301018129  Ka.ş kiva a.ş 2018-09-15 15:53:45 2018-09-15 15:53:45\n",
      "12  301019658  Bant boaurant 2017-05-26 17:37:46 2023-09-06 20:44:00\n",
      "13  301020464  Asua axaxesua 2022-06-11 10:39:00 2023-10-26 16:56:00\n",
      "14  301021277  Rimi renetimi 2017-07-24 14:19:13 2023-10-26 14:36:59\n",
      "15  301023021  Öeti ödirketi 2017-11-07 16:48:45 2023-10-26 16:58:03\n",
      "16  301024520  Kayi kol bayi 2017-12-18 17:52:53 2023-10-26 14:27:00\n",
      "17  301024729  Aüfe ass büfe 2019-05-17 16:30:00 2023-07-10 08:56:00\n",
      "18  301025172  Biye bakaliye 2018-01-11 08:37:44 2023-10-26 16:46:00\n",
      "19  301025251  Llım leazılım 2018-05-02 15:16:56 2018-07-24 11:03:37\n",
      "20  301025608  Nfka nu yufka 2018-01-29 16:12:25 2023-10-26 16:50:00\n",
      "21  301026102  Kıda kaz gıda 2018-02-22 20:16:36 2023-10-26 16:21:00\n",
      "22  301026135  Küfe kar büfe 2018-08-30 17:47:27 2023-10-26 16:42:00\n",
      "23  301026224  Hs 3 hy sis 3 2018-02-20 19:35:09 2023-10-26 15:17:59\n",
      "24  301026287  Aket akmarket 2018-03-06 19:02:42 2023-10-26 16:53:00\n",
      "25  301026648  Sesi suzanesi 2018-03-13 17:58:26 2021-04-30 17:08:00\n",
      "26  301026840  Eket ermarket 2018-03-22 14:46:46 2023-06-08 18:01:00\n",
      "27  301026958    Ezgi ezezgi 2019-07-24 16:33:59 2021-05-04 21:19:38\n",
      "28  301027114  Bkal babakkal 2018-05-05 20:10:08 2023-07-18 17:22:00\n",
      "29  301029464  Örek öz börek 2018-08-17 19:15:49 2022-11-14 11:07:00\n",
      "30  301029860  Oden o- maden 2018-09-14 08:26:00 2019-11-28 14:26:47\n",
      "31  301030119  Giye göhafiye 2018-10-20 14:48:26 2023-10-26 14:47:00\n",
      "32  301030448  Alik arncilik 2018-10-24 16:11:46 2023-08-24 21:57:00\n",
      "33  301031149  Mand mad land 2018-11-19 14:12:00 2021-05-19 11:54:00\n",
      "34  301031272  Blas burillas 2018-11-21 14:13:00 2023-10-26 14:38:00\n",
      "35  301031339  Bant baaurant 2018-11-26 17:46:00 2023-09-01 05:54:00\n",
      "36  301032425  Aziz ab leziz 2018-12-29 14:51:00 2023-10-24 21:22:00\n",
      "37  301032496  Dkli doymakli 2018-12-28 16:19:46 2020-11-25 22:10:00\n",
      "38  301033049  Öket özmarket 2019-02-01 16:40:00 2023-06-09 22:21:00\n"
     ]
    }
   ],
   "source": [
    "df['IslemTarih'] = pd.to_datetime(df['IslemTarih'])\n",
    "\n",
    "grouped = df.groupby(['id', 'Marka'])['IslemTarih'].agg(['min', 'max']).reset_index()\n",
    "\n",
    "print(grouped)\n"
   ],
   "metadata": {
    "collapsed": false,
    "ExecuteTime": {
     "end_time": "2023-10-30T11:35:06.051427Z",
     "start_time": "2023-10-30T11:35:05.992774Z"
    }
   },
   "id": "39d412ed5db6f676"
  },
  {
   "cell_type": "markdown",
   "source": [
    "## Müşterileri SES verisine Göre Kişiselleştir.\n",
    "#### Verileri Endeksadan Çekeceğiz."
   ],
   "metadata": {
    "collapsed": false
   },
   "id": "9b117bc150bda845"
  },
  {
   "cell_type": "code",
   "execution_count": 403,
   "outputs": [],
   "source": [
    "df_in_ses = pd.read_parquet('odeal_hackathon.parquet')"
   ],
   "metadata": {
    "collapsed": false,
    "ExecuteTime": {
     "end_time": "2023-10-30T10:54:25.201408Z",
     "start_time": "2023-10-30T10:54:24.926286Z"
    }
   },
   "id": "7966034341696538"
  },
  {
   "cell_type": "code",
   "execution_count": 404,
   "outputs": [
    {
     "data": {
      "text/plain": "               id          Marka     IsyeriTipi UyeDurum  \\\n0       301002470  Kzar kü pazar   Tüzel Şirket    Aktif   \n1       301002470  Kzar kü pazar   Tüzel Şirket    Aktif   \n2       301002470  Kzar kü pazar   Tüzel Şirket    Aktif   \n3       301002470  Kzar kü pazar   Tüzel Şirket    Aktif   \n4       301002470  Kzar kü pazar   Tüzel Şirket    Aktif   \n...           ...            ...            ...      ...   \n999995  301033049  Öket özmarket  Şahıs Şirketi    Pasif   \n999996  301033049  Öket özmarket  Şahıs Şirketi    Pasif   \n999997  301033049  Öket özmarket  Şahıs Şirketi    Pasif   \n999998  301033049  Öket özmarket  Şahıs Şirketi    Pasif   \n999999  301033049  Öket özmarket  Şahıs Şirketi    Pasif   \n\n                                                 UyeAdres  \\\n0                KALE MAH. GAZİ CAD. 82 C İLKADIM/ SAMSUN   \n1                KALE MAH. GAZİ CAD. 82 C İLKADIM/ SAMSUN   \n2                KALE MAH. GAZİ CAD. 82 C İLKADIM/ SAMSUN   \n3                KALE MAH. GAZİ CAD. 82 C İLKADIM/ SAMSUN   \n4                KALE MAH. GAZİ CAD. 82 C İLKADIM/ SAMSUN   \n...                                                   ...   \n999995  ZEYTİNLİ MAH. 79114 NOLU CAD. NO: 1 İÇ KAPI NO...   \n999996  ZEYTİNLİ MAH. 79114 NOLU CAD. NO: 1 İÇ KAPI NO...   \n999997  ZEYTİNLİ MAH. 79114 NOLU CAD. NO: 1 İÇ KAPI NO...   \n999998  ZEYTİNLİ MAH. 79114 NOLU CAD. NO: 1 İÇ KAPI NO...   \n999999  ZEYTİNLİ MAH. 79114 NOLU CAD. NO: 1 İÇ KAPI NO...   \n\n                       Sehir   UyeAktivasyonTarih    IslemID  \\\n0             Samsun/Ilkadim  2015-09-08 15:08:23  401003136   \n1             Samsun/Ilkadim  2015-09-08 15:08:23  403526702   \n2             Samsun/Ilkadim  2015-09-08 15:08:23  403529006   \n3             Samsun/Ilkadim  2015-09-08 15:08:23  403530803   \n4             Samsun/Ilkadim  2015-09-08 15:08:23  403531107   \n...                      ...                  ...        ...   \n999995  Gaziantep/Şehitkamil  2019-01-31 15:47:21  547156206   \n999996  Gaziantep/Şehitkamil  2019-01-31 15:47:21  547160265   \n999997  Gaziantep/Şehitkamil  2019-01-31 15:47:21  547168209   \n999998  Gaziantep/Şehitkamil  2019-01-31 15:47:21  547172655   \n999999  Gaziantep/Şehitkamil  2019-01-31 15:47:21  547176522   \n\n                 IslemTarih  IslemTutar    Tercih Versiyon SurumTarih  \\\n0       2015-09-18 14:35:04        5.00  CeptePos     None       None   \n1       2019-04-13 13:31:00       32.70       ÖKC     None       None   \n2       2019-04-13 19:30:00      998.05       ÖKC     None       None   \n3       2019-04-14 13:52:00      105.75       ÖKC     None       None   \n4       2019-04-14 15:09:00      163.00       ÖKC     None       None   \n...                     ...         ...       ...      ...        ...   \n999995  2023-06-09 21:35:00       16.50       ÖKC     None       None   \n999996  2023-06-09 21:44:00       77.00       ÖKC     None       None   \n999997  2023-06-09 22:01:00       37.00       ÖKC     None       None   \n999998  2023-06-09 22:15:00       80.00       ÖKC     None       None   \n999999  2023-06-09 22:21:00       18.00       ÖKC     None       None   \n\n        Genel Nüfus   Nüfus Yoğunluğu  \n0        8.167 Kişi  371,23 Kişi/km^2  \n1        8.167 Kişi  371,23 Kişi/km^2  \n2        8.167 Kişi  371,23 Kişi/km^2  \n3        8.167 Kişi  371,23 Kişi/km^2  \n4        8.167 Kişi  371,23 Kişi/km^2  \n...             ...               ...  \n999995  14.425 Kişi  133,56 Kişi/km^2  \n999996  14.425 Kişi  133,56 Kişi/km^2  \n999997  14.425 Kişi  133,56 Kişi/km^2  \n999998  14.425 Kişi  133,56 Kişi/km^2  \n999999  14.425 Kişi  133,56 Kişi/km^2  \n\n[1000000 rows x 15 columns]",
      "text/html": "<div>\n<style scoped>\n    .dataframe tbody tr th:only-of-type {\n        vertical-align: middle;\n    }\n\n    .dataframe tbody tr th {\n        vertical-align: top;\n    }\n\n    .dataframe thead th {\n        text-align: right;\n    }\n</style>\n<table border=\"1\" class=\"dataframe\">\n  <thead>\n    <tr style=\"text-align: right;\">\n      <th></th>\n      <th>id</th>\n      <th>Marka</th>\n      <th>IsyeriTipi</th>\n      <th>UyeDurum</th>\n      <th>UyeAdres</th>\n      <th>Sehir</th>\n      <th>UyeAktivasyonTarih</th>\n      <th>IslemID</th>\n      <th>IslemTarih</th>\n      <th>IslemTutar</th>\n      <th>Tercih</th>\n      <th>Versiyon</th>\n      <th>SurumTarih</th>\n      <th>Genel Nüfus</th>\n      <th>Nüfus Yoğunluğu</th>\n    </tr>\n  </thead>\n  <tbody>\n    <tr>\n      <th>0</th>\n      <td>301002470</td>\n      <td>Kzar kü pazar</td>\n      <td>Tüzel Şirket</td>\n      <td>Aktif</td>\n      <td>KALE MAH. GAZİ CAD. 82 C İLKADIM/ SAMSUN</td>\n      <td>Samsun/Ilkadim</td>\n      <td>2015-09-08 15:08:23</td>\n      <td>401003136</td>\n      <td>2015-09-18 14:35:04</td>\n      <td>5.00</td>\n      <td>CeptePos</td>\n      <td>None</td>\n      <td>None</td>\n      <td>8.167 Kişi</td>\n      <td>371,23 Kişi/km^2</td>\n    </tr>\n    <tr>\n      <th>1</th>\n      <td>301002470</td>\n      <td>Kzar kü pazar</td>\n      <td>Tüzel Şirket</td>\n      <td>Aktif</td>\n      <td>KALE MAH. GAZİ CAD. 82 C İLKADIM/ SAMSUN</td>\n      <td>Samsun/Ilkadim</td>\n      <td>2015-09-08 15:08:23</td>\n      <td>403526702</td>\n      <td>2019-04-13 13:31:00</td>\n      <td>32.70</td>\n      <td>ÖKC</td>\n      <td>None</td>\n      <td>None</td>\n      <td>8.167 Kişi</td>\n      <td>371,23 Kişi/km^2</td>\n    </tr>\n    <tr>\n      <th>2</th>\n      <td>301002470</td>\n      <td>Kzar kü pazar</td>\n      <td>Tüzel Şirket</td>\n      <td>Aktif</td>\n      <td>KALE MAH. GAZİ CAD. 82 C İLKADIM/ SAMSUN</td>\n      <td>Samsun/Ilkadim</td>\n      <td>2015-09-08 15:08:23</td>\n      <td>403529006</td>\n      <td>2019-04-13 19:30:00</td>\n      <td>998.05</td>\n      <td>ÖKC</td>\n      <td>None</td>\n      <td>None</td>\n      <td>8.167 Kişi</td>\n      <td>371,23 Kişi/km^2</td>\n    </tr>\n    <tr>\n      <th>3</th>\n      <td>301002470</td>\n      <td>Kzar kü pazar</td>\n      <td>Tüzel Şirket</td>\n      <td>Aktif</td>\n      <td>KALE MAH. GAZİ CAD. 82 C İLKADIM/ SAMSUN</td>\n      <td>Samsun/Ilkadim</td>\n      <td>2015-09-08 15:08:23</td>\n      <td>403530803</td>\n      <td>2019-04-14 13:52:00</td>\n      <td>105.75</td>\n      <td>ÖKC</td>\n      <td>None</td>\n      <td>None</td>\n      <td>8.167 Kişi</td>\n      <td>371,23 Kişi/km^2</td>\n    </tr>\n    <tr>\n      <th>4</th>\n      <td>301002470</td>\n      <td>Kzar kü pazar</td>\n      <td>Tüzel Şirket</td>\n      <td>Aktif</td>\n      <td>KALE MAH. GAZİ CAD. 82 C İLKADIM/ SAMSUN</td>\n      <td>Samsun/Ilkadim</td>\n      <td>2015-09-08 15:08:23</td>\n      <td>403531107</td>\n      <td>2019-04-14 15:09:00</td>\n      <td>163.00</td>\n      <td>ÖKC</td>\n      <td>None</td>\n      <td>None</td>\n      <td>8.167 Kişi</td>\n      <td>371,23 Kişi/km^2</td>\n    </tr>\n    <tr>\n      <th>...</th>\n      <td>...</td>\n      <td>...</td>\n      <td>...</td>\n      <td>...</td>\n      <td>...</td>\n      <td>...</td>\n      <td>...</td>\n      <td>...</td>\n      <td>...</td>\n      <td>...</td>\n      <td>...</td>\n      <td>...</td>\n      <td>...</td>\n      <td>...</td>\n      <td>...</td>\n    </tr>\n    <tr>\n      <th>999995</th>\n      <td>301033049</td>\n      <td>Öket özmarket</td>\n      <td>Şahıs Şirketi</td>\n      <td>Pasif</td>\n      <td>ZEYTİNLİ MAH. 79114 NOLU CAD. NO: 1 İÇ KAPI NO...</td>\n      <td>Gaziantep/Şehitkamil</td>\n      <td>2019-01-31 15:47:21</td>\n      <td>547156206</td>\n      <td>2023-06-09 21:35:00</td>\n      <td>16.50</td>\n      <td>ÖKC</td>\n      <td>None</td>\n      <td>None</td>\n      <td>14.425 Kişi</td>\n      <td>133,56 Kişi/km^2</td>\n    </tr>\n    <tr>\n      <th>999996</th>\n      <td>301033049</td>\n      <td>Öket özmarket</td>\n      <td>Şahıs Şirketi</td>\n      <td>Pasif</td>\n      <td>ZEYTİNLİ MAH. 79114 NOLU CAD. NO: 1 İÇ KAPI NO...</td>\n      <td>Gaziantep/Şehitkamil</td>\n      <td>2019-01-31 15:47:21</td>\n      <td>547160265</td>\n      <td>2023-06-09 21:44:00</td>\n      <td>77.00</td>\n      <td>ÖKC</td>\n      <td>None</td>\n      <td>None</td>\n      <td>14.425 Kişi</td>\n      <td>133,56 Kişi/km^2</td>\n    </tr>\n    <tr>\n      <th>999997</th>\n      <td>301033049</td>\n      <td>Öket özmarket</td>\n      <td>Şahıs Şirketi</td>\n      <td>Pasif</td>\n      <td>ZEYTİNLİ MAH. 79114 NOLU CAD. NO: 1 İÇ KAPI NO...</td>\n      <td>Gaziantep/Şehitkamil</td>\n      <td>2019-01-31 15:47:21</td>\n      <td>547168209</td>\n      <td>2023-06-09 22:01:00</td>\n      <td>37.00</td>\n      <td>ÖKC</td>\n      <td>None</td>\n      <td>None</td>\n      <td>14.425 Kişi</td>\n      <td>133,56 Kişi/km^2</td>\n    </tr>\n    <tr>\n      <th>999998</th>\n      <td>301033049</td>\n      <td>Öket özmarket</td>\n      <td>Şahıs Şirketi</td>\n      <td>Pasif</td>\n      <td>ZEYTİNLİ MAH. 79114 NOLU CAD. NO: 1 İÇ KAPI NO...</td>\n      <td>Gaziantep/Şehitkamil</td>\n      <td>2019-01-31 15:47:21</td>\n      <td>547172655</td>\n      <td>2023-06-09 22:15:00</td>\n      <td>80.00</td>\n      <td>ÖKC</td>\n      <td>None</td>\n      <td>None</td>\n      <td>14.425 Kişi</td>\n      <td>133,56 Kişi/km^2</td>\n    </tr>\n    <tr>\n      <th>999999</th>\n      <td>301033049</td>\n      <td>Öket özmarket</td>\n      <td>Şahıs Şirketi</td>\n      <td>Pasif</td>\n      <td>ZEYTİNLİ MAH. 79114 NOLU CAD. NO: 1 İÇ KAPI NO...</td>\n      <td>Gaziantep/Şehitkamil</td>\n      <td>2019-01-31 15:47:21</td>\n      <td>547176522</td>\n      <td>2023-06-09 22:21:00</td>\n      <td>18.00</td>\n      <td>ÖKC</td>\n      <td>None</td>\n      <td>None</td>\n      <td>14.425 Kişi</td>\n      <td>133,56 Kişi/km^2</td>\n    </tr>\n  </tbody>\n</table>\n<p>1000000 rows × 15 columns</p>\n</div>"
     },
     "execution_count": 404,
     "metadata": {},
     "output_type": "execute_result"
    }
   ],
   "source": [
    "df_in_ses"
   ],
   "metadata": {
    "collapsed": false,
    "ExecuteTime": {
     "end_time": "2023-10-30T10:54:29.316298Z",
     "start_time": "2023-10-30T10:54:29.302614Z"
    }
   },
   "id": "47467bdb07588cbd"
  },
  {
   "cell_type": "code",
   "execution_count": 405,
   "outputs": [
    {
     "name": "stdout",
     "output_type": "stream",
     "text": [
      "<class 'pandas.core.frame.DataFrame'>\n",
      "RangeIndex: 1000000 entries, 0 to 999999\n",
      "Data columns (total 15 columns):\n",
      " #   Column              Non-Null Count    Dtype  \n",
      "---  ------              --------------    -----  \n",
      " 0   id                  1000000 non-null  int64  \n",
      " 1   Marka               1000000 non-null  object \n",
      " 2   IsyeriTipi          1000000 non-null  object \n",
      " 3   UyeDurum            1000000 non-null  object \n",
      " 4   UyeAdres            1000000 non-null  object \n",
      " 5   Sehir               1000000 non-null  object \n",
      " 6   UyeAktivasyonTarih  1000000 non-null  object \n",
      " 7   IslemID             1000000 non-null  int64  \n",
      " 8   IslemTarih          1000000 non-null  object \n",
      " 9   IslemTutar          1000000 non-null  float64\n",
      " 10  Tercih              1000000 non-null  object \n",
      " 11  Versiyon            23643 non-null    object \n",
      " 12  SurumTarih          23643 non-null    object \n",
      " 13  Genel Nüfus         1000000 non-null  object \n",
      " 14  Nüfus Yoğunluğu     1000000 non-null  object \n",
      "dtypes: float64(1), int64(2), object(12)\n",
      "memory usage: 114.4+ MB\n"
     ]
    }
   ],
   "source": [
    "df_in_ses.info()"
   ],
   "metadata": {
    "collapsed": false,
    "ExecuteTime": {
     "end_time": "2023-10-30T10:54:30.878291Z",
     "start_time": "2023-10-30T10:54:30.713457Z"
    }
   },
   "id": "e2e90e5f1d623ff2"
  },
  {
   "cell_type": "code",
   "execution_count": 406,
   "outputs": [
    {
     "data": {
      "text/plain": "                                                           0  \\\nid                                                 301002470   \nMarka                                          Kzar kü pazar   \nIsyeriTipi                                      Tüzel Şirket   \nUyeDurum                                               Aktif   \nUyeAdres            KALE MAH. GAZİ CAD. 82 C İLKADIM/ SAMSUN   \nSehir                                         Samsun/Ilkadim   \nUyeAktivasyonTarih                       2015-09-08 15:08:23   \nIslemID                                            401003136   \nIslemTarih                               2015-09-18 14:35:04   \nIslemTutar                                               5.0   \nTercih                                              CeptePos   \nVersiyon                                                None   \nSurumTarih                                              None   \nGenel Nüfus                                       8.167 Kişi   \nNüfus Yoğunluğu                             371,23 Kişi/km^2   \n\n                                                           1  \\\nid                                                 301002470   \nMarka                                          Kzar kü pazar   \nIsyeriTipi                                      Tüzel Şirket   \nUyeDurum                                               Aktif   \nUyeAdres            KALE MAH. GAZİ CAD. 82 C İLKADIM/ SAMSUN   \nSehir                                         Samsun/Ilkadim   \nUyeAktivasyonTarih                       2015-09-08 15:08:23   \nIslemID                                            403526702   \nIslemTarih                               2019-04-13 13:31:00   \nIslemTutar                                              32.7   \nTercih                                                   ÖKC   \nVersiyon                                                None   \nSurumTarih                                              None   \nGenel Nüfus                                       8.167 Kişi   \nNüfus Yoğunluğu                             371,23 Kişi/km^2   \n\n                                                           2  \\\nid                                                 301002470   \nMarka                                          Kzar kü pazar   \nIsyeriTipi                                      Tüzel Şirket   \nUyeDurum                                               Aktif   \nUyeAdres            KALE MAH. GAZİ CAD. 82 C İLKADIM/ SAMSUN   \nSehir                                         Samsun/Ilkadim   \nUyeAktivasyonTarih                       2015-09-08 15:08:23   \nIslemID                                            403529006   \nIslemTarih                               2019-04-13 19:30:00   \nIslemTutar                                            998.05   \nTercih                                                   ÖKC   \nVersiyon                                                None   \nSurumTarih                                              None   \nGenel Nüfus                                       8.167 Kişi   \nNüfus Yoğunluğu                             371,23 Kişi/km^2   \n\n                                                           3  \\\nid                                                 301002470   \nMarka                                          Kzar kü pazar   \nIsyeriTipi                                      Tüzel Şirket   \nUyeDurum                                               Aktif   \nUyeAdres            KALE MAH. GAZİ CAD. 82 C İLKADIM/ SAMSUN   \nSehir                                         Samsun/Ilkadim   \nUyeAktivasyonTarih                       2015-09-08 15:08:23   \nIslemID                                            403530803   \nIslemTarih                               2019-04-14 13:52:00   \nIslemTutar                                            105.75   \nTercih                                                   ÖKC   \nVersiyon                                                None   \nSurumTarih                                              None   \nGenel Nüfus                                       8.167 Kişi   \nNüfus Yoğunluğu                             371,23 Kişi/km^2   \n\n                                                           4  \nid                                                 301002470  \nMarka                                          Kzar kü pazar  \nIsyeriTipi                                      Tüzel Şirket  \nUyeDurum                                               Aktif  \nUyeAdres            KALE MAH. GAZİ CAD. 82 C İLKADIM/ SAMSUN  \nSehir                                         Samsun/Ilkadim  \nUyeAktivasyonTarih                       2015-09-08 15:08:23  \nIslemID                                            403531107  \nIslemTarih                               2019-04-14 15:09:00  \nIslemTutar                                             163.0  \nTercih                                                   ÖKC  \nVersiyon                                                None  \nSurumTarih                                              None  \nGenel Nüfus                                       8.167 Kişi  \nNüfus Yoğunluğu                             371,23 Kişi/km^2  ",
      "text/html": "<div>\n<style scoped>\n    .dataframe tbody tr th:only-of-type {\n        vertical-align: middle;\n    }\n\n    .dataframe tbody tr th {\n        vertical-align: top;\n    }\n\n    .dataframe thead th {\n        text-align: right;\n    }\n</style>\n<table border=\"1\" class=\"dataframe\">\n  <thead>\n    <tr style=\"text-align: right;\">\n      <th></th>\n      <th>0</th>\n      <th>1</th>\n      <th>2</th>\n      <th>3</th>\n      <th>4</th>\n    </tr>\n  </thead>\n  <tbody>\n    <tr>\n      <th>id</th>\n      <td>301002470</td>\n      <td>301002470</td>\n      <td>301002470</td>\n      <td>301002470</td>\n      <td>301002470</td>\n    </tr>\n    <tr>\n      <th>Marka</th>\n      <td>Kzar kü pazar</td>\n      <td>Kzar kü pazar</td>\n      <td>Kzar kü pazar</td>\n      <td>Kzar kü pazar</td>\n      <td>Kzar kü pazar</td>\n    </tr>\n    <tr>\n      <th>IsyeriTipi</th>\n      <td>Tüzel Şirket</td>\n      <td>Tüzel Şirket</td>\n      <td>Tüzel Şirket</td>\n      <td>Tüzel Şirket</td>\n      <td>Tüzel Şirket</td>\n    </tr>\n    <tr>\n      <th>UyeDurum</th>\n      <td>Aktif</td>\n      <td>Aktif</td>\n      <td>Aktif</td>\n      <td>Aktif</td>\n      <td>Aktif</td>\n    </tr>\n    <tr>\n      <th>UyeAdres</th>\n      <td>KALE MAH. GAZİ CAD. 82 C İLKADIM/ SAMSUN</td>\n      <td>KALE MAH. GAZİ CAD. 82 C İLKADIM/ SAMSUN</td>\n      <td>KALE MAH. GAZİ CAD. 82 C İLKADIM/ SAMSUN</td>\n      <td>KALE MAH. GAZİ CAD. 82 C İLKADIM/ SAMSUN</td>\n      <td>KALE MAH. GAZİ CAD. 82 C İLKADIM/ SAMSUN</td>\n    </tr>\n    <tr>\n      <th>Sehir</th>\n      <td>Samsun/Ilkadim</td>\n      <td>Samsun/Ilkadim</td>\n      <td>Samsun/Ilkadim</td>\n      <td>Samsun/Ilkadim</td>\n      <td>Samsun/Ilkadim</td>\n    </tr>\n    <tr>\n      <th>UyeAktivasyonTarih</th>\n      <td>2015-09-08 15:08:23</td>\n      <td>2015-09-08 15:08:23</td>\n      <td>2015-09-08 15:08:23</td>\n      <td>2015-09-08 15:08:23</td>\n      <td>2015-09-08 15:08:23</td>\n    </tr>\n    <tr>\n      <th>IslemID</th>\n      <td>401003136</td>\n      <td>403526702</td>\n      <td>403529006</td>\n      <td>403530803</td>\n      <td>403531107</td>\n    </tr>\n    <tr>\n      <th>IslemTarih</th>\n      <td>2015-09-18 14:35:04</td>\n      <td>2019-04-13 13:31:00</td>\n      <td>2019-04-13 19:30:00</td>\n      <td>2019-04-14 13:52:00</td>\n      <td>2019-04-14 15:09:00</td>\n    </tr>\n    <tr>\n      <th>IslemTutar</th>\n      <td>5.0</td>\n      <td>32.7</td>\n      <td>998.05</td>\n      <td>105.75</td>\n      <td>163.0</td>\n    </tr>\n    <tr>\n      <th>Tercih</th>\n      <td>CeptePos</td>\n      <td>ÖKC</td>\n      <td>ÖKC</td>\n      <td>ÖKC</td>\n      <td>ÖKC</td>\n    </tr>\n    <tr>\n      <th>Versiyon</th>\n      <td>None</td>\n      <td>None</td>\n      <td>None</td>\n      <td>None</td>\n      <td>None</td>\n    </tr>\n    <tr>\n      <th>SurumTarih</th>\n      <td>None</td>\n      <td>None</td>\n      <td>None</td>\n      <td>None</td>\n      <td>None</td>\n    </tr>\n    <tr>\n      <th>Genel Nüfus</th>\n      <td>8.167 Kişi</td>\n      <td>8.167 Kişi</td>\n      <td>8.167 Kişi</td>\n      <td>8.167 Kişi</td>\n      <td>8.167 Kişi</td>\n    </tr>\n    <tr>\n      <th>Nüfus Yoğunluğu</th>\n      <td>371,23 Kişi/km^2</td>\n      <td>371,23 Kişi/km^2</td>\n      <td>371,23 Kişi/km^2</td>\n      <td>371,23 Kişi/km^2</td>\n      <td>371,23 Kişi/km^2</td>\n    </tr>\n  </tbody>\n</table>\n</div>"
     },
     "execution_count": 406,
     "metadata": {},
     "output_type": "execute_result"
    }
   ],
   "source": [
    "df_in_ses.head().T"
   ],
   "metadata": {
    "collapsed": false,
    "ExecuteTime": {
     "end_time": "2023-10-30T10:54:32.035491Z",
     "start_time": "2023-10-30T10:54:31.833443Z"
    }
   },
   "id": "3db3578e5a93b4bb"
  },
  {
   "cell_type": "code",
   "execution_count": 407,
   "outputs": [],
   "source": [
    "with open('demografi_data.json', 'r') as file:\n",
    "    demografi_data = json.load(file)"
   ],
   "metadata": {
    "collapsed": false,
    "ExecuteTime": {
     "end_time": "2023-10-30T10:54:33.433998Z",
     "start_time": "2023-10-30T10:54:33.424655Z"
    }
   },
   "id": "853c3f7e1c350ef7"
  },
  {
   "cell_type": "code",
   "execution_count": 408,
   "outputs": [
    {
     "data": {
      "text/plain": "{'Samsun/Ilkadim': {'YASLI/GENC ORANI': {'Genc': 50.0,\n   'Orta': 21.0,\n   'Yasli': 29.0},\n  'KADIN/ERKEK ORANI': {'Kadin': 49.0, 'Erkek': 51.0},\n  'YASA GORE NUFUS DAGILIMI': {'0-4': 451,\n   '5-9': 597,\n   '10-14': 497,\n   '15-19': 576,\n   '20-24': 552,\n   '25-29': 627,\n   '30-34': 621,\n   '35-39': 500,\n   '40-44': 576,\n   '45-49': 595,\n   '50-54': 595,\n   '55-59': 595,\n   '60-64': 595,\n   '65+': 1165},\n  'MEDENI HAL': {'Evli': 3910,\n   'Bekar': 1830,\n   'Bosanmis': 520,\n   'Eşi Ölmüş': 572},\n  'EVLILIK ORANI': {'Evli': 37.0,\n   'Bekar': 22.65,\n   'Bosanmis': 47.88,\n   'Eşi Ölmüş': 67.0},\n  'EĞITIM DÜZEYI': {'Bilinmiyor': 86,\n   'Okuryazar Değil': 159,\n   'Okuryazar': 543,\n   'İlkokul': 1858,\n   'Ortaokul': 1243,\n   'İlköğretim': 551,\n   'Lise': 2011,\n   'Lisans': 1140,\n   'Yüksek Lisans': 76},\n  'EĞITIM ORANI': {'Üniversite ve Üstü': 10.0,\n   'İlk, Orta, Lise': 16.0,\n   'Diğer': 72.0}},\n 'Istanbul/Beşiktaş': {'YAŞLI/GENÇ ORANI': {'Genç': 19.0,\n   'Orta': 22.0,\n   'Yaşlı': 59.0},\n  'KADIN/ERKEK ORANI': {'Kadın': 46.0, 'Erkek': 54.0},\n  'YAŞA GÖRE NÜFUS DAĞILIMI': {'0-4': 75,\n   '5-9': 82,\n   '10-14': 119,\n   '15-19': 150,\n   '20-24': 198,\n   '25-29': 425,\n   '30-34': 536,\n   '35-39': 515,\n   '40-44': 295,\n   '45-49': 312,\n   '50-54': 312,\n   '55-59': 287,\n   '60-64': 577,\n   '65+': 512},\n  'MEDENİ HAL': {'Evli': 1416,\n   'Bekar': 1457,\n   'Boşanmış': 577,\n   'Eşi Ölmüş': 165},\n  'EVLİLİK ORANI': {'Evli': 10.32,\n   'Bekar': 31.38,\n   'Boşanmış': 45.92,\n   'Eşi Ölmüş': 12.38},\n  'EĞİTİM DÜZEYİ': {'Bilinmiyor': 60,\n   'Okuryazar Değil': 92,\n   'Okuryazar': 105,\n   'İlkokul': 493,\n   'Ortaokul': 382,\n   'İlköğretim': 152,\n   'Lise': 855,\n   'Lisans': 1247,\n   'Yüksek Lisans': 283,\n   'Doktora': 66},\n  'EĞİTİM ORANI': {'Üniversite ve Üstü': 6.0,\n   'İlk, Orta, Lise': 44.0,\n   'Diğer': 51.0}},\n 'Istanbul/Bayrampaşa': {'Yaşlı/Genç Oranı': {'Genç': 65.0,\n   'Orta': 4.0,\n   'Yaşlı': 31.0},\n  'Kadın/Erkek Oranı': {'Kadın': 52.0, 'Erkek': 48.0},\n  'Yaşa Göre Nüfus Dağılımı': {'0-4': 762.0,\n   '5-9': 900.0,\n   '10-14': 950.0,\n   '15-19': 953.0,\n   '20-24': 1295.0,\n   '25-29': 1414.0,\n   '30-34': 1292.0,\n   '35-39': 1155.0,\n   '40-44': 1035.0,\n   '45-49': 962.0,\n   '50-54': 858.0,\n   '55-59': 712.0,\n   '60-64': 486.0,\n   '65+': 426.0},\n  'Medeni Hal': {'Evli': 7778.0,\n   'Bekar': 4165.0,\n   'Boşanmış': 695.0,\n   'Eşi Ölmüş': 172.0},\n  'Evlilik Oranı': {'Evli': 27.45,\n   'Bekar': 46.96,\n   'Boşanmış': 'N/A',\n   'Eşi Ölmüş': 'N/A'},\n  'Eğitim Düzeyi': {'Bilinmiyor': 92.0,\n   'Okuryazar Değil': 207.0,\n   'Okuryazar Fakat Eğitimsiz': 918.0,\n   'İlkokul': 3182.0,\n   'Ortaokul': 2492.0,\n   'İlköğretim': 387.0,\n   'Lise': 2087.0,\n   'Lisans': 2000.0,\n   'Yüksek Lisans': 103.0},\n  'Eğitim Oranı': {'Üniversite ve Üstü': 10.0,\n   'İlk, Orta, Lise': 16.0,\n   'Diğer': 73.0}},\n 'Istanbul/Ümraniye': {'YAŞLI/GENÇ ORANI': {'Genc': 95.5,\n   'Orta': 35.0,\n   'Yasli': 10.0},\n  'KADIN/ERKEK ORANI': {'Kadin': 48.0, 'Erkek': 52.0},\n  'YASA GORE NUFUS DAGILIMI': {'0-4': 972,\n   '5-9': 702,\n   '10-14': 1082,\n   '15-19': 1111,\n   '20-24': 1385,\n   '25-29': 1445,\n   '30-34': 1450,\n   '35-39': 1293,\n   '40-44': 1238,\n   '45-49': 1075,\n   '50-54': 780,\n   '55-59': 590,\n   '60-64': 545,\n   '65+': 1074},\n  'MEDENI HAL': {'Evli': 7687,\n   'Bekar': 4242,\n   'Bosanmis': 687,\n   'Eşi Ölmüş': 545},\n  'EVLILIK ORANI': {'Evli': 26.41,\n   'Bekar': 47.21,\n   'Bosanmis': 0,\n   'Eşi Ölmüş': 0},\n  'EĞITIM DÜZEYI': {'Bilinmiyor': 0,\n   'Okuryazar Değil': 286,\n   'Okuryazar': 2643,\n   'İlkokul': 1834,\n   'Ortaokul': 283,\n   'İlköğretim': 'N/A',\n   'Lise': 4219,\n   'Lisans': 3041,\n   'Yüksek Lisans': 122,\n   'Doktora': 67},\n  'EĞITIM ORANI': {'Üniversite ve Üstü': 9.0,\n   'İlk, Orta, Lise': 25.0,\n   'Diğer': 66.0}},\n 'Manisa/Soma': {'YAŞLI/GENÇ ORANI': {'Genç': 16.0,\n   'Orta': 31.0,\n   'Yaşlı': 53.0},\n  'KADIN/ERKEK ORANI': {'Kadın': 49.0, 'Erkek': 51.0},\n  'YAŞA GÖRE NÜFUS DAĞILIMI': {'0-4': 690,\n   '5-9': 832,\n   '10-14': 559,\n   '15-19': 648,\n   '20-24': 671,\n   '25-29': 726,\n   '30-34': 851,\n   '35-39': 716,\n   '40-44': 573,\n   '45-49': 525,\n   '50-54': 625,\n   '55-59': 670,\n   '60-64': 1200,\n   '65+': 1470},\n  'MEDENİ HAL': {'Evli': 5116,\n   'Bekar': 3493,\n   'Boşanmış': 482,\n   'Eşi Ölmüş': 565},\n  'EVLİLİK ORANI': {'Evli': 17.35,\n   'Bekar': 53.05,\n   'Boşanmış': 5.4,\n   'Eşi Ölmüş': 4.2},\n  'EĞİTİM DÜZEYİ': {'Bilinmiyor': 23,\n   'Okuryazar Değil': 58,\n   'Okuryazar': 69,\n   'İlkokul': 2065,\n   'Ortaokul': 1548,\n   'İlköğretim': 641,\n   'Lise': 884,\n   'Lisans': 2178,\n   'Yüksek Lisans': 170},\n  'EĞİTİM ORANI': {'Üniversite ve Üstü': 7.0,\n   'İlk, Orta, Lise': 21.0,\n   'Diğer': 71.0}},\n 'Izmir/Buca': {'Yaşlı/Genç Oranı': {'Genç': 20.0,\n   'Orta': 53.0,\n   'Yaşlı': 27.0},\n  'Kadın/Erkek Oranı': {'Kadın': 48.0, 'Erkek': 52.0},\n  'Yaşa Göre Nüfus Dağılımı': {'0-4': 824.0,\n   '5-9': 910.0,\n   '10-14': 770.0,\n   '15-19': 682.0,\n   '20-24': 852.0,\n   '25-29': 926.0,\n   '30-34': 1192.0,\n   '35-39': 1457.0,\n   '40-44': 915.0,\n   '45-49': 912.0,\n   '50-54': 812.0,\n   '55-59': 811.0,\n   '60-64': 788.0,\n   '65+': 1882.0},\n  'Medeni Hal': {'Evli': 6857.0,\n   'Bekar': 3605.0,\n   'Boşanmış': 1465.0,\n   'Eşi Ölmüş': 683.0},\n  'Evliilik Oranı': {'Evli': 67.83,\n   'Bekar': 22.99,\n   'Boşanmış': 9.16,\n   'Eşi Ölmüş': 'N/A'},\n  'Eğitim Düzeyi': {'Bilinmiyor': 71.0,\n   'Okuryazar Değil': 105.0,\n   'Okuryazar': 315.0,\n   'İlkokul': 2876.0,\n   'Ortaokul': 1172.0,\n   'İlköğretim': 'N/A',\n   'Lise': 3541.0,\n   'Lisans': 3255.0,\n   'Yüksek Lisans': 394.0,\n   'Doktora': 62.0},\n  'Eğitim Oranı': {'Üniversite ve Üstü': 7.0,\n   'İlk, Orta, Lise': 64.0,\n   'Diğer': 29.0}},\n 'Aksaray/Ortaköy': {'YAŞLI/GENÇ ORANI': {'Genç': 949.0,\n   'Orta': 940.0,\n   'Yaşlı': 911.0},\n  'KADIN/ERKEK ORANI': {'Kadın': 957.0, 'Erkek': 943.0},\n  'YAŞA GÖRE NÜFUS DAĞILIMI': {'0-4': 125,\n   '5-9': 105,\n   '10-14': 90,\n   '15-19': 96,\n   '20-24': 247,\n   '25-29': 269,\n   '30-34': 127,\n   '35-39': 113,\n   '40-44': 92,\n   '45-49': 79,\n   '50-54': 73,\n   '55-59': 65,\n   '60-64': 64,\n   '65+': 141},\n  'MEDENI HAL': {'Evli': 822, 'Bekar': 59, 'Boşanmış': 51, 'Eşi Ölmüş': 63},\n  'EVLİLİK ORANI': {'Evli': 28.27,\n   'Bekar': 45.32,\n   'Boşanmış': 3.42,\n   'Eşi Ölmüş': 2.99},\n  'EĞİTİM DÜZEYİ': {'Bilinmiyor': 42,\n   'Okuryazar Değil': 177,\n   'Okuryazar': 256,\n   'İlkokul': 270,\n   'Ortaokul': 255,\n   'Lise': 319,\n   'Lisans': 313,\n   'Yüksek Lisans': 83},\n  'EĞİTİM ORANI': {'Üniversite ve Üstü': 13.0,\n   'İlk, Orta, Lise': 24.0,\n   'Diğer': 63.0}},\n 'Izmir/Bornova': {'Yaşlı/Genç Oranı': {'Genç': 50.0,\n   'Orta': 36.0,\n   'Yaşlı': 14.0},\n  'Kadın/Erkek Oranı': {'Kadın': 39.0, 'Erkek': 61.0},\n  'Yaşa Göre Nüfus Dağılımı': {'0-4': 1871,\n   '5-9': 1862,\n   '10-14': 1853,\n   '15-19': 4177,\n   '20-24': 4650,\n   '25-29': 4658,\n   '30-34': 3501,\n   '35-39': 2455,\n   '40-44': 2355,\n   '45-49': 2270,\n   '50-54': 2185,\n   '55-59': 1857,\n   '60-64': 1657,\n   '65+': 3827},\n  'Medeni Hal': {'Evli': 14902,\n   'Bekar': 4357,\n   'Boşanmış': 951,\n   'Eşi Ölmüş': 280},\n  'Evlilik Oranı': {'Evli': 40.79,\n   'Bekar': 40.08,\n   'Boşanmış': '%',\n   'Eşi Ölmüş': '%'},\n  'Eğitim Düzeyi': {'Bilinmiyor': 150,\n   'Okuryazar Değil': 180,\n   'Okuryazar': 1358,\n   'İlkokul': 899,\n   'Ortaokul': 2042,\n   'Köy/Gece Eğitimi': 515,\n   'Lise': 3110,\n   'Lisans': 1233,\n   'Yüksek Lisans': 284,\n   'Doktora': 60},\n  'Eğitim Oranı': {'Üniversite ve Üstü': 50.0,\n   'İlk, Orta, Lise': 46.0,\n   'Diğer': 4.0}},\n 'Antalya/Kepez': {'Yaşlı/Genç Oranı': {'Genç': 68.0,\n   'Orta': 25.2,\n   'Yaşlı': 64.0},\n  'Kadın/Erkek Oranı': {'Kadın': 50.0, 'Erkek': 50.0},\n  'Yaşa Göre Nüfus Dağılımı': {'0-4': 1780,\n   '5-9': 2145,\n   '10-14': 1881,\n   '15-19': 1468,\n   '20-24': 1782,\n   '25-29': 1920,\n   '30-34': 2111,\n   '35-39': 2047,\n   '40-44': 1483,\n   '45-49': 1415,\n   '50-54': 985,\n   '55-59': 875,\n   '60-64': 678,\n   '65+': 1041},\n  'Medeni Hal': {'Evli': 10028,\n   'Bekar': 4412,\n   'Boşanmış': 1136,\n   'Eşi Ölmüş': 328},\n  'Evlilik Oranı': {'Evli': 18.84,\n   'Bekar': 94.7,\n   'Boşanmış': 4.7,\n   'Eşi Ölmüş': 4.7},\n  'Eğitim Düzeyi': {'Bilinmiyor': 128,\n   'Okuryazar Değil': 2074,\n   'Okuryazar': 361,\n   'İlkokul': 3938,\n   'Ortaokul': 3634,\n   'Köy/Gece Eğitimi': 475,\n   'Lise': 1919,\n   'Lisans': 193,\n   'Yüksek Lisans': 68,\n   'Doktora': 18},\n  'Eğitim Oranı': {'Üniversite ve Üstü': 14.0,\n   'İlk, Orta, Lise': 10.0,\n   'Diğer': 77.0}},\n 'Istanbul/Bahçelievler': {'Yaşlı/Genç Oranı': {'Genç': 18.0,\n   'Orta': 51.0,\n   'Yaşlı': 31.0},\n  'Kadın/Erkek Oranı': {'Kadın': 47.0, 'Erkek': 53.0},\n  'Yaşa Göre Nüfus Dağılımı': {'0-4': 1085,\n   '5-9': 4747,\n   '10-14': 3924,\n   '15-19': 3522,\n   '20-24': 3638,\n   '25-29': 3833,\n   '30-34': 4128,\n   '35-39': 5390,\n   '40-44': 4818,\n   '45-49': 4243,\n   '50-54': 3724,\n   '55-59': 3618,\n   '60-64': 2742,\n   '65+': 7272},\n  'Medeni Hal': {'Evli': 28109,\n   'Bekar': 18935,\n   'Boşanmış': 3227,\n   'Eşi Ölmüş': 2676},\n  'Evlilik Oranı': {'Evli': 23.44,\n   'Bekar': 46.94,\n   'Boşanmış': 'N/A',\n   'Eşi Ölmüş': 'N/A'},\n  'Eğitim Düzeyi': {'Bilinmiyor': 82,\n   'Okuryazar Değil': 2428,\n   'Okuryazar': 8055,\n   'İlkokul': 6514,\n   'Ortaokul': 3613,\n   'Köy/Gece Eğitimi': 878,\n   'Lise': 13670,\n   'Lisans': 3434,\n   'Yüksek Lisans': 165,\n   'Doktora': 45},\n  'Eğitim Oranı': {'Üniversite ve Üstü': 10.0,\n   'İlk, Orta, Lise': 36.0,\n   'Diğer': 54.0}},\n 'Istanbul/Kartal': {'Yaşlı/Genç Oranı': {'Genç': 56.0,\n   'Orta': 20.0,\n   'Yaşlı': 25.0},\n  'Kadın/Erkek Oranı': {'Kadın': 48.0, 'Erkek': 52.0},\n  'Yaşa Göre Nüfus Dağılımı': {'0-4': 822,\n   '5-9': 755,\n   '10-14': 713,\n   '15-19': 682,\n   '20-24': 1029,\n   '25-29': 1183,\n   '30-34': 1255,\n   '35-39': 1453,\n   '40-44': 1463,\n   '45-49': 1053,\n   '50-54': 810,\n   '55-59': 699,\n   '60-64': 665,\n   '65+': 1505},\n  'Medeni Hal': {'Evli': 6422,\n   'Bekar': 3250,\n   'Boşanmış': 1222,\n   'Eşi Ölmüş': 636},\n  'Evlilik Oranı': {'Evli': 46.22,\n   'Bekar': 24.53,\n   'Boşanmış': 9.61,\n   'Eşi Ölmüş': 9.0},\n  'Eğitim Düzeyi': {'Bilinmiyor': 272,\n   'Okuryazar Değil': 82,\n   'Okuryazar': 353,\n   'İlkokul': 1442,\n   'Ortaokul': 115,\n   'İlköğretim': 198,\n   'Lise': 3122,\n   'Lisans': 3815,\n   'Yüksek Lisans': 722,\n   'Doktora': 198},\n  'Eğitim Oranı': {'Üniversite ve Üstü': 9.0,\n   'İlk, Orta, Lise': 51.0,\n   'Diğer': 40.0}},\n 'Bursa/Osmangazi': {'Yaşlı/Genç Oranı': {'Genç': 52.0,\n   'Orta': 29.0,\n   'Yaşlı': 19.0},\n  'Kadın/Erkek Oranı': {'Kadın': 52.0, 'Erkek': 48.0},\n  'Yaşa Göre Nüfus Dağılımı': {'0-4': 28,\n   '5-9': 32,\n   '10-14': 44,\n   '15-19': 57,\n   '20-24': 63,\n   '25-29': 88,\n   '30-34': 72,\n   '35-39': 42,\n   '40-44': 53,\n   '45-49': 79,\n   '50-54': 77,\n   '55-59': 62,\n   '60-64': 65,\n   '65+': 103},\n  'Medeni Hal': {'Evli': 390, 'Bekar': 241, 'Boşanmış': 53, 'Eşi Ölmüş': 33},\n  'Evlilik Oranı': {'Evli': 67.31,\n   'Bekar': 27.39,\n   'Boşanmış': 4.61,\n   'Eşi Ölmüş': 0.67},\n  'Eğitim Düzeyi': {'Okuryazar Eğitimsiz': 46,\n   'İlkokul': 208,\n   'Ortaokul': 174,\n   'İlköğretim': 74,\n   'Lise': 135,\n   'Lisans': 68},\n  'Eğitim Oranı': {'Üniversite ve Üstü': 20.0,\n   'İlk, Orta, Lise': 61.0,\n   'Diğer': 19.0}},\n 'Istanbul/Kağithane': {'Yaşlı/Genç Oranı': {'Genç': 36.0,\n   'Orta': 56.0,\n   'Yaşlı': 8.0},\n  'Kadın/Erkek Oranı': {'Kadın': 49.0, 'Erkek': 51.0},\n  'Yaşa Göre Nüfus Dağılımı': {'0-4': 2047,\n   '5-9': 2455,\n   '10-14': 2417,\n   '15-19': 2124,\n   '20-24': 2833,\n   '25-29': 3070,\n   '30-34': 3246,\n   '35-39': 3157,\n   '40-44': 3104,\n   '45-49': 2625,\n   '50-54': 2441,\n   '55-59': 1683,\n   '60-64': 1405,\n   '65+': 1765},\n  'Medeni Hal': {'Evli': 15834,\n   'Bekar': 9192,\n   'Boşanmış': 1430,\n   'Eşi Ölmüş': 505},\n  'Evlilik Oranı': {'Evli': 28.12,\n   'Bekar': 45.57,\n   'Boşanmış': 2.12,\n   'Eşi Ölmüş': 0.75},\n  'Eğitim Düzeyi': {'Bilinmiyor': 291,\n   'Okuryazar Değil': 246,\n   'Okuryazar Eğitimsiz': 562,\n   'İlkokul': 4833,\n   'Ortaokul': 4182,\n   'İlköğretim': 7482,\n   'Lise': 7495,\n   'Lisans': 3188,\n   'Yüksek Lisans': 912,\n   'Doktora': 65},\n  'Eğitim Oranı': {'Üniversite ve Üstü': 10.0,\n   'İlk, Orta, Lise': 65.0,\n   'Diğer': 25.0}},\n 'Istanbul/Fatih ': {'Yaşlı/Genç Oranı': {'Genç': 49.0,\n   'Orta': 35.0,\n   'Yaşlı': 16.0},\n  'Kadın/Erkek Oranı': {'Kadın': 50.0, 'Erkek': 50.0},\n  'Yaşa Göre Nüfus Dağılımı': {'0-4': 612,\n   '5-9': 622,\n   '10-14': 682,\n   '15-19': 765,\n   '20-24': 838,\n   '25-29': 834,\n   '30-34': 765,\n   '35-39': 715,\n   '40-44': 675,\n   '45-49': 688,\n   '50-54': 648,\n   '55-59': 803,\n   '60-64': 719,\n   '65+': 1149},\n  'Medeni Hal': {'Evli': 4084,\n   'Bekar': 3030,\n   'Boşanmış': 483,\n   'Eşi Ölmüş': 524},\n  'Evlilik Oranı': {'Evli': 30.85,\n   'Bekar': 41.29,\n   'Boşanmış': None,\n   'Eşi Ölmüş': None},\n  'Eğitim Düzeyi': {'Bilinmiyor': 258,\n   'Okuryazar Değil': 175,\n   'Okuryazar': 530,\n   'İlkokul': 765,\n   'Ortaokul': 2011,\n   'Lise': 1575,\n   'Lisans': 217,\n   'Yüksek Lisans': 94,\n   'Doktora': 40},\n  'Eğitim Oranı': {'Üniversite ve Üstü': 12.0,\n   'İlk, Orta, Lise': 20.0,\n   'Diğer': 67.0}},\n 'Kocaeli/Derince': {'YASLI/GENC ORANI': {'Genç': 52.0,\n   'Orta': 34.0,\n   'Yaşlı': 14.0},\n  'KADIN/ERKEK ORANI': {'Kadın': 50.0, 'Erkek': 50.0},\n  'YASA GORE NÜFUS DAĞILIMI': {'0-4': 1676.0,\n   '5-9': 1790.0,\n   '10-14': 1834.0,\n   '15-19': 1355.0,\n   '20-24': 1496.0,\n   '25-29': 1274.0,\n   '30-34': 1385.0,\n   '35-39': 1390.0,\n   '40-44': 1135.0,\n   '45-49': 978.0,\n   '50-54': 922.0,\n   '55-59': 782.0,\n   '60-64': 686.0,\n   '65+': 1605.0},\n  'MEDENI HAL': {'Evli': 8182.0,\n   'Bekar': 3287.0,\n   'Boşanmış': 676.0,\n   'Eşi Ölmüş': 859.0},\n  'EVLILIK ORANI': {'Evli': 21.93, 'Bekar': 48.66},\n  'EĞITIM DÜZEYI': {'Bilinmiyor': 212.0,\n   'Okuryazar Değil': 367.0,\n   'Okuryazar': 255.0,\n   'İlkokul': 3316.0,\n   'Ortaokul': 2882.0,\n   'Yüksekokul': 1474.0,\n   'Lise': 3816.0,\n   'Lisans': 1922.0,\n   'Yüksek Lisans': 141.0},\n  'EĞITIM ORANI': {'Üniversite ve Üstü': 11.0,\n   'İlk, Orta, Lise': 14.0,\n   'Diğer': 75.0}},\n 'Istanbul/Küçükçekmece': {'Yaşlı/Genç Oranı': {'Genç': 55.0,\n   'Orta': 34.0,\n   'Yaşlı': 11.0},\n  'Kadın/Erkek Oranı': {'Kadın': 50.0, 'Erkek': 50.0},\n  'Yaşa Göre Nüfus Dağılımı': {'0-4': 2116,\n   '5-9': 2457,\n   '10-14': 2518,\n   '15-19': 2449,\n   '20-24': 2688,\n   '25-29': 3189,\n   '30-34': 3686,\n   '35-39': 3388,\n   '40-44': 3003,\n   '45-49': 2465,\n   '50-54': 1910,\n   '55-59': 1410,\n   '60-64': 2097,\n   '65+': 2597},\n  'Medeni Hal': {'Evli': 17519,\n   'Bekar': 9090,\n   'Boşanmış': 1512,\n   'Eşi Ölmüş': 1259},\n  'Evlilik Oranı': {'Evli': 24.87,\n   'Bekar': 47.89,\n   'Boşanmış': '',\n   'Eşi Ölmüş': ''},\n  'Eğitim Düzeyi': {'Bilinmiyor': 934,\n   'Okur Yazar Değil': 858,\n   'Okuryazar': 2613,\n   'İlkokul': 3889,\n   'Ortaokul': 5161,\n   'İlköğretim': 2938,\n   'Lise': 3900,\n   'Lisans': 5176,\n   'Yüksek Lisans': 1417,\n   'Doktora': 145},\n  'Eğitim Oranı': {'Üniversite ve Üstü': 11.0,\n   'İlk, Orta, Lise': 17.0,\n   'Diğer': 71.0}},\n 'Samsun/Canik': {'YAŞLI/GENÇ ORANI': {'Genç': 61.0,\n   'Orta': 12.0,\n   'Yaşlı': 27.0},\n  'KADIN/ERKEK ORANI': {'Kadın': 51.0, 'Erkek': 49.0},\n  'YASA GÖRE NÜFÜS DAĞILIMI': {'0-4': 56.0,\n   '5-9': 32.0,\n   '10-14': 40.0,\n   '15-19': 51.0,\n   '20-24': 106.0,\n   '25-29': 64.0,\n   '30-34': 68.0,\n   '35-39': 61.0,\n   '40-44': 57.0,\n   '45-49': 48.0,\n   '50-54': 37.0,\n   '55-59': 52.0,\n   '60-64': 37.0,\n   '65+': 52.0},\n  'MEDENI HAL': {'Evli': 343.0,\n   'Bekar': 187.0,\n   'Boşanmış': 55.0,\n   'Eşi Ölmüş': 23.0},\n  'EVLILIK ORANI': {'Evli': 48.54,\n   'Bekar': 26.08,\n   'Boşanmış': 7.81,\n   'Eşi Ölmüş': 17.76},\n  'EĞITIM DÜZEYI': {'Okuryazar Eğitimsiz': 107.0,\n   'İlkokul': 83.0,\n   'Ortaokul': 53.0,\n   'İlköğretim': 55.0,\n   'Lise': 140.0,\n   'Lisans': 120.0},\n  'EĞITIM ORANI': {'Üniversite ve Üstü': 7.0,\n   'İlk, Orta, Lise': 22.0,\n   'Diğer': 71.0}},\n 'Ankara/Elmadağ': {'Yaş Grupları': {'Genç': 14.0,\n   'Orta': 54.0,\n   'Yaşlı': 32.0},\n  'Cinsiyet Dağılımı': {'Kadın': 51.0, 'Erkek': 49.0},\n  'Yaşa Göre Nüfus Dağılımı': {'0-4': 256.0,\n   '5-9': 235.0,\n   '10-14': 219.0,\n   '15-19': 252.0,\n   '20-24': 256.0,\n   '25-29': 295.0,\n   '30-34': 314.0,\n   '35-39': 315.0,\n   '40-44': 313.0,\n   '45-49': 278.0,\n   '50-54': 280.0,\n   '55-59': 216.0,\n   '60-64': 206.0,\n   '65+': 329.0},\n  'Medeni Hal': {'Evli': 2025.0,\n   'Bekar': 729.0,\n   'Boşanmış': 161.0,\n   'Eşi Ölmüş': 112.0},\n  'Evlilik Oranı': {'Evli': 19.87,\n   'Bekar': 52.33,\n   'Boşanmış': 7.62,\n   'Eşi Ölmüş': 20.18},\n  'Eğitim Seviyesi': {'Bilinmiyor': 16.0,\n   'Okuryazar Değil': 25.0,\n   'Okuryazar': 53.0,\n   'İlkokul': 215.0,\n   'Ortaokul': 572.0,\n   'İlköğretim': 122.0,\n   'Lise': 1183.0,\n   'Lisans': 712.0,\n   'Yüksek Lisans': 112.0},\n  'Eğitim Oranı': {'Üniversite ve Üstü': 7.0,\n   'İlk, Orta, Lise': 23.0,\n   'Diğer': 70.0}},\n 'Istanbul/Ataşehir': {'Yaşlı/Genç Oranı': {'Genç': 55.0,\n   'Orta': 33.0,\n   'Yaşlı': 12.0},\n  'Kadın/Erkek Oranı': {'Kadın': 49.0, 'Erkek': 51.0},\n  'Yaşa Göre Nüfus Dağılımı': {'0-4': 2182.0,\n   '5-9': 2243.0,\n   '10-14': 2688.0,\n   '15-19': 2367.0,\n   '20-24': 1952.0,\n   '25-29': 2505.0,\n   '30-34': 2659.0,\n   '35-39': 3672.0,\n   '40-44': 3327.0,\n   '45-49': 2617.0,\n   '50-54': 1884.0,\n   '55-59': 1424.0,\n   '60-64': 2338.0,\n   '65+': 2236.0},\n  'Medeni Hal': {'Evli': 15429.0,\n   'Bekar': 7548.0,\n   'Boşanmış': 1812.0,\n   'Eşi Ölmüş': 887.0},\n  'Evlilik Oranı': {'Evli': 23.79,\n   'Bekar': 47.97,\n   'Boşanmış': '',\n   'Eşi Ölmüş': ''},\n  'Eğitim Düzeyi': {'Bilinmiyor': 429.0,\n   'Okuryazar Değil': 385.0,\n   'Okuryazar': 2455.0,\n   'İlkokul': 4207.0,\n   'Ortaokul': 3822.0,\n   'Lise': 4025.0,\n   'Üniversite (Lisans)': 8442.0,\n   'Yüksek Lisans': 2821.0,\n   'Doktora': 712.0},\n  'Eğitim Oranı': {'Üniversite ve Üstü': 10.0,\n   'İlk, Orta, Lise': 48.0,\n   'Diğer': 41.0}},\n 'Istanbul/Sancaktepe': {'Yaşlı/Genç Oranı': {'Genç': 56.0,\n   'Orta': 8.0,\n   'Yaşlı': 36.0},\n  'Kadın/Erkek Oranı': {'Kadın': 50.0, 'Erkek': 50.0},\n  'Yaşa Göre Nüfus Dağılımı': {'0-4': 1685.0,\n   '5-9': 2245.0,\n   '10-14': 2068.0,\n   '15-19': 1810.0,\n   '20-24': 1967.0,\n   '25-29': 2168.0,\n   '30-34': 2517.0,\n   '35-39': 2309.0,\n   '40-44': 2122.0,\n   '45-49': 1783.0,\n   '50-54': 1321.0,\n   '55-59': 685.0,\n   '60-64': 492.0,\n   '65+': 421.0},\n  'Medeni Hal': {'Evli': 13176.0,\n   'Bekar': 8167.0,\n   'Boşanmış': 1458.0,\n   'Eşi Ölmüş': 865.0},\n  'Evlilik Oranı': {'Evli': 22.58,\n   'Bekar': 48.24,\n   'Boşanmış': 'N/A',\n   'Eşi Ölmüş': 'N/A'},\n  'Eğitim Düzeyi': {'Bilinmiyor': 188.0,\n   'Okuryazar Değil': 409.0,\n   'Okuryazar': 2202.0,\n   'İlkokul': 4612.0,\n   'Ortaokul': 1354.0,\n   'İlköğretim': 575.0,\n   'Lise': 4955.0,\n   'Lisans': 1943.0,\n   'Yüksek Lisans': 519.0,\n   'Doktora': 61.0},\n  'Eğitim Oranı': {'Üniversite ve Üstü': 12.0,\n   'İlk, Orta, Lise': 23.0,\n   'Diğer': 65.0}},\n 'Istanbul/Şişli': {'Yaşlı/Genç Oranı': {'Genç': 23.0,\n   'Orta': 57.0,\n   'Yaşlı': 20.0},\n  'Kadın/Erkek Oranı': {'Kadın': 46.0, 'Erkek': 54.0},\n  'Yaşa Göre Nüfus Dağılımı': {'0-4': 638,\n   '5-9': 442,\n   '10-14': 452,\n   '15-19': 536,\n   '20-24': 768,\n   '25-29': 965,\n   '30-34': 1215,\n   '35-39': 1427,\n   '40-44': 1077,\n   '45-49': 1025,\n   '50-54': 897,\n   '55-59': 647,\n   '60-64': 545,\n   '65+': 2.265},\n  'Medeni Hal': {'Evli': 5898,\n   'Bekar': 4345,\n   'Boşanmış': 1413,\n   'Eşi Ölmüş': 784},\n  'Evlilik Oranı': {'Evli': 10.5,\n   'Bekar': 39.46,\n   'Boşanmış': 34.47,\n   'Eşi Ölmüş': 15.07},\n  'Eğitim Düzeyi': {'Bilinmiyor': 498,\n   'Okuryazar Değil': 413,\n   'Okuryazar': 872,\n   'İlkokul': 1072,\n   'Ortaokul': 1142,\n   'İlköğretim': 1024,\n   'Lise': 3.015,\n   'Lisans': 4.21,\n   'Yüksek Lisans': 891,\n   'Doktora': 252},\n  'Eğitim Oranı': {'Üniversite ve Üstü': 6.0,\n   'İlk, Orta, Lise': 46.0,\n   'Diğer': 47.0}},\n 'Eskişehir/Odunpazari': {'YASLI/GENC ORANI': {'Genc': 52.0,\n   'Orta': 29.0,\n   'Yasli': 19.0},\n  'KADIN/ERKEK ORANI': {'Kadin': 48.0, 'Erkek': 52.0},\n  'YASA GORE NUFUS DAGILIMI': {'0-4': 287,\n   '5-9': 442,\n   '10-14': 391,\n   '15-19': 527,\n   '20-24': 598,\n   '25-29': 488,\n   '30-34': 490,\n   '35-39': 555,\n   '40-44': 537,\n   '45-49': 517,\n   '50-54': 477,\n   '55-59': 485,\n   '60-64': 632,\n   '65+': 852},\n  'MEDENI HAL': {'Evli': 3164,\n   'Bekar': 1238,\n   'Bosanmis': 310,\n   'Eşi Ölmüş': 368},\n  'EVLILIK ORANI': {'Evli': 20.36,\n   'Bekar': 52.0,\n   'Bosanmis': 5.0,\n   'Eşi Ölmüş': 22.64},\n  'EĞITIM DÜZEYI': {'Bilinmiyor': 75,\n   'Okuryazar Değil': 82,\n   'Okuryazar': 212,\n   'İlkokul': 505,\n   'Ortaokul': 309,\n   'İlköğretim': 300,\n   'Lise': 1178,\n   'Lisans': 1235,\n   'Yüksek Lisans': 112,\n   'Doktora': 18},\n  'EĞITIM ORANI': {'Üniversite ve Üstü': 9.0,\n   'İlk, Orta, Lise': 23.0,\n   'Diğer': 69.0}},\n 'Istanbul/Esenyurt': {'yasli_genç_orani': {'genç': 96.0,\n   'orta': 94.5,\n   'yaşlı': 94.9},\n  'kadın_erkek_orani': {'kadın': 95.1, 'erkek': 94.9},\n  'yaşa_göre_nüfus_dağılımı': {'0-4': 2853.0,\n   '5-9': 3176.0,\n   '10-14': 3197.0,\n   '15-19': 2259.0,\n   '20-24': 2307.0,\n   '25-29': 2865.0,\n   '30-34': 2839.0,\n   '35-39': 2639.0,\n   '40-44': 2403.0,\n   '45-49': 2640.0,\n   '50-54': 1696.0,\n   '55-59': 1098.0,\n   '60-64': 689.0,\n   '65+': 1195.0},\n  'medeni_hal': {'evli': 14464.0,\n   'bekar': 3617.0,\n   'boşanmış': 818.0,\n   'eşi_ölmüş': 286.0},\n  'evlilik_orani': {'evli': 92.2,\n   'bekar': 94.5,\n   'boşanmış': 0.1,\n   'eşi_ölmüş': 0.1},\n  'eğitim_düzeyi': {'bilmiyor': 327.0,\n   'okuryazar_değil': 158.0,\n   'okur_yazar_ama_çocuklukta_eğitimsiz': 3157.0,\n   'ilkokul': 6577.0,\n   'ortaokul': 5055.0,\n   'ilköğretim': 2606.0,\n   'lise': 5641.0,\n   'lisans': 2287.0,\n   'yüksek_lisans': 1841.0},\n  'eğitim_orani': {'üniversite_ve_üstü': 15.0,\n   'ilk_orta_lise': 61.0,\n   'diğer': 75.0}},\n 'Giresun/Bulancak': {'YASLI/GENC ORANI': {'Genç': 49.0,\n   'Orta': 20.0,\n   'Yaşlı': 31.0},\n  'KADIN/ERKEK ORANI': {'Kadın': 49.0, 'Erkek': 51.0},\n  'YASA GÖRE NÜFÜS DAĞILIMI': {'0-4': 283,\n   '5-9': 325,\n   '10-14': 341,\n   '15-19': 541,\n   '20-24': 372,\n   '25-29': 390,\n   '30-34': 465,\n   '35-39': 358,\n   '40-44': 312,\n   '45-49': 381,\n   '50-54': 727,\n   '55-59': 'N/A',\n   '60-64': 'N/A',\n   '65+': 727},\n  'MEDENI HAL': {'Evli': 2678,\n   'Bekar': 1081,\n   'Boşanmış': 453,\n   'Eşi Ölmüş': 672},\n  'EVLILIK ORANI': {'Evli': 67.12,\n   'Bekar': 20.68,\n   'Boşanmış': 9.31,\n   'Eşi Ölmüş': 'N/A'},\n  'EĞITIM DÜZEYI': {'Bilmiyor': 35,\n   'Okuryazar Değil': 65,\n   'Okuryazar Eğitimsiz': 545,\n   'İlkokul': 1022,\n   'Ortaokul': 683,\n   'İlköğretim': 891,\n   'Lise': 1245,\n   'Lisans': 993,\n   'Yüksek Lisans': 95},\n  'EĞITIM ORANI': {'Üniversite ve Üstü': 13.0,\n   'İlk, Orta, Lise': 15.0,\n   'Diğer': 72.0}},\n 'Ankara/Altindağ': {'YASLI/GENC ORANI': {'Genc': 30.0,\n   'Orta': '',\n   'Yasli': 66.0},\n  'KADIN/ERKEK ORANI': {'Kadin': 33.0, 'Erkek': 67.0},\n  'YASA GORE NUFUS DAGILIMI': {'0-4': 273,\n   '5-9': 398,\n   '10-14': 1108,\n   '15-19': 3154,\n   '20-24': 1108,\n   '25-29': 382,\n   '30-34': 267,\n   '35-39': 211,\n   '40-44': 223,\n   '45-49': 189,\n   '50-54': 147,\n   '55-59': 208,\n   '60-64': '',\n   '65+': ''},\n  'MEDENI HAL': {'Evli': 4014,\n   'Bekar': 6324,\n   'Bosanmis': 708,\n   'Eşi Ölmüş': 86},\n  'EVLILIK ORANI': {'Evli': 8.4,\n   'Bekar': 12.03,\n   'Bosanmis': '',\n   'Eşi Ölmüş': 67.33},\n  'EĞITIM DÜZEYI': {'Bilinmiyor': 159,\n   'Okuryazar Değil': 413,\n   'Okuryazar Eğitimsiz': 648,\n   'İlkokul': 648,\n   'Ortaokul': '',\n   'İlköğretim': 260,\n   'Lise': 900,\n   'Lisans': 167,\n   'Yüksek Lisans': ''},\n  'EĞITIM ORANI': {'Üniversite ve Üstü': 9.0,\n   'İlk, Orta, Lise': 17.0,\n   'Diğer': 74.0}},\n 'Gaziantep/Şehitkamil': {'YASLI/GENC ORANI': {'Genc': 945.0,\n   'Orta': 649.0,\n   'Yasli': 96.0},\n  'KADIN/ERKEK ORANI': {'Kadin': 50.0, 'Erkek': 50.0},\n  'YASA GÖRE NÜFÜS DAĞILIMI': {'0-4': 1216,\n   '5-9': 1200,\n   '10-14': 1290,\n   '15-19': 1468,\n   '20-24': 1122,\n   '25-29': 1081,\n   '30-34': 1085,\n   '35-39': 1143,\n   '40-44': 1119,\n   '45-49': 977,\n   '50-54': 682,\n   '55-59': 538,\n   '60-64': 500,\n   '65+': 510},\n  'MEDENI HAL': {'Evli': 6418,\n   'Bekar': 2090,\n   'Bosanmis': 293,\n   'Esj Ölmüs': 298},\n  'EVLILIK ORANI': {'Evli': 20.86,\n   'Bekar': 44.49,\n   'Bosanmis': None,\n   'Esj Ölmüs': None},\n  'EĞITIM DÜZEYI': {'Bilmiyor': None,\n   'Okuryazar Degil': 187,\n   'Okuryazar': 65,\n   'Ilkokul': 2383,\n   'Ortaokul': 2457,\n   'Lise': 1414,\n   'Lisans': 2159,\n   'Yüksek Lisans': 193},\n  'EĞITIM ORANI': {'Üniversite ve Üstü': 15.0,\n   'Ilk, Orta, Lise': 14.0,\n   'Diger': 72.0}},\n 'Istanbul/Güngören': {'YASLI/GENC ORANI': {'Genc': 55.0,\n   'Orta': 28.0,\n   'Yasli': 17.0},\n  'KADIN/ERKEK ORANI': {'Kadin': 50.0, 'Erkek': 50.0},\n  'YASA GORE NUFUS DAGILIMI': {'0-4': 837,\n   '5-9': 835,\n   '10-14': 816,\n   '15-19': 951,\n   '20-24': 1485,\n   '25-29': 1357,\n   '30-34': 1192,\n   '35-39': 1244,\n   '40-44': 1185,\n   '45-49': 1015,\n   '50-54': 903,\n   '55-59': 818,\n   '60-64': 1188,\n   '65+': 1808},\n  'MEDENI HAL': {'Evli': 7524,\n   'Bekar': 4222,\n   'Bosanmis': 657,\n   'Eşi Ölmüş': 503},\n  'EVLILIK ORANI': {'Evli': 27.94,\n   'Bekar': 46.45,\n   'Bosanmis': 14.61,\n   'Eşi Ölmüş': 11.0},\n  'EĞITIM DÜZEYI': {'Bilmiyor': 217,\n   'Okuryazar Değil': 357,\n   'Okuryazar': 565,\n   'İlkokul': 2868,\n   'Ortaokul': 2170,\n   'İlkoğretim': 728,\n   'Lise': 935,\n   'Lisans': 2375,\n   'Yüksek Lisans': 828,\n   'Doktora': 17},\n  'EĞITIM ORANI': {'Üniversite ve Üstü': 10.0,\n   'İlk, Orta, Lise': 21.0,\n   'Diğer': 70.0}}}"
     },
     "execution_count": 408,
     "metadata": {},
     "output_type": "execute_result"
    }
   ],
   "source": [
    "demografi_data"
   ],
   "metadata": {
    "collapsed": false,
    "ExecuteTime": {
     "end_time": "2023-10-30T10:54:34.910175Z",
     "start_time": "2023-10-30T10:54:34.495594Z"
    }
   },
   "id": "7c8ed9fb5e8c920"
  },
  {
   "cell_type": "code",
   "execution_count": 410,
   "outputs": [],
   "source": [
    "df_in_ses['Genc_Orani'] = df_in_ses['Sehir'].map(lambda city: demografi_data.get(city, {}).get(\"YASLI/GENC ORANI\", {}).get(\"Genc\", 0))\n",
    "df_in_ses['Orta_Orani'] = df_in_ses['Sehir'].map(lambda city: demografi_data.get(city, {}).get(\"YASLI/GENC ORANI\", {}).get(\"Orta\", 0))\n",
    "df_in_ses['Yasli_Orani'] = df_in_ses['Sehir'].map(lambda city: demografi_data.get(city, {}).get(\"YASLI/GENC ORANI\", {}).get(\"Yasli\", 0))\n",
    "\n",
    "df_in_ses['Kadin_Orani'] = df_in_ses['Sehir'].map(lambda city: demografi_data.get(city, {}).get(\"KADIN/ERKEK ORANI\", {}).get(\"Kadin\", 0))\n",
    "df_in_ses['Erkek_Orani'] = df_in_ses['Sehir'].map(lambda city: demografi_data.get(city, {}).get(\"KADIN/ERKEK ORANI\", {}).get(\"Erkek\", 0))\n",
    "\n",
    "df_in_ses['Universite_Ustu_Orani'] = df_in_ses['Sehir'].map(lambda city: demografi_data.get(city, {}).get(\"EĞITIM ORANI\", {}).get(\"Üniversite ve Üstü\", 0))\n",
    "df_in_ses['Ilk_Orta_Lise_Orani'] = df_in_ses['Sehir'].map(lambda city: demografi_data.get(city, {}).get(\"EĞITIM ORANI\", {}).get(\"İlk, Orta, Lise\", 0))\n",
    "df_in_ses['Diger_Egitim_Orani'] = df_in_ses['Sehir'].map(lambda city: demografi_data.get(city, {}).get(\"EĞITIM ORANI\", {}).get(\"Diğer\", 0))\n"
   ],
   "metadata": {
    "collapsed": false,
    "ExecuteTime": {
     "end_time": "2023-10-30T10:54:44.024643Z",
     "start_time": "2023-10-30T10:54:42.677256Z"
    }
   },
   "id": "7b2a2b4b7e7bf52c"
  },
  {
   "cell_type": "code",
   "execution_count": 411,
   "outputs": [
    {
     "data": {
      "text/plain": "               id          Marka     IsyeriTipi UyeDurum  \\\n0       301002470  Kzar kü pazar   Tüzel Şirket    Aktif   \n1       301002470  Kzar kü pazar   Tüzel Şirket    Aktif   \n2       301002470  Kzar kü pazar   Tüzel Şirket    Aktif   \n3       301002470  Kzar kü pazar   Tüzel Şirket    Aktif   \n4       301002470  Kzar kü pazar   Tüzel Şirket    Aktif   \n...           ...            ...            ...      ...   \n999995  301033049  Öket özmarket  Şahıs Şirketi    Pasif   \n999996  301033049  Öket özmarket  Şahıs Şirketi    Pasif   \n999997  301033049  Öket özmarket  Şahıs Şirketi    Pasif   \n999998  301033049  Öket özmarket  Şahıs Şirketi    Pasif   \n999999  301033049  Öket özmarket  Şahıs Şirketi    Pasif   \n\n                                                 UyeAdres  \\\n0                KALE MAH. GAZİ CAD. 82 C İLKADIM/ SAMSUN   \n1                KALE MAH. GAZİ CAD. 82 C İLKADIM/ SAMSUN   \n2                KALE MAH. GAZİ CAD. 82 C İLKADIM/ SAMSUN   \n3                KALE MAH. GAZİ CAD. 82 C İLKADIM/ SAMSUN   \n4                KALE MAH. GAZİ CAD. 82 C İLKADIM/ SAMSUN   \n...                                                   ...   \n999995  ZEYTİNLİ MAH. 79114 NOLU CAD. NO: 1 İÇ KAPI NO...   \n999996  ZEYTİNLİ MAH. 79114 NOLU CAD. NO: 1 İÇ KAPI NO...   \n999997  ZEYTİNLİ MAH. 79114 NOLU CAD. NO: 1 İÇ KAPI NO...   \n999998  ZEYTİNLİ MAH. 79114 NOLU CAD. NO: 1 İÇ KAPI NO...   \n999999  ZEYTİNLİ MAH. 79114 NOLU CAD. NO: 1 İÇ KAPI NO...   \n\n                       Sehir   UyeAktivasyonTarih    IslemID  \\\n0             Samsun/Ilkadim  2015-09-08 15:08:23  401003136   \n1             Samsun/Ilkadim  2015-09-08 15:08:23  403526702   \n2             Samsun/Ilkadim  2015-09-08 15:08:23  403529006   \n3             Samsun/Ilkadim  2015-09-08 15:08:23  403530803   \n4             Samsun/Ilkadim  2015-09-08 15:08:23  403531107   \n...                      ...                  ...        ...   \n999995  Gaziantep/Şehitkamil  2019-01-31 15:47:21  547156206   \n999996  Gaziantep/Şehitkamil  2019-01-31 15:47:21  547160265   \n999997  Gaziantep/Şehitkamil  2019-01-31 15:47:21  547168209   \n999998  Gaziantep/Şehitkamil  2019-01-31 15:47:21  547172655   \n999999  Gaziantep/Şehitkamil  2019-01-31 15:47:21  547176522   \n\n                 IslemTarih  IslemTutar  ...  Genel Nüfus   Nüfus Yoğunluğu  \\\n0       2015-09-18 14:35:04        5.00  ...   8.167 Kişi  371,23 Kişi/km^2   \n1       2019-04-13 13:31:00       32.70  ...   8.167 Kişi  371,23 Kişi/km^2   \n2       2019-04-13 19:30:00      998.05  ...   8.167 Kişi  371,23 Kişi/km^2   \n3       2019-04-14 13:52:00      105.75  ...   8.167 Kişi  371,23 Kişi/km^2   \n4       2019-04-14 15:09:00      163.00  ...   8.167 Kişi  371,23 Kişi/km^2   \n...                     ...         ...  ...          ...               ...   \n999995  2023-06-09 21:35:00       16.50  ...  14.425 Kişi  133,56 Kişi/km^2   \n999996  2023-06-09 21:44:00       77.00  ...  14.425 Kişi  133,56 Kişi/km^2   \n999997  2023-06-09 22:01:00       37.00  ...  14.425 Kişi  133,56 Kişi/km^2   \n999998  2023-06-09 22:15:00       80.00  ...  14.425 Kişi  133,56 Kişi/km^2   \n999999  2023-06-09 22:21:00       18.00  ...  14.425 Kişi  133,56 Kişi/km^2   \n\n       Genc_Orani Orta_Orani Yasli_Orani  Kadin_Orani Erkek_Orani  \\\n0            50.0       21.0        29.0         49.0        51.0   \n1            50.0       21.0        29.0         49.0        51.0   \n2            50.0       21.0        29.0         49.0        51.0   \n3            50.0       21.0        29.0         49.0        51.0   \n4            50.0       21.0        29.0         49.0        51.0   \n...           ...        ...         ...          ...         ...   \n999995      945.0      649.0        96.0         50.0        50.0   \n999996      945.0      649.0        96.0         50.0        50.0   \n999997      945.0      649.0        96.0         50.0        50.0   \n999998      945.0      649.0        96.0         50.0        50.0   \n999999      945.0      649.0        96.0         50.0        50.0   \n\n        Universite_Ustu_Orani  Ilk_Orta_Lise_Orani  Diger_Egitim_Orani  \n0                        10.0                 16.0                72.0  \n1                        10.0                 16.0                72.0  \n2                        10.0                 16.0                72.0  \n3                        10.0                 16.0                72.0  \n4                        10.0                 16.0                72.0  \n...                       ...                  ...                 ...  \n999995                   15.0                  0.0                 0.0  \n999996                   15.0                  0.0                 0.0  \n999997                   15.0                  0.0                 0.0  \n999998                   15.0                  0.0                 0.0  \n999999                   15.0                  0.0                 0.0  \n\n[1000000 rows x 23 columns]",
      "text/html": "<div>\n<style scoped>\n    .dataframe tbody tr th:only-of-type {\n        vertical-align: middle;\n    }\n\n    .dataframe tbody tr th {\n        vertical-align: top;\n    }\n\n    .dataframe thead th {\n        text-align: right;\n    }\n</style>\n<table border=\"1\" class=\"dataframe\">\n  <thead>\n    <tr style=\"text-align: right;\">\n      <th></th>\n      <th>id</th>\n      <th>Marka</th>\n      <th>IsyeriTipi</th>\n      <th>UyeDurum</th>\n      <th>UyeAdres</th>\n      <th>Sehir</th>\n      <th>UyeAktivasyonTarih</th>\n      <th>IslemID</th>\n      <th>IslemTarih</th>\n      <th>IslemTutar</th>\n      <th>...</th>\n      <th>Genel Nüfus</th>\n      <th>Nüfus Yoğunluğu</th>\n      <th>Genc_Orani</th>\n      <th>Orta_Orani</th>\n      <th>Yasli_Orani</th>\n      <th>Kadin_Orani</th>\n      <th>Erkek_Orani</th>\n      <th>Universite_Ustu_Orani</th>\n      <th>Ilk_Orta_Lise_Orani</th>\n      <th>Diger_Egitim_Orani</th>\n    </tr>\n  </thead>\n  <tbody>\n    <tr>\n      <th>0</th>\n      <td>301002470</td>\n      <td>Kzar kü pazar</td>\n      <td>Tüzel Şirket</td>\n      <td>Aktif</td>\n      <td>KALE MAH. GAZİ CAD. 82 C İLKADIM/ SAMSUN</td>\n      <td>Samsun/Ilkadim</td>\n      <td>2015-09-08 15:08:23</td>\n      <td>401003136</td>\n      <td>2015-09-18 14:35:04</td>\n      <td>5.00</td>\n      <td>...</td>\n      <td>8.167 Kişi</td>\n      <td>371,23 Kişi/km^2</td>\n      <td>50.0</td>\n      <td>21.0</td>\n      <td>29.0</td>\n      <td>49.0</td>\n      <td>51.0</td>\n      <td>10.0</td>\n      <td>16.0</td>\n      <td>72.0</td>\n    </tr>\n    <tr>\n      <th>1</th>\n      <td>301002470</td>\n      <td>Kzar kü pazar</td>\n      <td>Tüzel Şirket</td>\n      <td>Aktif</td>\n      <td>KALE MAH. GAZİ CAD. 82 C İLKADIM/ SAMSUN</td>\n      <td>Samsun/Ilkadim</td>\n      <td>2015-09-08 15:08:23</td>\n      <td>403526702</td>\n      <td>2019-04-13 13:31:00</td>\n      <td>32.70</td>\n      <td>...</td>\n      <td>8.167 Kişi</td>\n      <td>371,23 Kişi/km^2</td>\n      <td>50.0</td>\n      <td>21.0</td>\n      <td>29.0</td>\n      <td>49.0</td>\n      <td>51.0</td>\n      <td>10.0</td>\n      <td>16.0</td>\n      <td>72.0</td>\n    </tr>\n    <tr>\n      <th>2</th>\n      <td>301002470</td>\n      <td>Kzar kü pazar</td>\n      <td>Tüzel Şirket</td>\n      <td>Aktif</td>\n      <td>KALE MAH. GAZİ CAD. 82 C İLKADIM/ SAMSUN</td>\n      <td>Samsun/Ilkadim</td>\n      <td>2015-09-08 15:08:23</td>\n      <td>403529006</td>\n      <td>2019-04-13 19:30:00</td>\n      <td>998.05</td>\n      <td>...</td>\n      <td>8.167 Kişi</td>\n      <td>371,23 Kişi/km^2</td>\n      <td>50.0</td>\n      <td>21.0</td>\n      <td>29.0</td>\n      <td>49.0</td>\n      <td>51.0</td>\n      <td>10.0</td>\n      <td>16.0</td>\n      <td>72.0</td>\n    </tr>\n    <tr>\n      <th>3</th>\n      <td>301002470</td>\n      <td>Kzar kü pazar</td>\n      <td>Tüzel Şirket</td>\n      <td>Aktif</td>\n      <td>KALE MAH. GAZİ CAD. 82 C İLKADIM/ SAMSUN</td>\n      <td>Samsun/Ilkadim</td>\n      <td>2015-09-08 15:08:23</td>\n      <td>403530803</td>\n      <td>2019-04-14 13:52:00</td>\n      <td>105.75</td>\n      <td>...</td>\n      <td>8.167 Kişi</td>\n      <td>371,23 Kişi/km^2</td>\n      <td>50.0</td>\n      <td>21.0</td>\n      <td>29.0</td>\n      <td>49.0</td>\n      <td>51.0</td>\n      <td>10.0</td>\n      <td>16.0</td>\n      <td>72.0</td>\n    </tr>\n    <tr>\n      <th>4</th>\n      <td>301002470</td>\n      <td>Kzar kü pazar</td>\n      <td>Tüzel Şirket</td>\n      <td>Aktif</td>\n      <td>KALE MAH. GAZİ CAD. 82 C İLKADIM/ SAMSUN</td>\n      <td>Samsun/Ilkadim</td>\n      <td>2015-09-08 15:08:23</td>\n      <td>403531107</td>\n      <td>2019-04-14 15:09:00</td>\n      <td>163.00</td>\n      <td>...</td>\n      <td>8.167 Kişi</td>\n      <td>371,23 Kişi/km^2</td>\n      <td>50.0</td>\n      <td>21.0</td>\n      <td>29.0</td>\n      <td>49.0</td>\n      <td>51.0</td>\n      <td>10.0</td>\n      <td>16.0</td>\n      <td>72.0</td>\n    </tr>\n    <tr>\n      <th>...</th>\n      <td>...</td>\n      <td>...</td>\n      <td>...</td>\n      <td>...</td>\n      <td>...</td>\n      <td>...</td>\n      <td>...</td>\n      <td>...</td>\n      <td>...</td>\n      <td>...</td>\n      <td>...</td>\n      <td>...</td>\n      <td>...</td>\n      <td>...</td>\n      <td>...</td>\n      <td>...</td>\n      <td>...</td>\n      <td>...</td>\n      <td>...</td>\n      <td>...</td>\n      <td>...</td>\n    </tr>\n    <tr>\n      <th>999995</th>\n      <td>301033049</td>\n      <td>Öket özmarket</td>\n      <td>Şahıs Şirketi</td>\n      <td>Pasif</td>\n      <td>ZEYTİNLİ MAH. 79114 NOLU CAD. NO: 1 İÇ KAPI NO...</td>\n      <td>Gaziantep/Şehitkamil</td>\n      <td>2019-01-31 15:47:21</td>\n      <td>547156206</td>\n      <td>2023-06-09 21:35:00</td>\n      <td>16.50</td>\n      <td>...</td>\n      <td>14.425 Kişi</td>\n      <td>133,56 Kişi/km^2</td>\n      <td>945.0</td>\n      <td>649.0</td>\n      <td>96.0</td>\n      <td>50.0</td>\n      <td>50.0</td>\n      <td>15.0</td>\n      <td>0.0</td>\n      <td>0.0</td>\n    </tr>\n    <tr>\n      <th>999996</th>\n      <td>301033049</td>\n      <td>Öket özmarket</td>\n      <td>Şahıs Şirketi</td>\n      <td>Pasif</td>\n      <td>ZEYTİNLİ MAH. 79114 NOLU CAD. NO: 1 İÇ KAPI NO...</td>\n      <td>Gaziantep/Şehitkamil</td>\n      <td>2019-01-31 15:47:21</td>\n      <td>547160265</td>\n      <td>2023-06-09 21:44:00</td>\n      <td>77.00</td>\n      <td>...</td>\n      <td>14.425 Kişi</td>\n      <td>133,56 Kişi/km^2</td>\n      <td>945.0</td>\n      <td>649.0</td>\n      <td>96.0</td>\n      <td>50.0</td>\n      <td>50.0</td>\n      <td>15.0</td>\n      <td>0.0</td>\n      <td>0.0</td>\n    </tr>\n    <tr>\n      <th>999997</th>\n      <td>301033049</td>\n      <td>Öket özmarket</td>\n      <td>Şahıs Şirketi</td>\n      <td>Pasif</td>\n      <td>ZEYTİNLİ MAH. 79114 NOLU CAD. NO: 1 İÇ KAPI NO...</td>\n      <td>Gaziantep/Şehitkamil</td>\n      <td>2019-01-31 15:47:21</td>\n      <td>547168209</td>\n      <td>2023-06-09 22:01:00</td>\n      <td>37.00</td>\n      <td>...</td>\n      <td>14.425 Kişi</td>\n      <td>133,56 Kişi/km^2</td>\n      <td>945.0</td>\n      <td>649.0</td>\n      <td>96.0</td>\n      <td>50.0</td>\n      <td>50.0</td>\n      <td>15.0</td>\n      <td>0.0</td>\n      <td>0.0</td>\n    </tr>\n    <tr>\n      <th>999998</th>\n      <td>301033049</td>\n      <td>Öket özmarket</td>\n      <td>Şahıs Şirketi</td>\n      <td>Pasif</td>\n      <td>ZEYTİNLİ MAH. 79114 NOLU CAD. NO: 1 İÇ KAPI NO...</td>\n      <td>Gaziantep/Şehitkamil</td>\n      <td>2019-01-31 15:47:21</td>\n      <td>547172655</td>\n      <td>2023-06-09 22:15:00</td>\n      <td>80.00</td>\n      <td>...</td>\n      <td>14.425 Kişi</td>\n      <td>133,56 Kişi/km^2</td>\n      <td>945.0</td>\n      <td>649.0</td>\n      <td>96.0</td>\n      <td>50.0</td>\n      <td>50.0</td>\n      <td>15.0</td>\n      <td>0.0</td>\n      <td>0.0</td>\n    </tr>\n    <tr>\n      <th>999999</th>\n      <td>301033049</td>\n      <td>Öket özmarket</td>\n      <td>Şahıs Şirketi</td>\n      <td>Pasif</td>\n      <td>ZEYTİNLİ MAH. 79114 NOLU CAD. NO: 1 İÇ KAPI NO...</td>\n      <td>Gaziantep/Şehitkamil</td>\n      <td>2019-01-31 15:47:21</td>\n      <td>547176522</td>\n      <td>2023-06-09 22:21:00</td>\n      <td>18.00</td>\n      <td>...</td>\n      <td>14.425 Kişi</td>\n      <td>133,56 Kişi/km^2</td>\n      <td>945.0</td>\n      <td>649.0</td>\n      <td>96.0</td>\n      <td>50.0</td>\n      <td>50.0</td>\n      <td>15.0</td>\n      <td>0.0</td>\n      <td>0.0</td>\n    </tr>\n  </tbody>\n</table>\n<p>1000000 rows × 23 columns</p>\n</div>"
     },
     "execution_count": 411,
     "metadata": {},
     "output_type": "execute_result"
    }
   ],
   "source": [
    "df_in_ses"
   ],
   "metadata": {
    "collapsed": false,
    "ExecuteTime": {
     "end_time": "2023-10-30T10:54:49.163523Z",
     "start_time": "2023-10-30T10:54:48.560954Z"
    }
   },
   "id": "94d29d0c4d7d7c9"
  },
  {
   "cell_type": "markdown",
   "source": [
    "#### Yeni veriler ile birlikte 23 kolonlu bir veri seti oldu.\n",
    "Data columns (total 23 columns):\n",
    " #   Column                 Non-Null Count    Dtype  \n",
    "---  ------                 --------------    -----  \n",
    " 0   id                     1000000 non-null  int64  \n",
    " 1   Marka                  1000000 non-null  object \n",
    " 2   IsyeriTipi             1000000 non-null  object \n",
    " 3   UyeDurum               1000000 non-null  object \n",
    " 4   UyeAdres               1000000 non-null  object \n",
    " 5   Sehir                  1000000 non-null  object \n",
    " 6   UyeAktivasyonTarih     1000000 non-null  object \n",
    " 7   IslemID                1000000 non-null  int64  \n",
    " 8   IslemTarih             1000000 non-null  object \n",
    " 9   IslemTutar             1000000 non-null  float64\n",
    " 10  Tercih                 1000000 non-null  object \n",
    " 11  Versiyon               23643 non-null    object \n",
    " 12  SurumTarih             23643 non-null    object \n",
    " 13  Genel Nüfus            1000000 non-null  object \n",
    " 14  Nüfus Yoğunluğu        1000000 non-null  object \n",
    " 15  Genc_Orani             1000000 non-null  float64\n",
    " 16  Orta_Orani             1000000 non-null  object \n",
    " 17  Yasli_Orani            1000000 non-null  float64\n",
    " 18  Kadin_Orani            1000000 non-null  float64\n",
    " 19  Erkek_Orani            1000000 non-null  float64\n",
    " 20  Universite_Ustu_Orani  1000000 non-null  float64\n",
    " 21  Ilk_Orta_Lise_Orani    1000000 non-null  float64\n",
    " 22  Diger_Egitim_Orani     1000000 non-null  float64"
   ],
   "metadata": {
    "collapsed": false
   },
   "id": "398b44a3d3dd7475"
  },
  {
   "cell_type": "markdown",
   "source": [
    "### 1. aktif müşteriyi ödüllendir.\n",
    "Bu müşteri 2015'ten beri aktif ve belirli aralıklarla alışveriş yapmış. \n",
    "Sadakat programları veya indirimlerle bu tür müşterileri ödüllendirebiliriz vs bişiler."
   ],
   "metadata": {
    "collapsed": false
   },
   "id": "beeb70d377b9bdd9"
  },
  {
   "cell_type": "code",
   "execution_count": 419,
   "outputs": [
    {
     "name": "stdout",
     "output_type": "stream",
     "text": [
      "          id          Marka                 min                 max  \\\n",
      "0  301002470  Kzar kü pazar 2015-09-18 14:35:04 2023-10-26 10:47:00   \n",
      "6  301009682  Wtma waarıtma 2016-05-19 10:29:01 2023-10-26 16:39:00   \n",
      "\n",
      "            duration  \n",
      "0 2959 days 20:11:56  \n",
      "6 2716 days 06:09:59  \n"
     ]
    }
   ],
   "source": [
    "grouped['duration'] = grouped['max'] - grouped['min']\n",
    "sorted_df = grouped.sort_values(by='duration', ascending=False)\n",
    "print(sorted_df.head(2))  # Alışveriş süresi en fazla olan ilk 2 müşteri\n"
   ],
   "metadata": {
    "collapsed": false,
    "ExecuteTime": {
     "end_time": "2023-10-30T10:59:51.558996Z",
     "start_time": "2023-10-30T10:59:51.543900Z"
    }
   },
   "id": "94e234c35acdb0ef"
  },
  {
   "cell_type": "markdown",
   "source": [
    "### 2. Uzun Zamandır Alışveriş Yapmayanları Geri Kazan Kampanyası Olabilir.."
   ],
   "metadata": {
    "collapsed": false
   },
   "id": "3980f33e3faee471"
  },
  {
   "cell_type": "code",
   "execution_count": 422,
   "outputs": [
    {
     "data": {
      "text/plain": "           id          IslemTarih  days_since_last_purchase\n19  301025251 2018-07-24 11:03:37                      1924\n11  301018129 2018-09-15 15:53:45                      1870\n30  301029860 2019-11-28 14:26:47                      1431\n7   301010389 2020-05-10 11:09:14                      1268\n37  301032496 2020-11-25 22:10:00                      1068\n1   301002583 2020-12-23 12:28:28                      1041\n25  301026648 2021-04-30 17:08:00                       912\n27  301026958 2021-05-04 21:19:38                       908\n33  301031149 2021-05-19 11:54:00                       894\n3   301006906 2022-09-12 18:30:00                       412\n4   301009366 2022-09-19 18:01:00                       405\n29  301029464 2022-11-14 11:07:00                       350",
      "text/html": "<div>\n<style scoped>\n    .dataframe tbody tr th:only-of-type {\n        vertical-align: middle;\n    }\n\n    .dataframe tbody tr th {\n        vertical-align: top;\n    }\n\n    .dataframe thead th {\n        text-align: right;\n    }\n</style>\n<table border=\"1\" class=\"dataframe\">\n  <thead>\n    <tr style=\"text-align: right;\">\n      <th></th>\n      <th>id</th>\n      <th>IslemTarih</th>\n      <th>days_since_last_purchase</th>\n    </tr>\n  </thead>\n  <tbody>\n    <tr>\n      <th>19</th>\n      <td>301025251</td>\n      <td>2018-07-24 11:03:37</td>\n      <td>1924</td>\n    </tr>\n    <tr>\n      <th>11</th>\n      <td>301018129</td>\n      <td>2018-09-15 15:53:45</td>\n      <td>1870</td>\n    </tr>\n    <tr>\n      <th>30</th>\n      <td>301029860</td>\n      <td>2019-11-28 14:26:47</td>\n      <td>1431</td>\n    </tr>\n    <tr>\n      <th>7</th>\n      <td>301010389</td>\n      <td>2020-05-10 11:09:14</td>\n      <td>1268</td>\n    </tr>\n    <tr>\n      <th>37</th>\n      <td>301032496</td>\n      <td>2020-11-25 22:10:00</td>\n      <td>1068</td>\n    </tr>\n    <tr>\n      <th>1</th>\n      <td>301002583</td>\n      <td>2020-12-23 12:28:28</td>\n      <td>1041</td>\n    </tr>\n    <tr>\n      <th>25</th>\n      <td>301026648</td>\n      <td>2021-04-30 17:08:00</td>\n      <td>912</td>\n    </tr>\n    <tr>\n      <th>27</th>\n      <td>301026958</td>\n      <td>2021-05-04 21:19:38</td>\n      <td>908</td>\n    </tr>\n    <tr>\n      <th>33</th>\n      <td>301031149</td>\n      <td>2021-05-19 11:54:00</td>\n      <td>894</td>\n    </tr>\n    <tr>\n      <th>3</th>\n      <td>301006906</td>\n      <td>2022-09-12 18:30:00</td>\n      <td>412</td>\n    </tr>\n    <tr>\n      <th>4</th>\n      <td>301009366</td>\n      <td>2022-09-19 18:01:00</td>\n      <td>405</td>\n    </tr>\n    <tr>\n      <th>29</th>\n      <td>301029464</td>\n      <td>2022-11-14 11:07:00</td>\n      <td>350</td>\n    </tr>\n  </tbody>\n</table>\n</div>"
     },
     "execution_count": 422,
     "metadata": {},
     "output_type": "execute_result"
    }
   ],
   "source": [
    "last_purchase = df_in_ses.groupby('id')['IslemTarih'].max().reset_index()\n",
    "\n",
    "last_purchase['days_since_last_purchase'] = (datetime.now() - last_purchase['IslemTarih']).dt.days\n",
    "\n",
    "# 180 günden daha uzun süre alışveriş yapmamış müşteriler\n",
    "inactive_customers = last_purchase[last_purchase['days_since_last_purchase'] > 180].sort_values(by='days_since_last_purchase', ascending=False)\n",
    "\n",
    "inactive_customers"
   ],
   "metadata": {
    "collapsed": false,
    "ExecuteTime": {
     "end_time": "2023-10-30T11:01:39.179254Z",
     "start_time": "2023-10-30T11:01:39.098232Z"
    }
   },
   "id": "e4d15059014ce6e5"
  },
  {
   "cell_type": "markdown",
   "source": [
    "### 3. Az Alışverişi olan Markaları Teşvik Et.\n",
    "#### 3.1 Alışveriş sıklığına göre(frekans alcaz):\n"
   ],
   "metadata": {
    "collapsed": false
   },
   "id": "3e1ffc17809ea78d"
  },
  {
   "cell_type": "code",
   "execution_count": 426,
   "outputs": [
    {
     "data": {
      "text/plain": "            Marka  Total_Transactions\n21  Ka.ş kiva a.ş                   2\n19  Hkek haan kek                   4\n26  Llım leazılım                   5\n14    Ezgi ezezgi                  10\n32  Teri tejileri                 143",
      "text/html": "<div>\n<style scoped>\n    .dataframe tbody tr th:only-of-type {\n        vertical-align: middle;\n    }\n\n    .dataframe tbody tr th {\n        vertical-align: top;\n    }\n\n    .dataframe thead th {\n        text-align: right;\n    }\n</style>\n<table border=\"1\" class=\"dataframe\">\n  <thead>\n    <tr style=\"text-align: right;\">\n      <th></th>\n      <th>Marka</th>\n      <th>Total_Transactions</th>\n    </tr>\n  </thead>\n  <tbody>\n    <tr>\n      <th>21</th>\n      <td>Ka.ş kiva a.ş</td>\n      <td>2</td>\n    </tr>\n    <tr>\n      <th>19</th>\n      <td>Hkek haan kek</td>\n      <td>4</td>\n    </tr>\n    <tr>\n      <th>26</th>\n      <td>Llım leazılım</td>\n      <td>5</td>\n    </tr>\n    <tr>\n      <th>14</th>\n      <td>Ezgi ezezgi</td>\n      <td>10</td>\n    </tr>\n    <tr>\n      <th>32</th>\n      <td>Teri tejileri</td>\n      <td>143</td>\n    </tr>\n  </tbody>\n</table>\n</div>"
     },
     "execution_count": 426,
     "metadata": {},
     "output_type": "execute_result"
    }
   ],
   "source": [
    "az_alisveris_yapilan_markalar = df_in_ses.groupby('Marka').size().reset_index(name='Total_Transactions').sort_values(by='Total_Transactions').head(5)\n",
    "\n",
    "az_alisveris_yapilan_markalar\n"
   ],
   "metadata": {
    "collapsed": false,
    "ExecuteTime": {
     "end_time": "2023-10-30T11:17:26.081806Z",
     "start_time": "2023-10-30T11:17:25.943267Z"
    }
   },
   "id": "445a70c0970fa1e2"
  },
  {
   "cell_type": "markdown",
   "source": [
    "#### 3.2 Toplam Alışveriş Tutarına Göre:"
   ],
   "metadata": {
    "collapsed": false
   },
   "id": "e06b4424cb7da3ea"
  },
  {
   "cell_type": "code",
   "execution_count": 427,
   "outputs": [
    {
     "name": "stdout",
     "output_type": "stream",
     "text": [
      "            Marka  IslemTutar\n",
      "21  Ka.ş kiva a.ş       20.00\n",
      "14    Ezgi ezezgi       35.25\n",
      "26  Llım leazılım      500.00\n",
      "19  Hkek haan kek     1228.17\n",
      "32  Teri tejileri     2044.92\n",
      "38  Örek öz börek   451458.73\n",
      "4   Ayon arvasyon   538330.90\n",
      "2   Alik arncilik   558967.49\n",
      "22  Kayi kol bayi   767724.72\n",
      "27  Mand mad land   804918.38\n"
     ]
    }
   ],
   "source": [
    "# Markalara göre toplam alışveriş tutarı\n",
    "az_tutarli_markalar = df_in_ses.groupby('Marka')['IslemTutar'].sum().reset_index().sort_values(by='IslemTutar').head(10)\n",
    "\n",
    "print(az_tutarli_markalar)"
   ],
   "metadata": {
    "collapsed": false,
    "ExecuteTime": {
     "end_time": "2023-10-30T11:18:17.780783Z",
     "start_time": "2023-10-30T11:18:17.746049Z"
    }
   },
   "id": "fc150ee6f4bf529a"
  },
  {
   "cell_type": "markdown",
   "source": [
    "#### Belki 3.1 ve 3.2 yi harmanlayan bi yaklasım gelistiririz. Yeni bir algoritma .."
   ],
   "metadata": {
    "collapsed": false
   },
   "id": "c6ddb23794b3d9bb"
  },
  {
   "cell_type": "markdown",
   "source": [
    "### 4. Ödeal ın şikayet var gibi yerlerde insanların şikayetlerine bakarak genel kategorisini genişlet."
   ],
   "metadata": {
    "collapsed": false
   },
   "id": "bf3816682fd82abd"
  },
  {
   "cell_type": "markdown",
   "source": [
    "# 5 Yeni Üyelik Kampanyaları yap."
   ],
   "metadata": {
    "collapsed": false
   },
   "id": "4b58fd7a21840a33"
  },
  {
   "cell_type": "code",
   "execution_count": 435,
   "outputs": [
    {
     "name": "stdout",
     "output_type": "stream",
     "text": [
      "               id          Marka    IsyeriTipi UyeDurum  \\\n",
      "300975  301024729  Aüfe ass büfe  Tüzel Şirket    Pasif   \n",
      "300976  301024729  Aüfe ass büfe  Tüzel Şirket    Pasif   \n",
      "300977  301024729  Aüfe ass büfe  Tüzel Şirket    Pasif   \n",
      "300978  301024729  Aüfe ass büfe  Tüzel Şirket    Pasif   \n",
      "300979  301024729  Aüfe ass büfe  Tüzel Şirket    Pasif   \n",
      "\n",
      "                                                 UyeAdres              Sehir  \\\n",
      "300975  MEHMET NESİH ÖZMEN MAH. KESTANE SK. AS CAFE NO...  Istanbul/Güngören   \n",
      "300976  MEHMET NESİH ÖZMEN MAH. KESTANE SK. AS CAFE NO...  Istanbul/Güngören   \n",
      "300977  MEHMET NESİH ÖZMEN MAH. KESTANE SK. AS CAFE NO...  Istanbul/Güngören   \n",
      "300978  MEHMET NESİH ÖZMEN MAH. KESTANE SK. AS CAFE NO...  Istanbul/Güngören   \n",
      "300979  MEHMET NESİH ÖZMEN MAH. KESTANE SK. AS CAFE NO...  Istanbul/Güngören   \n",
      "\n",
      "         UyeAktivasyonTarih    IslemID          IslemTarih  IslemTutar  ...  \\\n",
      "300975  2022-12-10 15:38:46  403674129 2019-05-17 16:30:00         2.5  ...   \n",
      "300976  2022-12-10 15:38:46  403674566 2019-05-17 17:42:00        10.0  ...   \n",
      "300977  2022-12-10 15:38:46  403676403 2019-05-18 08:25:00        13.5  ...   \n",
      "300978  2022-12-10 15:38:46  403676440 2019-05-18 08:59:00        13.5  ...   \n",
      "300979  2022-12-10 15:38:46  403676441 2019-05-18 09:00:00        17.5  ...   \n",
      "\n",
      "        Genel Nüfus   Nüfus Yoğunluğu Genc_Orani Orta_Orani Yasli_Orani  \\\n",
      "300975  16.218 Kişi  506,81 Kişi/km^2       55.0       28.0        17.0   \n",
      "300976  16.218 Kişi  506,81 Kişi/km^2       55.0       28.0        17.0   \n",
      "300977  16.218 Kişi  506,81 Kişi/km^2       55.0       28.0        17.0   \n",
      "300978  16.218 Kişi  506,81 Kişi/km^2       55.0       28.0        17.0   \n",
      "300979  16.218 Kişi  506,81 Kişi/km^2       55.0       28.0        17.0   \n",
      "\n",
      "        Kadin_Orani Erkek_Orani  Universite_Ustu_Orani  Ilk_Orta_Lise_Orani  \\\n",
      "300975         50.0        50.0                   10.0                 21.0   \n",
      "300976         50.0        50.0                   10.0                 21.0   \n",
      "300977         50.0        50.0                   10.0                 21.0   \n",
      "300978         50.0        50.0                   10.0                 21.0   \n",
      "300979         50.0        50.0                   10.0                 21.0   \n",
      "\n",
      "        Diger_Egitim_Orani  \n",
      "300975                70.0  \n",
      "300976                70.0  \n",
      "300977                70.0  \n",
      "300978                70.0  \n",
      "300979                70.0  \n",
      "\n",
      "[5 rows x 23 columns]\n"
     ]
    }
   ],
   "source": [
    "en_son_uye_tarihi = df_in_ses['UyeAktivasyonTarih'].max()\n",
    "\n",
    "yeni_uyeler = df_in_ses[df_in_ses['UyeAktivasyonTarih'] >= en_son_uye_tarihi]\n",
    "\n",
    "print(yeni_uyeler.head(5))\n"
   ],
   "metadata": {
    "collapsed": false,
    "ExecuteTime": {
     "end_time": "2023-10-30T11:23:24.461566Z",
     "start_time": "2023-10-30T11:23:24.330398Z"
    }
   },
   "id": "adc3f07b413ba3db"
  },
  {
   "cell_type": "markdown",
   "source": [
    "#### En son üye olan adamı id den bulabilir miyim bunu anlamak için en son id adresini alıp bunun UyeAktivasyonTarihlerine baktım. 1.ayda aktif üyelik yapılmış dolayısıyla id den belli olmuyor bu işler.."
   ],
   "metadata": {
    "collapsed": false
   },
   "id": "6f7e960d977c3fbb"
  },
  {
   "cell_type": "code",
   "execution_count": 448,
   "outputs": [
    {
     "name": "stdout",
     "output_type": "stream",
     "text": [
      "Son IDli üye: 301033049.\\Bu üyenin aktivasyon tarihi:\n"
     ]
    },
    {
     "data": {
      "text/plain": "'2019-01-31 15:47:21'"
     },
     "execution_count": 448,
     "metadata": {},
     "output_type": "execute_result"
    }
   ],
   "source": [
    "son_id = max(df_in_ses['id'])\n",
    "print(f'Son IDli üye: {son_id}.\\Bu üyenin aktivasyon tarihi:')\n",
    "a = df_in_ses[df_in_ses['id']==son_id].UyeAktivasyonTarih\n",
    "a.values[0]"
   ],
   "metadata": {
    "collapsed": false,
    "ExecuteTime": {
     "end_time": "2023-10-30T11:29:56.429600Z",
     "start_time": "2023-10-30T11:29:56.372748Z"
    }
   },
   "id": "8d924421d8a93f94"
  },
  {
   "cell_type": "markdown",
   "source": [
    "# Kampanya Önerileri\n",
    "\n",
    "### Yerelleşme Stratejisi:\n",
    "\n",
    "Sehir özelliği kullanılarak belirli bir şehirdeki tüketicilere özel kampanyalar tasarlanabilir. Örneğin: İstanbul'daki tüketicilere özel bir indirim veya Ankara'daki tüketicilere yönelik özel bir ürün tanıtımı.\n",
    "\n",
    "### Yaş Grubu Odaklı Kampanyalar:\n",
    "\n",
    "Genc_Orani, Orta_Orani ve Yasli_Orani özelliklerine dayanarak belirli yaş gruplarına yönelik kampanyalar oluşturabilirsiniz. Örneğin: Genç nüfusu yüksek bir şehirde gençlere yönelik moda veya teknoloji ürünleri tanıtımı. Ya da yaşlı nüfusu yüksek bölgelerde sağlık ve konfora yönelik ürünlerin tanıtımı.\n",
    "\n",
    "### Cinsiyet Odaklı Kampanyalar:\n",
    "\n",
    "Kadin_Orani ve Erkek_Orani özellikleri kullanarak cinsiyete özel kampanyalar düzenlenebilir. Örneğin: Kadın nüfusu yüksek bölgelerde kadınlara özel kozmetik ürün tanıtımları veya erkek nüfusu yüksek bölgelerde erkeklere özel hobi ürünleri tanıtımları.\n",
    "\n",
    "### Eğitim Seviyesine Göre Ürün Tanıtımları:\n",
    "\n",
    "Universite_Ustu_Orani, Ilk_Orta_Lise_Orani ve Diger_Egitim_Orani özellikleriyle eğitim seviyesine göre kampanyalar oluşturabilirsiniz. Örneğin: Üniversite ve üzeri eğitim oranı yüksek bölgelerde bilimsel kitaplar veya profesyonel eğitim materyallerinin tanıtımı.\n",
    "\n",
    "### Yeni Üye Kampanyaları:\n",
    "\n",
    "UyeAktivasyonTarih özelliği kullanılarak son dönemde üye olanlara özel indirimler veya hoş geldin paketleri sunabilirsiniz.\n",
    "\n",
    "### Özel Tercihlere Göre Kampanyalar:\n",
    "\n",
    "Tercih özelliğiyle, kullanıcıların belirli bir ürün veya hizmete olan ilgisine göre kişiselleştirilmiş kampanyalar oluşturabilirsiniz.\n",
    "\n",
    "### Versiyon Güncellemeleri:\n",
    "\n",
    "Versiyon ve SurumTarih özellikleriyle, belirli bir ürünün yeni sürümünü tanıtarak, eski sürümü kullananlara özel indirimler sunabilirsiniz."
   ],
   "metadata": {
    "collapsed": false
   },
   "id": "f79d6073ba0f46d7"
  },
  {
   "cell_type": "code",
   "execution_count": null,
   "outputs": [],
   "source": [],
   "metadata": {
    "collapsed": false
   },
   "id": "ead678df691fc5cf"
  }
 ],
 "metadata": {
  "kernelspec": {
   "display_name": "Python 3",
   "language": "python",
   "name": "python3"
  },
  "language_info": {
   "codemirror_mode": {
    "name": "ipython",
    "version": 2
   },
   "file_extension": ".py",
   "mimetype": "text/x-python",
   "name": "python",
   "nbconvert_exporter": "python",
   "pygments_lexer": "ipython2",
   "version": "2.7.6"
  }
 },
 "nbformat": 4,
 "nbformat_minor": 5
}
